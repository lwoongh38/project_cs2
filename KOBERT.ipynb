{
  "nbformat": 4,
  "nbformat_minor": 0,
  "metadata": {
    "colab": {
      "name": "KOBERT_instagram_ad_classification.ipynb",
      "provenance": [],
      "collapsed_sections": [],
      "toc_visible": true
    },
    "kernelspec": {
      "name": "python3",
      "display_name": "Python 3"
    },
    "language_info": {
      "name": "python"
    },
    "widgets": {
      "application/vnd.jupyter.widget-state+json": {
        "76e1dcdaf1f04d4cb9671cc236bb8cce": {
          "model_module": "@jupyter-widgets/controls",
          "model_name": "HBoxModel",
          "state": {
            "_view_name": "HBoxView",
            "_dom_classes": [],
            "_model_name": "HBoxModel",
            "_view_module": "@jupyter-widgets/controls",
            "_model_module_version": "1.5.0",
            "_view_count": null,
            "_view_module_version": "1.5.0",
            "box_style": "",
            "layout": "IPY_MODEL_28cf5fd8f2eb4fe09fc3e6bebf4554f1",
            "_model_module": "@jupyter-widgets/controls",
            "children": [
              "IPY_MODEL_41752f1265604f89bf04e29b506c3402",
              "IPY_MODEL_633bbd17db75424184f5191f585c09e8"
            ]
          }
        },
        "28cf5fd8f2eb4fe09fc3e6bebf4554f1": {
          "model_module": "@jupyter-widgets/base",
          "model_name": "LayoutModel",
          "state": {
            "_view_name": "LayoutView",
            "grid_template_rows": null,
            "right": null,
            "justify_content": null,
            "_view_module": "@jupyter-widgets/base",
            "overflow": null,
            "_model_module_version": "1.2.0",
            "_view_count": null,
            "flex_flow": null,
            "width": null,
            "min_width": null,
            "border": null,
            "align_items": null,
            "bottom": null,
            "_model_module": "@jupyter-widgets/base",
            "top": null,
            "grid_column": null,
            "overflow_y": null,
            "overflow_x": null,
            "grid_auto_flow": null,
            "grid_area": null,
            "grid_template_columns": null,
            "flex": null,
            "_model_name": "LayoutModel",
            "justify_items": null,
            "grid_row": null,
            "max_height": null,
            "align_content": null,
            "visibility": null,
            "align_self": null,
            "height": null,
            "min_height": null,
            "padding": null,
            "grid_auto_rows": null,
            "grid_gap": null,
            "max_width": null,
            "order": null,
            "_view_module_version": "1.2.0",
            "grid_template_areas": null,
            "object_position": null,
            "object_fit": null,
            "grid_auto_columns": null,
            "margin": null,
            "display": null,
            "left": null
          }
        },
        "41752f1265604f89bf04e29b506c3402": {
          "model_module": "@jupyter-widgets/controls",
          "model_name": "FloatProgressModel",
          "state": {
            "_view_name": "ProgressView",
            "style": "IPY_MODEL_eafac5c83a9742e9bebe0ddc07945c06",
            "_dom_classes": [],
            "description": "Downloading: 100%",
            "_model_name": "FloatProgressModel",
            "bar_style": "success",
            "max": 371391,
            "_view_module": "@jupyter-widgets/controls",
            "_model_module_version": "1.5.0",
            "value": 371391,
            "_view_count": null,
            "_view_module_version": "1.5.0",
            "orientation": "horizontal",
            "min": 0,
            "description_tooltip": null,
            "_model_module": "@jupyter-widgets/controls",
            "layout": "IPY_MODEL_d60e822fcf394a98b92cc542c97ac8f5"
          }
        },
        "633bbd17db75424184f5191f585c09e8": {
          "model_module": "@jupyter-widgets/controls",
          "model_name": "HTMLModel",
          "state": {
            "_view_name": "HTMLView",
            "style": "IPY_MODEL_ae09360b470f46068aaf252271c9af83",
            "_dom_classes": [],
            "description": "",
            "_model_name": "HTMLModel",
            "placeholder": "​",
            "_view_module": "@jupyter-widgets/controls",
            "_model_module_version": "1.5.0",
            "value": " 371k/371k [00:03&lt;00:00, 103kB/s]",
            "_view_count": null,
            "_view_module_version": "1.5.0",
            "description_tooltip": null,
            "_model_module": "@jupyter-widgets/controls",
            "layout": "IPY_MODEL_172d7a62285b4aa3beae59a55684f723"
          }
        },
        "eafac5c83a9742e9bebe0ddc07945c06": {
          "model_module": "@jupyter-widgets/controls",
          "model_name": "ProgressStyleModel",
          "state": {
            "_view_name": "StyleView",
            "_model_name": "ProgressStyleModel",
            "description_width": "initial",
            "_view_module": "@jupyter-widgets/base",
            "_model_module_version": "1.5.0",
            "_view_count": null,
            "_view_module_version": "1.2.0",
            "bar_color": null,
            "_model_module": "@jupyter-widgets/controls"
          }
        },
        "d60e822fcf394a98b92cc542c97ac8f5": {
          "model_module": "@jupyter-widgets/base",
          "model_name": "LayoutModel",
          "state": {
            "_view_name": "LayoutView",
            "grid_template_rows": null,
            "right": null,
            "justify_content": null,
            "_view_module": "@jupyter-widgets/base",
            "overflow": null,
            "_model_module_version": "1.2.0",
            "_view_count": null,
            "flex_flow": null,
            "width": null,
            "min_width": null,
            "border": null,
            "align_items": null,
            "bottom": null,
            "_model_module": "@jupyter-widgets/base",
            "top": null,
            "grid_column": null,
            "overflow_y": null,
            "overflow_x": null,
            "grid_auto_flow": null,
            "grid_area": null,
            "grid_template_columns": null,
            "flex": null,
            "_model_name": "LayoutModel",
            "justify_items": null,
            "grid_row": null,
            "max_height": null,
            "align_content": null,
            "visibility": null,
            "align_self": null,
            "height": null,
            "min_height": null,
            "padding": null,
            "grid_auto_rows": null,
            "grid_gap": null,
            "max_width": null,
            "order": null,
            "_view_module_version": "1.2.0",
            "grid_template_areas": null,
            "object_position": null,
            "object_fit": null,
            "grid_auto_columns": null,
            "margin": null,
            "display": null,
            "left": null
          }
        },
        "ae09360b470f46068aaf252271c9af83": {
          "model_module": "@jupyter-widgets/controls",
          "model_name": "DescriptionStyleModel",
          "state": {
            "_view_name": "StyleView",
            "_model_name": "DescriptionStyleModel",
            "description_width": "",
            "_view_module": "@jupyter-widgets/base",
            "_model_module_version": "1.5.0",
            "_view_count": null,
            "_view_module_version": "1.2.0",
            "_model_module": "@jupyter-widgets/controls"
          }
        },
        "172d7a62285b4aa3beae59a55684f723": {
          "model_module": "@jupyter-widgets/base",
          "model_name": "LayoutModel",
          "state": {
            "_view_name": "LayoutView",
            "grid_template_rows": null,
            "right": null,
            "justify_content": null,
            "_view_module": "@jupyter-widgets/base",
            "overflow": null,
            "_model_module_version": "1.2.0",
            "_view_count": null,
            "flex_flow": null,
            "width": null,
            "min_width": null,
            "border": null,
            "align_items": null,
            "bottom": null,
            "_model_module": "@jupyter-widgets/base",
            "top": null,
            "grid_column": null,
            "overflow_y": null,
            "overflow_x": null,
            "grid_auto_flow": null,
            "grid_area": null,
            "grid_template_columns": null,
            "flex": null,
            "_model_name": "LayoutModel",
            "justify_items": null,
            "grid_row": null,
            "max_height": null,
            "align_content": null,
            "visibility": null,
            "align_self": null,
            "height": null,
            "min_height": null,
            "padding": null,
            "grid_auto_rows": null,
            "grid_gap": null,
            "max_width": null,
            "order": null,
            "_view_module_version": "1.2.0",
            "grid_template_areas": null,
            "object_position": null,
            "object_fit": null,
            "grid_auto_columns": null,
            "margin": null,
            "display": null,
            "left": null
          }
        },
        "05f7397ce73b4608af5846c71cf8e7d0": {
          "model_module": "@jupyter-widgets/controls",
          "model_name": "HBoxModel",
          "state": {
            "_view_name": "HBoxView",
            "_dom_classes": [],
            "_model_name": "HBoxModel",
            "_view_module": "@jupyter-widgets/controls",
            "_model_module_version": "1.5.0",
            "_view_count": null,
            "_view_module_version": "1.5.0",
            "box_style": "",
            "layout": "IPY_MODEL_ca507dc6fca542cab2e50cc40f549ec3",
            "_model_module": "@jupyter-widgets/controls",
            "children": [
              "IPY_MODEL_e28385f38aa942f6b2367fb331d873cd",
              "IPY_MODEL_55000b0ede3f4f1aa38bfa855a5a8d96"
            ]
          }
        },
        "ca507dc6fca542cab2e50cc40f549ec3": {
          "model_module": "@jupyter-widgets/base",
          "model_name": "LayoutModel",
          "state": {
            "_view_name": "LayoutView",
            "grid_template_rows": null,
            "right": null,
            "justify_content": null,
            "_view_module": "@jupyter-widgets/base",
            "overflow": null,
            "_model_module_version": "1.2.0",
            "_view_count": null,
            "flex_flow": null,
            "width": null,
            "min_width": null,
            "border": null,
            "align_items": null,
            "bottom": null,
            "_model_module": "@jupyter-widgets/base",
            "top": null,
            "grid_column": null,
            "overflow_y": null,
            "overflow_x": null,
            "grid_auto_flow": null,
            "grid_area": null,
            "grid_template_columns": null,
            "flex": null,
            "_model_name": "LayoutModel",
            "justify_items": null,
            "grid_row": null,
            "max_height": null,
            "align_content": null,
            "visibility": null,
            "align_self": null,
            "height": null,
            "min_height": null,
            "padding": null,
            "grid_auto_rows": null,
            "grid_gap": null,
            "max_width": null,
            "order": null,
            "_view_module_version": "1.2.0",
            "grid_template_areas": null,
            "object_position": null,
            "object_fit": null,
            "grid_auto_columns": null,
            "margin": null,
            "display": null,
            "left": null
          }
        },
        "e28385f38aa942f6b2367fb331d873cd": {
          "model_module": "@jupyter-widgets/controls",
          "model_name": "FloatProgressModel",
          "state": {
            "_view_name": "ProgressView",
            "style": "IPY_MODEL_9e8b766882774f1d8a9b28d9d79e46a4",
            "_dom_classes": [],
            "description": "Downloading: 100%",
            "_model_name": "FloatProgressModel",
            "bar_style": "success",
            "max": 77779,
            "_view_module": "@jupyter-widgets/controls",
            "_model_module_version": "1.5.0",
            "value": 77779,
            "_view_count": null,
            "_view_module_version": "1.5.0",
            "orientation": "horizontal",
            "min": 0,
            "description_tooltip": null,
            "_model_module": "@jupyter-widgets/controls",
            "layout": "IPY_MODEL_aa949a41b2c5420dbfd00d5e34c4245b"
          }
        },
        "55000b0ede3f4f1aa38bfa855a5a8d96": {
          "model_module": "@jupyter-widgets/controls",
          "model_name": "HTMLModel",
          "state": {
            "_view_name": "HTMLView",
            "style": "IPY_MODEL_9e2bfee55ff24878b3f4fc3c9f8c9c66",
            "_dom_classes": [],
            "description": "",
            "_model_name": "HTMLModel",
            "placeholder": "​",
            "_view_module": "@jupyter-widgets/controls",
            "_model_module_version": "1.5.0",
            "value": " 77.8k/77.8k [00:00&lt;00:00, 714kB/s]",
            "_view_count": null,
            "_view_module_version": "1.5.0",
            "description_tooltip": null,
            "_model_module": "@jupyter-widgets/controls",
            "layout": "IPY_MODEL_939ec06b8d0342aab4e8f0886edc49c8"
          }
        },
        "9e8b766882774f1d8a9b28d9d79e46a4": {
          "model_module": "@jupyter-widgets/controls",
          "model_name": "ProgressStyleModel",
          "state": {
            "_view_name": "StyleView",
            "_model_name": "ProgressStyleModel",
            "description_width": "initial",
            "_view_module": "@jupyter-widgets/base",
            "_model_module_version": "1.5.0",
            "_view_count": null,
            "_view_module_version": "1.2.0",
            "bar_color": null,
            "_model_module": "@jupyter-widgets/controls"
          }
        },
        "aa949a41b2c5420dbfd00d5e34c4245b": {
          "model_module": "@jupyter-widgets/base",
          "model_name": "LayoutModel",
          "state": {
            "_view_name": "LayoutView",
            "grid_template_rows": null,
            "right": null,
            "justify_content": null,
            "_view_module": "@jupyter-widgets/base",
            "overflow": null,
            "_model_module_version": "1.2.0",
            "_view_count": null,
            "flex_flow": null,
            "width": null,
            "min_width": null,
            "border": null,
            "align_items": null,
            "bottom": null,
            "_model_module": "@jupyter-widgets/base",
            "top": null,
            "grid_column": null,
            "overflow_y": null,
            "overflow_x": null,
            "grid_auto_flow": null,
            "grid_area": null,
            "grid_template_columns": null,
            "flex": null,
            "_model_name": "LayoutModel",
            "justify_items": null,
            "grid_row": null,
            "max_height": null,
            "align_content": null,
            "visibility": null,
            "align_self": null,
            "height": null,
            "min_height": null,
            "padding": null,
            "grid_auto_rows": null,
            "grid_gap": null,
            "max_width": null,
            "order": null,
            "_view_module_version": "1.2.0",
            "grid_template_areas": null,
            "object_position": null,
            "object_fit": null,
            "grid_auto_columns": null,
            "margin": null,
            "display": null,
            "left": null
          }
        },
        "9e2bfee55ff24878b3f4fc3c9f8c9c66": {
          "model_module": "@jupyter-widgets/controls",
          "model_name": "DescriptionStyleModel",
          "state": {
            "_view_name": "StyleView",
            "_model_name": "DescriptionStyleModel",
            "description_width": "",
            "_view_module": "@jupyter-widgets/base",
            "_model_module_version": "1.5.0",
            "_view_count": null,
            "_view_module_version": "1.2.0",
            "_model_module": "@jupyter-widgets/controls"
          }
        },
        "939ec06b8d0342aab4e8f0886edc49c8": {
          "model_module": "@jupyter-widgets/base",
          "model_name": "LayoutModel",
          "state": {
            "_view_name": "LayoutView",
            "grid_template_rows": null,
            "right": null,
            "justify_content": null,
            "_view_module": "@jupyter-widgets/base",
            "overflow": null,
            "_model_module_version": "1.2.0",
            "_view_count": null,
            "flex_flow": null,
            "width": null,
            "min_width": null,
            "border": null,
            "align_items": null,
            "bottom": null,
            "_model_module": "@jupyter-widgets/base",
            "top": null,
            "grid_column": null,
            "overflow_y": null,
            "overflow_x": null,
            "grid_auto_flow": null,
            "grid_area": null,
            "grid_template_columns": null,
            "flex": null,
            "_model_name": "LayoutModel",
            "justify_items": null,
            "grid_row": null,
            "max_height": null,
            "align_content": null,
            "visibility": null,
            "align_self": null,
            "height": null,
            "min_height": null,
            "padding": null,
            "grid_auto_rows": null,
            "grid_gap": null,
            "max_width": null,
            "order": null,
            "_view_module_version": "1.2.0",
            "grid_template_areas": null,
            "object_position": null,
            "object_fit": null,
            "grid_auto_columns": null,
            "margin": null,
            "display": null,
            "left": null
          }
        },
        "a0f6a686c3da4c4693fa324b34ef1a1c": {
          "model_module": "@jupyter-widgets/controls",
          "model_name": "HBoxModel",
          "state": {
            "_view_name": "HBoxView",
            "_dom_classes": [],
            "_model_name": "HBoxModel",
            "_view_module": "@jupyter-widgets/controls",
            "_model_module_version": "1.5.0",
            "_view_count": null,
            "_view_module_version": "1.5.0",
            "box_style": "",
            "layout": "IPY_MODEL_052a8400bc384c22b4adb0d22b9a1b26",
            "_model_module": "@jupyter-widgets/controls",
            "children": [
              "IPY_MODEL_879a0d0717274995b38d8d58b2414f14",
              "IPY_MODEL_5ca6bec0f184469195e9a9019023d706"
            ]
          }
        },
        "052a8400bc384c22b4adb0d22b9a1b26": {
          "model_module": "@jupyter-widgets/base",
          "model_name": "LayoutModel",
          "state": {
            "_view_name": "LayoutView",
            "grid_template_rows": null,
            "right": null,
            "justify_content": null,
            "_view_module": "@jupyter-widgets/base",
            "overflow": null,
            "_model_module_version": "1.2.0",
            "_view_count": null,
            "flex_flow": null,
            "width": null,
            "min_width": null,
            "border": null,
            "align_items": null,
            "bottom": null,
            "_model_module": "@jupyter-widgets/base",
            "top": null,
            "grid_column": null,
            "overflow_y": null,
            "overflow_x": null,
            "grid_auto_flow": null,
            "grid_area": null,
            "grid_template_columns": null,
            "flex": null,
            "_model_name": "LayoutModel",
            "justify_items": null,
            "grid_row": null,
            "max_height": null,
            "align_content": null,
            "visibility": null,
            "align_self": null,
            "height": null,
            "min_height": null,
            "padding": null,
            "grid_auto_rows": null,
            "grid_gap": null,
            "max_width": null,
            "order": null,
            "_view_module_version": "1.2.0",
            "grid_template_areas": null,
            "object_position": null,
            "object_fit": null,
            "grid_auto_columns": null,
            "margin": null,
            "display": null,
            "left": null
          }
        },
        "879a0d0717274995b38d8d58b2414f14": {
          "model_module": "@jupyter-widgets/controls",
          "model_name": "FloatProgressModel",
          "state": {
            "_view_name": "ProgressView",
            "style": "IPY_MODEL_faed7162e4cb4298b24c6114739f81e1",
            "_dom_classes": [],
            "description": "Downloading: 100%",
            "_model_name": "FloatProgressModel",
            "bar_style": "success",
            "max": 426,
            "_view_module": "@jupyter-widgets/controls",
            "_model_module_version": "1.5.0",
            "value": 426,
            "_view_count": null,
            "_view_module_version": "1.5.0",
            "orientation": "horizontal",
            "min": 0,
            "description_tooltip": null,
            "_model_module": "@jupyter-widgets/controls",
            "layout": "IPY_MODEL_ecb53429e33345bb85069b350a43cf69"
          }
        },
        "5ca6bec0f184469195e9a9019023d706": {
          "model_module": "@jupyter-widgets/controls",
          "model_name": "HTMLModel",
          "state": {
            "_view_name": "HTMLView",
            "style": "IPY_MODEL_02ac3cd958cf47e48fcd842f28817897",
            "_dom_classes": [],
            "description": "",
            "_model_name": "HTMLModel",
            "placeholder": "​",
            "_view_module": "@jupyter-widgets/controls",
            "_model_module_version": "1.5.0",
            "value": " 426/426 [00:12&lt;00:00, 34.3B/s]",
            "_view_count": null,
            "_view_module_version": "1.5.0",
            "description_tooltip": null,
            "_model_module": "@jupyter-widgets/controls",
            "layout": "IPY_MODEL_1f0bf129eba14748b36a9ba88979980e"
          }
        },
        "faed7162e4cb4298b24c6114739f81e1": {
          "model_module": "@jupyter-widgets/controls",
          "model_name": "ProgressStyleModel",
          "state": {
            "_view_name": "StyleView",
            "_model_name": "ProgressStyleModel",
            "description_width": "initial",
            "_view_module": "@jupyter-widgets/base",
            "_model_module_version": "1.5.0",
            "_view_count": null,
            "_view_module_version": "1.2.0",
            "bar_color": null,
            "_model_module": "@jupyter-widgets/controls"
          }
        },
        "ecb53429e33345bb85069b350a43cf69": {
          "model_module": "@jupyter-widgets/base",
          "model_name": "LayoutModel",
          "state": {
            "_view_name": "LayoutView",
            "grid_template_rows": null,
            "right": null,
            "justify_content": null,
            "_view_module": "@jupyter-widgets/base",
            "overflow": null,
            "_model_module_version": "1.2.0",
            "_view_count": null,
            "flex_flow": null,
            "width": null,
            "min_width": null,
            "border": null,
            "align_items": null,
            "bottom": null,
            "_model_module": "@jupyter-widgets/base",
            "top": null,
            "grid_column": null,
            "overflow_y": null,
            "overflow_x": null,
            "grid_auto_flow": null,
            "grid_area": null,
            "grid_template_columns": null,
            "flex": null,
            "_model_name": "LayoutModel",
            "justify_items": null,
            "grid_row": null,
            "max_height": null,
            "align_content": null,
            "visibility": null,
            "align_self": null,
            "height": null,
            "min_height": null,
            "padding": null,
            "grid_auto_rows": null,
            "grid_gap": null,
            "max_width": null,
            "order": null,
            "_view_module_version": "1.2.0",
            "grid_template_areas": null,
            "object_position": null,
            "object_fit": null,
            "grid_auto_columns": null,
            "margin": null,
            "display": null,
            "left": null
          }
        },
        "02ac3cd958cf47e48fcd842f28817897": {
          "model_module": "@jupyter-widgets/controls",
          "model_name": "DescriptionStyleModel",
          "state": {
            "_view_name": "StyleView",
            "_model_name": "DescriptionStyleModel",
            "description_width": "",
            "_view_module": "@jupyter-widgets/base",
            "_model_module_version": "1.5.0",
            "_view_count": null,
            "_view_module_version": "1.2.0",
            "_model_module": "@jupyter-widgets/controls"
          }
        },
        "1f0bf129eba14748b36a9ba88979980e": {
          "model_module": "@jupyter-widgets/base",
          "model_name": "LayoutModel",
          "state": {
            "_view_name": "LayoutView",
            "grid_template_rows": null,
            "right": null,
            "justify_content": null,
            "_view_module": "@jupyter-widgets/base",
            "overflow": null,
            "_model_module_version": "1.2.0",
            "_view_count": null,
            "flex_flow": null,
            "width": null,
            "min_width": null,
            "border": null,
            "align_items": null,
            "bottom": null,
            "_model_module": "@jupyter-widgets/base",
            "top": null,
            "grid_column": null,
            "overflow_y": null,
            "overflow_x": null,
            "grid_auto_flow": null,
            "grid_area": null,
            "grid_template_columns": null,
            "flex": null,
            "_model_name": "LayoutModel",
            "justify_items": null,
            "grid_row": null,
            "max_height": null,
            "align_content": null,
            "visibility": null,
            "align_self": null,
            "height": null,
            "min_height": null,
            "padding": null,
            "grid_auto_rows": null,
            "grid_gap": null,
            "max_width": null,
            "order": null,
            "_view_module_version": "1.2.0",
            "grid_template_areas": null,
            "object_position": null,
            "object_fit": null,
            "grid_auto_columns": null,
            "margin": null,
            "display": null,
            "left": null
          }
        },
        "f4fa6a23a30247c79752c80c8e111aa2": {
          "model_module": "@jupyter-widgets/controls",
          "model_name": "HBoxModel",
          "state": {
            "_view_name": "HBoxView",
            "_dom_classes": [],
            "_model_name": "HBoxModel",
            "_view_module": "@jupyter-widgets/controls",
            "_model_module_version": "1.5.0",
            "_view_count": null,
            "_view_module_version": "1.5.0",
            "box_style": "",
            "layout": "IPY_MODEL_a0597d5708d74e60967c721daa709422",
            "_model_module": "@jupyter-widgets/controls",
            "children": [
              "IPY_MODEL_c7e0329de7684417a102d54cb9dad30c",
              "IPY_MODEL_f6b97aec9b0541e39f5372be8c2174b6"
            ]
          }
        },
        "a0597d5708d74e60967c721daa709422": {
          "model_module": "@jupyter-widgets/base",
          "model_name": "LayoutModel",
          "state": {
            "_view_name": "LayoutView",
            "grid_template_rows": null,
            "right": null,
            "justify_content": null,
            "_view_module": "@jupyter-widgets/base",
            "overflow": null,
            "_model_module_version": "1.2.0",
            "_view_count": null,
            "flex_flow": null,
            "width": null,
            "min_width": null,
            "border": null,
            "align_items": null,
            "bottom": null,
            "_model_module": "@jupyter-widgets/base",
            "top": null,
            "grid_column": null,
            "overflow_y": null,
            "overflow_x": null,
            "grid_auto_flow": null,
            "grid_area": null,
            "grid_template_columns": null,
            "flex": null,
            "_model_name": "LayoutModel",
            "justify_items": null,
            "grid_row": null,
            "max_height": null,
            "align_content": null,
            "visibility": null,
            "align_self": null,
            "height": null,
            "min_height": null,
            "padding": null,
            "grid_auto_rows": null,
            "grid_gap": null,
            "max_width": null,
            "order": null,
            "_view_module_version": "1.2.0",
            "grid_template_areas": null,
            "object_position": null,
            "object_fit": null,
            "grid_auto_columns": null,
            "margin": null,
            "display": null,
            "left": null
          }
        },
        "c7e0329de7684417a102d54cb9dad30c": {
          "model_module": "@jupyter-widgets/controls",
          "model_name": "FloatProgressModel",
          "state": {
            "_view_name": "ProgressView",
            "style": "IPY_MODEL_a0f707a3649a4878b9eceabdcee4cbec",
            "_dom_classes": [],
            "description": "Downloading: 100%",
            "_model_name": "FloatProgressModel",
            "bar_style": "success",
            "max": 368792146,
            "_view_module": "@jupyter-widgets/controls",
            "_model_module_version": "1.5.0",
            "value": 368792146,
            "_view_count": null,
            "_view_module_version": "1.5.0",
            "orientation": "horizontal",
            "min": 0,
            "description_tooltip": null,
            "_model_module": "@jupyter-widgets/controls",
            "layout": "IPY_MODEL_446a456d2b3f4d55972b2e7a9ae6f325"
          }
        },
        "f6b97aec9b0541e39f5372be8c2174b6": {
          "model_module": "@jupyter-widgets/controls",
          "model_name": "HTMLModel",
          "state": {
            "_view_name": "HTMLView",
            "style": "IPY_MODEL_5dfab59a62e44ce39b4f5d6f12baf231",
            "_dom_classes": [],
            "description": "",
            "_model_name": "HTMLModel",
            "placeholder": "​",
            "_view_module": "@jupyter-widgets/controls",
            "_model_module_version": "1.5.0",
            "value": " 369M/369M [00:12&lt;00:00, 30.4MB/s]",
            "_view_count": null,
            "_view_module_version": "1.5.0",
            "description_tooltip": null,
            "_model_module": "@jupyter-widgets/controls",
            "layout": "IPY_MODEL_717e7d0d3ae448bc98af6b50a39a7aa7"
          }
        },
        "a0f707a3649a4878b9eceabdcee4cbec": {
          "model_module": "@jupyter-widgets/controls",
          "model_name": "ProgressStyleModel",
          "state": {
            "_view_name": "StyleView",
            "_model_name": "ProgressStyleModel",
            "description_width": "initial",
            "_view_module": "@jupyter-widgets/base",
            "_model_module_version": "1.5.0",
            "_view_count": null,
            "_view_module_version": "1.2.0",
            "bar_color": null,
            "_model_module": "@jupyter-widgets/controls"
          }
        },
        "446a456d2b3f4d55972b2e7a9ae6f325": {
          "model_module": "@jupyter-widgets/base",
          "model_name": "LayoutModel",
          "state": {
            "_view_name": "LayoutView",
            "grid_template_rows": null,
            "right": null,
            "justify_content": null,
            "_view_module": "@jupyter-widgets/base",
            "overflow": null,
            "_model_module_version": "1.2.0",
            "_view_count": null,
            "flex_flow": null,
            "width": null,
            "min_width": null,
            "border": null,
            "align_items": null,
            "bottom": null,
            "_model_module": "@jupyter-widgets/base",
            "top": null,
            "grid_column": null,
            "overflow_y": null,
            "overflow_x": null,
            "grid_auto_flow": null,
            "grid_area": null,
            "grid_template_columns": null,
            "flex": null,
            "_model_name": "LayoutModel",
            "justify_items": null,
            "grid_row": null,
            "max_height": null,
            "align_content": null,
            "visibility": null,
            "align_self": null,
            "height": null,
            "min_height": null,
            "padding": null,
            "grid_auto_rows": null,
            "grid_gap": null,
            "max_width": null,
            "order": null,
            "_view_module_version": "1.2.0",
            "grid_template_areas": null,
            "object_position": null,
            "object_fit": null,
            "grid_auto_columns": null,
            "margin": null,
            "display": null,
            "left": null
          }
        },
        "5dfab59a62e44ce39b4f5d6f12baf231": {
          "model_module": "@jupyter-widgets/controls",
          "model_name": "DescriptionStyleModel",
          "state": {
            "_view_name": "StyleView",
            "_model_name": "DescriptionStyleModel",
            "description_width": "",
            "_view_module": "@jupyter-widgets/base",
            "_model_module_version": "1.5.0",
            "_view_count": null,
            "_view_module_version": "1.2.0",
            "_model_module": "@jupyter-widgets/controls"
          }
        },
        "717e7d0d3ae448bc98af6b50a39a7aa7": {
          "model_module": "@jupyter-widgets/base",
          "model_name": "LayoutModel",
          "state": {
            "_view_name": "LayoutView",
            "grid_template_rows": null,
            "right": null,
            "justify_content": null,
            "_view_module": "@jupyter-widgets/base",
            "overflow": null,
            "_model_module_version": "1.2.0",
            "_view_count": null,
            "flex_flow": null,
            "width": null,
            "min_width": null,
            "border": null,
            "align_items": null,
            "bottom": null,
            "_model_module": "@jupyter-widgets/base",
            "top": null,
            "grid_column": null,
            "overflow_y": null,
            "overflow_x": null,
            "grid_auto_flow": null,
            "grid_area": null,
            "grid_template_columns": null,
            "flex": null,
            "_model_name": "LayoutModel",
            "justify_items": null,
            "grid_row": null,
            "max_height": null,
            "align_content": null,
            "visibility": null,
            "align_self": null,
            "height": null,
            "min_height": null,
            "padding": null,
            "grid_auto_rows": null,
            "grid_gap": null,
            "max_width": null,
            "order": null,
            "_view_module_version": "1.2.0",
            "grid_template_areas": null,
            "object_position": null,
            "object_fit": null,
            "grid_auto_columns": null,
            "margin": null,
            "display": null,
            "left": null
          }
        }
      }
    },
    "accelerator": "GPU"
  },
  "cells": [
    {
      "cell_type": "markdown",
      "metadata": {
        "id": "jUA43b59AnXk"
      },
      "source": [
        "텐서플로우 2.0 기반 huggingface 라이브러리\n",
        "KOBERT를 활용한 인스타그램 광고분류 모델"
      ]
    },
    {
      "cell_type": "markdown",
      "metadata": {
        "id": "JMZij0LaAvoH"
      },
      "source": [
        "huggingface 패키지를 Colab에 설치"
      ]
    },
    {
      "cell_type": "code",
      "metadata": {
        "id": "8AB7YtQ3rZzF",
        "colab": {
          "base_uri": "https://localhost:8080/"
        },
        "outputId": "ae69beeb-863a-4c0b-abf9-beef4a2fa7c6"
      },
      "source": [
        "!pip install transformers==2.10"
      ],
      "execution_count": null,
      "outputs": [
        {
          "output_type": "stream",
          "text": [
            "Collecting transformers==2.10\n",
            "\u001b[?25l  Downloading https://files.pythonhosted.org/packages/12/b5/ac41e3e95205ebf53439e4dd087c58e9fd371fd8e3724f2b9b4cdb8282e5/transformers-2.10.0-py3-none-any.whl (660kB)\n",
            "\u001b[K     |████████████████████████████████| 665kB 18.2MB/s \n",
            "\u001b[?25hRequirement already satisfied: filelock in /usr/local/lib/python3.7/dist-packages (from transformers==2.10) (3.0.12)\n",
            "Collecting sacremoses\n",
            "\u001b[?25l  Downloading https://files.pythonhosted.org/packages/08/cd/342e584ee544d044fb573ae697404ce22ede086c9e87ce5960772084cad0/sacremoses-0.0.44.tar.gz (862kB)\n",
            "\u001b[K     |████████████████████████████████| 870kB 56.6MB/s \n",
            "\u001b[?25hRequirement already satisfied: regex!=2019.12.17 in /usr/local/lib/python3.7/dist-packages (from transformers==2.10) (2019.12.20)\n",
            "Collecting tokenizers==0.7.0\n",
            "\u001b[?25l  Downloading https://files.pythonhosted.org/packages/ea/59/bb06dd5ca53547d523422d32735585493e0103c992a52a97ba3aa3be33bf/tokenizers-0.7.0-cp37-cp37m-manylinux1_x86_64.whl (5.6MB)\n",
            "\u001b[K     |████████████████████████████████| 5.6MB 54.7MB/s \n",
            "\u001b[?25hRequirement already satisfied: tqdm>=4.27 in /usr/local/lib/python3.7/dist-packages (from transformers==2.10) (4.41.1)\n",
            "Requirement already satisfied: requests in /usr/local/lib/python3.7/dist-packages (from transformers==2.10) (2.23.0)\n",
            "Collecting sentencepiece\n",
            "\u001b[?25l  Downloading https://files.pythonhosted.org/packages/f5/99/e0808cb947ba10f575839c43e8fafc9cc44e4a7a2c8f79c60db48220a577/sentencepiece-0.1.95-cp37-cp37m-manylinux2014_x86_64.whl (1.2MB)\n",
            "\u001b[K     |████████████████████████████████| 1.2MB 36.2MB/s \n",
            "\u001b[?25hRequirement already satisfied: numpy in /usr/local/lib/python3.7/dist-packages (from transformers==2.10) (1.19.5)\n",
            "Requirement already satisfied: six in /usr/local/lib/python3.7/dist-packages (from sacremoses->transformers==2.10) (1.15.0)\n",
            "Requirement already satisfied: click in /usr/local/lib/python3.7/dist-packages (from sacremoses->transformers==2.10) (7.1.2)\n",
            "Requirement already satisfied: joblib in /usr/local/lib/python3.7/dist-packages (from sacremoses->transformers==2.10) (1.0.1)\n",
            "Requirement already satisfied: certifi>=2017.4.17 in /usr/local/lib/python3.7/dist-packages (from requests->transformers==2.10) (2020.12.5)\n",
            "Requirement already satisfied: chardet<4,>=3.0.2 in /usr/local/lib/python3.7/dist-packages (from requests->transformers==2.10) (3.0.4)\n",
            "Requirement already satisfied: idna<3,>=2.5 in /usr/local/lib/python3.7/dist-packages (from requests->transformers==2.10) (2.10)\n",
            "Requirement already satisfied: urllib3!=1.25.0,!=1.25.1,<1.26,>=1.21.1 in /usr/local/lib/python3.7/dist-packages (from requests->transformers==2.10) (1.24.3)\n",
            "Building wheels for collected packages: sacremoses\n",
            "  Building wheel for sacremoses (setup.py) ... \u001b[?25l\u001b[?25hdone\n",
            "  Created wheel for sacremoses: filename=sacremoses-0.0.44-cp37-none-any.whl size=886084 sha256=9bfb2ee7a9a5e1db150c312bc9e1a8cf21fdb4b5ce7140e60c141e3ba9f5c11d\n",
            "  Stored in directory: /root/.cache/pip/wheels/3e/fb/c0/13ab4d63d537658f448366744654323077c4d90069b6512f3c\n",
            "Successfully built sacremoses\n",
            "Installing collected packages: sacremoses, tokenizers, sentencepiece, transformers\n",
            "Successfully installed sacremoses-0.0.44 sentencepiece-0.1.95 tokenizers-0.7.0 transformers-2.10.0\n"
          ],
          "name": "stdout"
        }
      ]
    },
    {
      "cell_type": "code",
      "metadata": {
        "id": "HUS2LivMxrPn",
        "colab": {
          "base_uri": "https://localhost:8080/"
        },
        "outputId": "f0395918-3311-4e54-f55a-3e22ac2286e8"
      },
      "source": [
        "!pip install tensorflow-addons"
      ],
      "execution_count": null,
      "outputs": [
        {
          "output_type": "stream",
          "text": [
            "Collecting tensorflow-addons\n",
            "\u001b[?25l  Downloading https://files.pythonhosted.org/packages/74/e3/56d2fe76f0bb7c88ed9b2a6a557e25e83e252aec08f13de34369cd850a0b/tensorflow_addons-0.12.1-cp37-cp37m-manylinux2010_x86_64.whl (703kB)\n",
            "\r\u001b[K     |▌                               | 10kB 18.9MB/s eta 0:00:01\r\u001b[K     |█                               | 20kB 23.3MB/s eta 0:00:01\r\u001b[K     |█▍                              | 30kB 25.8MB/s eta 0:00:01\r\u001b[K     |█▉                              | 40kB 27.8MB/s eta 0:00:01\r\u001b[K     |██▎                             | 51kB 19.2MB/s eta 0:00:01\r\u001b[K     |██▉                             | 61kB 17.6MB/s eta 0:00:01\r\u001b[K     |███▎                            | 71kB 15.8MB/s eta 0:00:01\r\u001b[K     |███▊                            | 81kB 16.9MB/s eta 0:00:01\r\u001b[K     |████▏                           | 92kB 17.8MB/s eta 0:00:01\r\u001b[K     |████▋                           | 102kB 18.0MB/s eta 0:00:01\r\u001b[K     |█████▏                          | 112kB 18.0MB/s eta 0:00:01\r\u001b[K     |█████▋                          | 122kB 18.0MB/s eta 0:00:01\r\u001b[K     |██████                          | 133kB 18.0MB/s eta 0:00:01\r\u001b[K     |██████▌                         | 143kB 18.0MB/s eta 0:00:01\r\u001b[K     |███████                         | 153kB 18.0MB/s eta 0:00:01\r\u001b[K     |███████▌                        | 163kB 18.0MB/s eta 0:00:01\r\u001b[K     |████████                        | 174kB 18.0MB/s eta 0:00:01\r\u001b[K     |████████▍                       | 184kB 18.0MB/s eta 0:00:01\r\u001b[K     |████████▉                       | 194kB 18.0MB/s eta 0:00:01\r\u001b[K     |█████████▎                      | 204kB 18.0MB/s eta 0:00:01\r\u001b[K     |█████████▉                      | 215kB 18.0MB/s eta 0:00:01\r\u001b[K     |██████████▎                     | 225kB 18.0MB/s eta 0:00:01\r\u001b[K     |██████████▊                     | 235kB 18.0MB/s eta 0:00:01\r\u001b[K     |███████████▏                    | 245kB 18.0MB/s eta 0:00:01\r\u001b[K     |███████████▋                    | 256kB 18.0MB/s eta 0:00:01\r\u001b[K     |████████████▏                   | 266kB 18.0MB/s eta 0:00:01\r\u001b[K     |████████████▋                   | 276kB 18.0MB/s eta 0:00:01\r\u001b[K     |█████████████                   | 286kB 18.0MB/s eta 0:00:01\r\u001b[K     |█████████████▌                  | 296kB 18.0MB/s eta 0:00:01\r\u001b[K     |██████████████                  | 307kB 18.0MB/s eta 0:00:01\r\u001b[K     |██████████████▍                 | 317kB 18.0MB/s eta 0:00:01\r\u001b[K     |███████████████                 | 327kB 18.0MB/s eta 0:00:01\r\u001b[K     |███████████████▍                | 337kB 18.0MB/s eta 0:00:01\r\u001b[K     |███████████████▉                | 348kB 18.0MB/s eta 0:00:01\r\u001b[K     |████████████████▎               | 358kB 18.0MB/s eta 0:00:01\r\u001b[K     |████████████████▊               | 368kB 18.0MB/s eta 0:00:01\r\u001b[K     |█████████████████▎              | 378kB 18.0MB/s eta 0:00:01\r\u001b[K     |█████████████████▊              | 389kB 18.0MB/s eta 0:00:01\r\u001b[K     |██████████████████▏             | 399kB 18.0MB/s eta 0:00:01\r\u001b[K     |██████████████████▋             | 409kB 18.0MB/s eta 0:00:01\r\u001b[K     |███████████████████             | 419kB 18.0MB/s eta 0:00:01\r\u001b[K     |███████████████████▋            | 430kB 18.0MB/s eta 0:00:01\r\u001b[K     |████████████████████            | 440kB 18.0MB/s eta 0:00:01\r\u001b[K     |████████████████████▌           | 450kB 18.0MB/s eta 0:00:01\r\u001b[K     |█████████████████████           | 460kB 18.0MB/s eta 0:00:01\r\u001b[K     |█████████████████████▍          | 471kB 18.0MB/s eta 0:00:01\r\u001b[K     |██████████████████████          | 481kB 18.0MB/s eta 0:00:01\r\u001b[K     |██████████████████████▍         | 491kB 18.0MB/s eta 0:00:01\r\u001b[K     |██████████████████████▉         | 501kB 18.0MB/s eta 0:00:01\r\u001b[K     |███████████████████████▎        | 512kB 18.0MB/s eta 0:00:01\r\u001b[K     |███████████████████████▊        | 522kB 18.0MB/s eta 0:00:01\r\u001b[K     |████████████████████████▎       | 532kB 18.0MB/s eta 0:00:01\r\u001b[K     |████████████████████████▊       | 542kB 18.0MB/s eta 0:00:01\r\u001b[K     |█████████████████████████▏      | 552kB 18.0MB/s eta 0:00:01\r\u001b[K     |█████████████████████████▋      | 563kB 18.0MB/s eta 0:00:01\r\u001b[K     |██████████████████████████      | 573kB 18.0MB/s eta 0:00:01\r\u001b[K     |██████████████████████████▋     | 583kB 18.0MB/s eta 0:00:01\r\u001b[K     |███████████████████████████     | 593kB 18.0MB/s eta 0:00:01\r\u001b[K     |███████████████████████████▌    | 604kB 18.0MB/s eta 0:00:01\r\u001b[K     |████████████████████████████    | 614kB 18.0MB/s eta 0:00:01\r\u001b[K     |████████████████████████████▍   | 624kB 18.0MB/s eta 0:00:01\r\u001b[K     |████████████████████████████▉   | 634kB 18.0MB/s eta 0:00:01\r\u001b[K     |█████████████████████████████▍  | 645kB 18.0MB/s eta 0:00:01\r\u001b[K     |█████████████████████████████▉  | 655kB 18.0MB/s eta 0:00:01\r\u001b[K     |██████████████████████████████▎ | 665kB 18.0MB/s eta 0:00:01\r\u001b[K     |██████████████████████████████▊ | 675kB 18.0MB/s eta 0:00:01\r\u001b[K     |███████████████████████████████▏| 686kB 18.0MB/s eta 0:00:01\r\u001b[K     |███████████████████████████████▊| 696kB 18.0MB/s eta 0:00:01\r\u001b[K     |████████████████████████████████| 706kB 18.0MB/s \n",
            "\u001b[?25hRequirement already satisfied: typeguard>=2.7 in /usr/local/lib/python3.7/dist-packages (from tensorflow-addons) (2.7.1)\n",
            "Installing collected packages: tensorflow-addons\n",
            "Successfully installed tensorflow-addons-0.12.1\n"
          ],
          "name": "stdout"
        }
      ]
    },
    {
      "cell_type": "code",
      "metadata": {
        "id": "XMIycGZPITah"
      },
      "source": [
        "!pip install -q pyyaml h5py"
      ],
      "execution_count": null,
      "outputs": []
    },
    {
      "cell_type": "markdown",
      "metadata": {
        "id": "uaHJhPbDAQmX"
      },
      "source": [
        "# KOBERT 활용한 인스타그램 광고분류 모델"
      ]
    },
    {
      "cell_type": "markdown",
      "metadata": {
        "id": "bqNnCd3mwHvC"
      },
      "source": [
        "#목차\n",
        "<b>1) 인스타그램 텍스트 데이터 불러오기 및 전처리  \n",
        "2) BERT 인풋에 맞게 변환  \n",
        "3) 버트를 활용한 광고분류 모델 생성  \n",
        "4) 훈련 및 성능 검증  \n",
        "5) 실제 데이터 적용</b>"
      ]
    },
    {
      "cell_type": "markdown",
      "metadata": {
        "id": "Pdvo-EpaqFev"
      },
      "source": [
        "텐서플로우 2와 필요한 모듈들을 임포트\n",
        "\n"
      ]
    },
    {
      "cell_type": "code",
      "metadata": {
        "id": "jRXvtgWrrdk5"
      },
      "source": [
        "import tensorflow as tf\n",
        "import numpy as np\n",
        "import pandas as pd\n",
        "from transformers import *\n",
        "import json\n",
        "import numpy as np\n",
        "import pandas as pd\n",
        "from tqdm import tqdm\n",
        "from sklearn.model_selection import train_test_split\n",
        "from tensorflow.keras.callbacks import EarlyStopping, ModelCheckpoint"
      ],
      "execution_count": null,
      "outputs": []
    },
    {
      "cell_type": "markdown",
      "metadata": {
        "id": "KynSuuA1A-5I"
      },
      "source": [
        "구글 드라이브와 Colab을 연동하기"
      ]
    },
    {
      "cell_type": "code",
      "metadata": {
        "colab": {
          "base_uri": "https://localhost:8080/"
        },
        "id": "erLBrgHLxxmu",
        "outputId": "bba1b8e2-c099-4e9b-cefb-3fdd8798f8e7"
      },
      "source": [
        "from google.colab import drive\n",
        "drive.mount('/content/drive')"
      ],
      "execution_count": null,
      "outputs": [
        {
          "output_type": "stream",
          "text": [
            "Mounted at /content/drive\n"
          ],
          "name": "stdout"
        }
      ]
    },
    {
      "cell_type": "code",
      "metadata": {
        "colab": {
          "base_uri": "https://localhost:8080/"
        },
        "id": "LHLJKh4Vx1wL",
        "outputId": "433126df-4e48-4df2-fc5e-dfa03a39536e"
      },
      "source": [
        "%cd /content/drive/MyDrive/DataScience/data/instagram"
      ],
      "execution_count": null,
      "outputs": [
        {
          "output_type": "stream",
          "text": [
            "/content/drive/MyDrive/DataScience/data/instagram\n"
          ],
          "name": "stdout"
        }
      ]
    },
    {
      "cell_type": "markdown",
      "metadata": {
        "id": "is91foUnnRxo"
      },
      "source": [
        "### 데이터 불러오기"
      ]
    },
    {
      "cell_type": "code",
      "metadata": {
        "id": "FSLBFFP02LOE"
      },
      "source": [
        "# 인스타그램 데이터 불러오기\n",
        "train = pd.read_csv(\"train_final.csv\")\n",
        "test_ = pd.read_csv(\"test_final.csv\")\n",
        "\n",
        "train.drop('Unnamed: 0', axis=1, inplace=True)\n",
        "test_.drop('Unnamed: 0', axis=1, inplace=True)"
      ],
      "execution_count": null,
      "outputs": []
    },
    {
      "cell_type": "code",
      "metadata": {
        "id": "FIT6geB5JwVa"
      },
      "source": [
        "# train.columns = ['document', 'label']\n",
        "# test_.columns = ['document', 'label']"
      ],
      "execution_count": null,
      "outputs": []
    },
    {
      "cell_type": "code",
      "metadata": {
        "colab": {
          "base_uri": "https://localhost:8080/",
          "height": 419
        },
        "id": "jiaOBIGX2rEx",
        "outputId": "ae95c712-769a-47b6-b023-f1802b5639f5"
      },
      "source": [
        "train"
      ],
      "execution_count": null,
      "outputs": [
        {
          "output_type": "execute_result",
          "data": {
            "text/html": [
              "<div>\n",
              "<style scoped>\n",
              "    .dataframe tbody tr th:only-of-type {\n",
              "        vertical-align: middle;\n",
              "    }\n",
              "\n",
              "    .dataframe tbody tr th {\n",
              "        vertical-align: top;\n",
              "    }\n",
              "\n",
              "    .dataframe thead th {\n",
              "        text-align: right;\n",
              "    }\n",
              "</style>\n",
              "<table border=\"1\" class=\"dataframe\">\n",
              "  <thead>\n",
              "    <tr style=\"text-align: right;\">\n",
              "      <th></th>\n",
              "      <th>text</th>\n",
              "      <th>label</th>\n",
              "    </tr>\n",
              "  </thead>\n",
              "  <tbody>\n",
              "    <tr>\n",
              "      <th>0</th>\n",
              "      <td>편안해보이는 영상의 원본은 집안을 울리는 공사소리 얼마전 삐그덕대던 보일러가 드디...</td>\n",
              "      <td>1</td>\n",
              "    </tr>\n",
              "    <tr>\n",
              "      <th>1</th>\n",
              "      <td>광고아님 제품협찬 이지만 노출의무 없음 찐사용 욕실 3총사 요즘 씻고 건조해서 욕...</td>\n",
              "      <td>1</td>\n",
              "    </tr>\n",
              "    <tr>\n",
              "      <th>2</th>\n",
              "      <td>다들 날씨도 좋은데 파출소포차 하세요 무야호 dantbar1987</td>\n",
              "      <td>0</td>\n",
              "    </tr>\n",
              "    <tr>\n",
              "      <th>3</th>\n",
              "      <td>사진맛집 브런치맛집 아날로그 포레스트 analog forest 인천사시는분들 꼭가...</td>\n",
              "      <td>1</td>\n",
              "    </tr>\n",
              "    <tr>\n",
              "      <th>4</th>\n",
              "      <td>몇개월전 이미 아이언은 바꿨지만 이제 올리네 아버지채 받아서 쓰다가 얼마전 태일러...</td>\n",
              "      <td>1</td>\n",
              "    </tr>\n",
              "    <tr>\n",
              "      <th>...</th>\n",
              "      <td>...</td>\n",
              "      <td>...</td>\n",
              "    </tr>\n",
              "    <tr>\n",
              "      <th>56857</th>\n",
              "      <td>윤조에센스 120ml 사전예약주문 1년에 한번 나와요 설화수 윤조에센스 윤조 윤조...</td>\n",
              "      <td>1</td>\n",
              "    </tr>\n",
              "    <tr>\n",
              "      <th>56858</th>\n",
              "      <td>NEW 자음생앰플 인삼에서 찾은 빠르고 강력한 고기능 안티에이징 성분 귀하게 얻은...</td>\n",
              "      <td>1</td>\n",
              "    </tr>\n",
              "    <tr>\n",
              "      <th>56859</th>\n",
              "      <td>콜라겐 전 마셔요 송혜교가 선택한 마시는 프리미엄 콜라겐 슈퍼콜라겐 에센스를 공개...</td>\n",
              "      <td>1</td>\n",
              "    </tr>\n",
              "    <tr>\n",
              "      <th>56860</th>\n",
              "      <td>블로그로 문의주신 고객님 주말지내고 바로 원주로 달려간 날 R사 화장품 사용으로 ...</td>\n",
              "      <td>1</td>\n",
              "    </tr>\n",
              "    <tr>\n",
              "      <th>56861</th>\n",
              "      <td>윤조에센스 NO 1 에센스 120ml 대용량 한정상품 설화수 윤조에센스 윤조대용량...</td>\n",
              "      <td>1</td>\n",
              "    </tr>\n",
              "  </tbody>\n",
              "</table>\n",
              "<p>56862 rows × 2 columns</p>\n",
              "</div>"
            ],
            "text/plain": [
              "                                                    text  label\n",
              "0       편안해보이는 영상의 원본은 집안을 울리는 공사소리 얼마전 삐그덕대던 보일러가 드디...      1\n",
              "1       광고아님 제품협찬 이지만 노출의무 없음 찐사용 욕실 3총사 요즘 씻고 건조해서 욕...      1\n",
              "2                   다들 날씨도 좋은데 파출소포차 하세요 무야호 dantbar1987      0\n",
              "3       사진맛집 브런치맛집 아날로그 포레스트 analog forest 인천사시는분들 꼭가...      1\n",
              "4       몇개월전 이미 아이언은 바꿨지만 이제 올리네 아버지채 받아서 쓰다가 얼마전 태일러...      1\n",
              "...                                                  ...    ...\n",
              "56857   윤조에센스 120ml 사전예약주문 1년에 한번 나와요 설화수 윤조에센스 윤조 윤조...      1\n",
              "56858   NEW 자음생앰플 인삼에서 찾은 빠르고 강력한 고기능 안티에이징 성분 귀하게 얻은...      1\n",
              "56859   콜라겐 전 마셔요 송혜교가 선택한 마시는 프리미엄 콜라겐 슈퍼콜라겐 에센스를 공개...      1\n",
              "56860   블로그로 문의주신 고객님 주말지내고 바로 원주로 달려간 날 R사 화장품 사용으로 ...      1\n",
              "56861   윤조에센스 NO 1 에센스 120ml 대용량 한정상품 설화수 윤조에센스 윤조대용량...      1\n",
              "\n",
              "[56862 rows x 2 columns]"
            ]
          },
          "metadata": {
            "tags": []
          },
          "execution_count": 9
        }
      ]
    },
    {
      "cell_type": "code",
      "metadata": {
        "colab": {
          "base_uri": "https://localhost:8080/",
          "height": 419
        },
        "id": "2l7vClcXDYEt",
        "outputId": "ccd2c16a-f8c4-48ae-aff7-c46154e49b00"
      },
      "source": [
        "test_"
      ],
      "execution_count": null,
      "outputs": [
        {
          "output_type": "execute_result",
          "data": {
            "text/html": [
              "<div>\n",
              "<style scoped>\n",
              "    .dataframe tbody tr th:only-of-type {\n",
              "        vertical-align: middle;\n",
              "    }\n",
              "\n",
              "    .dataframe tbody tr th {\n",
              "        vertical-align: top;\n",
              "    }\n",
              "\n",
              "    .dataframe thead th {\n",
              "        text-align: right;\n",
              "    }\n",
              "</style>\n",
              "<table border=\"1\" class=\"dataframe\">\n",
              "  <thead>\n",
              "    <tr style=\"text-align: right;\">\n",
              "      <th></th>\n",
              "      <th>text</th>\n",
              "      <th>label</th>\n",
              "    </tr>\n",
              "  </thead>\n",
              "  <tbody>\n",
              "    <tr>\n",
              "      <th>0</th>\n",
              "      <td>181125 이히히히힣힠        대놓고 자랑중입니다    프라엘 남편최고</td>\n",
              "      <td>0</td>\n",
              "    </tr>\n",
              "    <tr>\n",
              "      <th>1</th>\n",
              "      <td>구서방 자꾸왜이래 고맙게시리 피부나이 20대로 살고싶은 내나이 30대중반 관리잘하...</td>\n",
              "      <td>0</td>\n",
              "    </tr>\n",
              "    <tr>\n",
              "      <th>2</th>\n",
              "      <td>하루 9분투자를 못해 방치만 하고 있네 오늘부터 부지런히 사용해보자 프라엘 프라엘...</td>\n",
              "      <td>0</td>\n",
              "    </tr>\n",
              "    <tr>\n",
              "      <th>3</th>\n",
              "      <td>센스쟁이 화이트데이 육아 소통 일상 셀카 셀피 셀스타그램 경산 구미 대구맘 대구 ...</td>\n",
              "      <td>0</td>\n",
              "    </tr>\n",
              "    <tr>\n",
              "      <th>4</th>\n",
              "      <td>LG 프라엘 두부처럼 모태미녀가 아니라서 중력을 거스르려는 헛된 욕심 효과를 바래...</td>\n",
              "      <td>0</td>\n",
              "    </tr>\n",
              "    <tr>\n",
              "      <th>...</th>\n",
              "      <td>...</td>\n",
              "      <td>...</td>\n",
              "    </tr>\n",
              "    <tr>\n",
              "      <th>25743</th>\n",
              "      <td>kyo1122 코로나 빨리 사라져서 여행 가고 싶다 이런 공항kyo 스타일 좋아 ...</td>\n",
              "      <td>0</td>\n",
              "    </tr>\n",
              "    <tr>\n",
              "      <th>25744</th>\n",
              "      <td>수분을 가득 머금은 거품이 피부 노폐물을 깔끔히 없애고 피부의 촉촉함은 유지시켜주...</td>\n",
              "      <td>0</td>\n",
              "    </tr>\n",
              "    <tr>\n",
              "      <th>25745</th>\n",
              "      <td>kyo1122 좋아하는 모연 장면 낮술 좋네 였던가 기억이 가물 credit to...</td>\n",
              "      <td>0</td>\n",
              "    </tr>\n",
              "    <tr>\n",
              "      <th>25746</th>\n",
              "      <td>kyo1122 귀여운 표정의 혜교님 보니 기분이 좋아질려고 합니다 credit t...</td>\n",
              "      <td>0</td>\n",
              "    </tr>\n",
              "    <tr>\n",
              "      <th>25747</th>\n",
              "      <td>kyo1122 예전 부터 혜교님은 손 동작도 품위 있고 예쁘다는 생각을 했는데 어...</td>\n",
              "      <td>0</td>\n",
              "    </tr>\n",
              "  </tbody>\n",
              "</table>\n",
              "<p>25748 rows × 2 columns</p>\n",
              "</div>"
            ],
            "text/plain": [
              "                                                    text  label\n",
              "0            181125 이히히히힣힠        대놓고 자랑중입니다    프라엘 남편최고      0\n",
              "1       구서방 자꾸왜이래 고맙게시리 피부나이 20대로 살고싶은 내나이 30대중반 관리잘하...      0\n",
              "2       하루 9분투자를 못해 방치만 하고 있네 오늘부터 부지런히 사용해보자 프라엘 프라엘...      0\n",
              "3       센스쟁이 화이트데이 육아 소통 일상 셀카 셀피 셀스타그램 경산 구미 대구맘 대구 ...      0\n",
              "4       LG 프라엘 두부처럼 모태미녀가 아니라서 중력을 거스르려는 헛된 욕심 효과를 바래...      0\n",
              "...                                                  ...    ...\n",
              "25743   kyo1122 코로나 빨리 사라져서 여행 가고 싶다 이런 공항kyo 스타일 좋아 ...      0\n",
              "25744   수분을 가득 머금은 거품이 피부 노폐물을 깔끔히 없애고 피부의 촉촉함은 유지시켜주...      0\n",
              "25745   kyo1122 좋아하는 모연 장면 낮술 좋네 였던가 기억이 가물 credit to...      0\n",
              "25746   kyo1122 귀여운 표정의 혜교님 보니 기분이 좋아질려고 합니다 credit t...      0\n",
              "25747   kyo1122 예전 부터 혜교님은 손 동작도 품위 있고 예쁘다는 생각을 했는데 어...      0\n",
              "\n",
              "[25748 rows x 2 columns]"
            ]
          },
          "metadata": {
            "tags": []
          },
          "execution_count": 10
        }
      ]
    },
    {
      "cell_type": "code",
      "metadata": {
        "colab": {
          "base_uri": "https://localhost:8080/"
        },
        "id": "xphuIEESfRwK",
        "outputId": "96abec30-d366-44fd-9662-3ea558925936"
      },
      "source": [
        "# 타겟레이블 분포 확인 타겟레이블 분포 확인\n",
        "print(train['label'].value_counts(normalize=True))\n",
        "print(test_['label'].value_counts(normalize=True))"
      ],
      "execution_count": null,
      "outputs": [
        {
          "output_type": "stream",
          "text": [
            "1    0.597306\n",
            "0    0.402694\n",
            "Name: label, dtype: float64\n",
            "1    0.556199\n",
            "0    0.443801\n",
            "Name: label, dtype: float64\n"
          ],
          "name": "stdout"
        }
      ]
    },
    {
      "cell_type": "code",
      "metadata": {
        "colab": {
          "base_uri": "https://localhost:8080/"
        },
        "id": "QBAtoFwZfUze",
        "outputId": "eb1cf057-6df0-4437-91b9-7016aba51004"
      },
      "source": [
        "# 훈련셋과 검증셋으로 분리\n",
        "val, test = train_test_split(test_,\n",
        "                               random_state=3, \n",
        "                               test_size=0.5,\n",
        "                               stratify=test_['label'])\n",
        "\n",
        "print(f\"validation : {val.shape}\\ntest : {test.shape}\")"
      ],
      "execution_count": null,
      "outputs": [
        {
          "output_type": "stream",
          "text": [
            "validation : (12874, 2)\n",
            "test : (12874, 2)\n"
          ],
          "name": "stdout"
        }
      ]
    },
    {
      "cell_type": "code",
      "metadata": {
        "id": "v7UmokJoL_m4"
      },
      "source": [
        "val.reset_index(inplace=True, drop=True)\n",
        "test.reset_index(inplace=True, drop=True)"
      ],
      "execution_count": null,
      "outputs": []
    },
    {
      "cell_type": "code",
      "metadata": {
        "colab": {
          "base_uri": "https://localhost:8080/"
        },
        "id": "JYnFrKjvfey_",
        "outputId": "596e7265-7d4a-4a53-f00a-044040e2f509"
      },
      "source": [
        "# 데이터별 타겟 분포 확인\n",
        "print(f\"학습용데이터\\n{train['label'].value_counts(normalize=True)}\")\n",
        "print(f\"테스트용데이터\\n{test['label'].value_counts(normalize=True)}\")"
      ],
      "execution_count": null,
      "outputs": [
        {
          "output_type": "stream",
          "text": [
            "학습용데이터\n",
            "1    0.597306\n",
            "0    0.402694\n",
            "Name: label, dtype: float64\n",
            "테스트용데이터\n",
            "1    0.55616\n",
            "0    0.44384\n",
            "Name: label, dtype: float64\n"
          ],
          "name": "stdout"
        }
      ]
    },
    {
      "cell_type": "code",
      "metadata": {
        "colab": {
          "base_uri": "https://localhost:8080/",
          "height": 359
        },
        "id": "B-Nognqmfju5",
        "outputId": "a298dbc9-d503-4006-daa2-ef765386a0e2"
      },
      "source": [
        "# 훈련셋의 앞부분 출력\n",
        "train.reset_index(drop=True, inplace=True)\n",
        "test.reset_index(drop=True, inplace=True)\n",
        "train.head(10)"
      ],
      "execution_count": null,
      "outputs": [
        {
          "output_type": "execute_result",
          "data": {
            "text/html": [
              "<div>\n",
              "<style scoped>\n",
              "    .dataframe tbody tr th:only-of-type {\n",
              "        vertical-align: middle;\n",
              "    }\n",
              "\n",
              "    .dataframe tbody tr th {\n",
              "        vertical-align: top;\n",
              "    }\n",
              "\n",
              "    .dataframe thead th {\n",
              "        text-align: right;\n",
              "    }\n",
              "</style>\n",
              "<table border=\"1\" class=\"dataframe\">\n",
              "  <thead>\n",
              "    <tr style=\"text-align: right;\">\n",
              "      <th></th>\n",
              "      <th>text</th>\n",
              "      <th>label</th>\n",
              "    </tr>\n",
              "  </thead>\n",
              "  <tbody>\n",
              "    <tr>\n",
              "      <th>0</th>\n",
              "      <td>편안해보이는 영상의 원본은 집안을 울리는 공사소리 얼마전 삐그덕대던 보일러가 드디...</td>\n",
              "      <td>1</td>\n",
              "    </tr>\n",
              "    <tr>\n",
              "      <th>1</th>\n",
              "      <td>광고아님 제품협찬 이지만 노출의무 없음 찐사용 욕실 3총사 요즘 씻고 건조해서 욕...</td>\n",
              "      <td>1</td>\n",
              "    </tr>\n",
              "    <tr>\n",
              "      <th>2</th>\n",
              "      <td>다들 날씨도 좋은데 파출소포차 하세요 무야호 dantbar1987</td>\n",
              "      <td>0</td>\n",
              "    </tr>\n",
              "    <tr>\n",
              "      <th>3</th>\n",
              "      <td>사진맛집 브런치맛집 아날로그 포레스트 analog forest 인천사시는분들 꼭가...</td>\n",
              "      <td>1</td>\n",
              "    </tr>\n",
              "    <tr>\n",
              "      <th>4</th>\n",
              "      <td>몇개월전 이미 아이언은 바꿨지만 이제 올리네 아버지채 받아서 쓰다가 얼마전 태일러...</td>\n",
              "      <td>1</td>\n",
              "    </tr>\n",
              "    <tr>\n",
              "      <th>5</th>\n",
              "      <td>랑콩뜨레 딸기몽블랑 현대백화점 광고아님 화이트 데이 인님들은 어떻게 보내고 계신가...</td>\n",
              "      <td>1</td>\n",
              "    </tr>\n",
              "    <tr>\n",
              "      <th>6</th>\n",
              "      <td>oldboy 스끼야끼 부산맛집 서면맛집 스끼야끼맛집 광고아님 찐맛집 뜨끈한게 생각...</td>\n",
              "      <td>1</td>\n",
              "    </tr>\n",
              "    <tr>\n",
              "      <th>7</th>\n",
              "      <td>외출 불광천에 오리랑 멍멍이들 보고 좋아하는줄 알았더니 스타벅스 가 너의 시선을 ...</td>\n",
              "      <td>1</td>\n",
              "    </tr>\n",
              "    <tr>\n",
              "      <th>8</th>\n",
              "      <td>넘나 해보고팠던 애쉬바이올렛 하나하나 해보고 싶었던 일들을 하고 있는 요즘 탈색 ...</td>\n",
              "      <td>1</td>\n",
              "    </tr>\n",
              "    <tr>\n",
              "      <th>9</th>\n",
              "      <td>21 3 13 주말 나들이 세번째 방문인데 후 정말 이사하고 싶은 맛이닿ㅎㅎ 이번...</td>\n",
              "      <td>1</td>\n",
              "    </tr>\n",
              "  </tbody>\n",
              "</table>\n",
              "</div>"
            ],
            "text/plain": [
              "                                                text  label\n",
              "0   편안해보이는 영상의 원본은 집안을 울리는 공사소리 얼마전 삐그덕대던 보일러가 드디...      1\n",
              "1   광고아님 제품협찬 이지만 노출의무 없음 찐사용 욕실 3총사 요즘 씻고 건조해서 욕...      1\n",
              "2               다들 날씨도 좋은데 파출소포차 하세요 무야호 dantbar1987      0\n",
              "3   사진맛집 브런치맛집 아날로그 포레스트 analog forest 인천사시는분들 꼭가...      1\n",
              "4   몇개월전 이미 아이언은 바꿨지만 이제 올리네 아버지채 받아서 쓰다가 얼마전 태일러...      1\n",
              "5   랑콩뜨레 딸기몽블랑 현대백화점 광고아님 화이트 데이 인님들은 어떻게 보내고 계신가...      1\n",
              "6   oldboy 스끼야끼 부산맛집 서면맛집 스끼야끼맛집 광고아님 찐맛집 뜨끈한게 생각...      1\n",
              "7   외출 불광천에 오리랑 멍멍이들 보고 좋아하는줄 알았더니 스타벅스 가 너의 시선을 ...      1\n",
              "8   넘나 해보고팠던 애쉬바이올렛 하나하나 해보고 싶었던 일들을 하고 있는 요즘 탈색 ...      1\n",
              "9   21 3 13 주말 나들이 세번째 방문인데 후 정말 이사하고 싶은 맛이닿ㅎㅎ 이번...      1"
            ]
          },
          "metadata": {
            "tags": []
          },
          "execution_count": 15
        }
      ]
    },
    {
      "cell_type": "markdown",
      "metadata": {
        "id": "28aO4lGrwMjD"
      },
      "source": [
        "## 버트 인풋 만들기"
      ]
    },
    {
      "cell_type": "markdown",
      "metadata": {
        "id": "_4JGys9DrU4_"
      },
      "source": [
        "한국어 데이터로 훈련되었고, SKT에서 만든 KoBERT를 사용  \n",
        "\n",
        "https://github.com/monologg/KoBERT-NER 에서 kobert를 tokenize 할 수 있는 코드 가져옴"
      ]
    },
    {
      "cell_type": "code",
      "metadata": {
        "id": "ro5nKW78aktM"
      },
      "source": [
        "import logging\n",
        "import os\n",
        "import unicodedata\n",
        "from shutil import copyfile\n",
        "\n",
        "from transformers import PreTrainedTokenizer\n",
        "\n",
        "\n",
        "logger = logging.getLogger(__name__)\n",
        "\n",
        "VOCAB_FILES_NAMES = {\"vocab_file\": \"tokenizer_78b3253a26.model\",\n",
        "                     \"vocab_txt\": \"vocab.txt\"}\n",
        "\n",
        "PRETRAINED_VOCAB_FILES_MAP = {\n",
        "    \"vocab_file\": {\n",
        "        \"monologg/kobert\": \"https://s3.amazonaws.com/models.huggingface.co/bert/monologg/kobert/tokenizer_78b3253a26.model\",\n",
        "        \"monologg/kobert-lm\": \"https://s3.amazonaws.com/models.huggingface.co/bert/monologg/kobert-lm/tokenizer_78b3253a26.model\",\n",
        "        \"monologg/distilkobert\": \"https://s3.amazonaws.com/models.huggingface.co/bert/monologg/distilkobert/tokenizer_78b3253a26.model\"\n",
        "    },\n",
        "    \"vocab_txt\": {\n",
        "        \"monologg/kobert\": \"https://s3.amazonaws.com/models.huggingface.co/bert/monologg/kobert/vocab.txt\",\n",
        "        \"monologg/kobert-lm\": \"https://s3.amazonaws.com/models.huggingface.co/bert/monologg/kobert-lm/vocab.txt\",\n",
        "        \"monologg/distilkobert\": \"https://s3.amazonaws.com/models.huggingface.co/bert/monologg/distilkobert/vocab.txt\"\n",
        "    }\n",
        "}\n",
        "\n",
        "PRETRAINED_POSITIONAL_EMBEDDINGS_SIZES = {\n",
        "    \"monologg/kobert\": 512,\n",
        "    \"monologg/kobert-lm\": 512,\n",
        "    \"monologg/distilkobert\": 512\n",
        "}\n",
        "\n",
        "PRETRAINED_INIT_CONFIGURATION = {\n",
        "    \"monologg/kobert\": {\"do_lower_case\": False},\n",
        "    \"monologg/kobert-lm\": {\"do_lower_case\": False},\n",
        "    \"monologg/distilkobert\": {\"do_lower_case\": False}\n",
        "}\n",
        "\n",
        "SPIECE_UNDERLINE = u'▁'\n",
        "\n",
        "\n",
        "class KoBertTokenizer(PreTrainedTokenizer):\n",
        "    \"\"\"\n",
        "        SentencePiece based tokenizer. Peculiarities:\n",
        "            - requires `SentencePiece <https://github.com/google/sentencepiece>`_\n",
        "    \"\"\"\n",
        "    vocab_files_names = VOCAB_FILES_NAMES\n",
        "    pretrained_vocab_files_map = PRETRAINED_VOCAB_FILES_MAP\n",
        "    pretrained_init_configuration = PRETRAINED_INIT_CONFIGURATION\n",
        "    max_model_input_sizes = PRETRAINED_POSITIONAL_EMBEDDINGS_SIZES\n",
        "\n",
        "    def __init__(\n",
        "            self,\n",
        "            vocab_file,\n",
        "            vocab_txt,\n",
        "            do_lower_case=False,\n",
        "            remove_space=True,\n",
        "            keep_accents=False,\n",
        "            unk_token=\"[UNK]\",\n",
        "            sep_token=\"[SEP]\",\n",
        "            pad_token=\"[PAD]\",\n",
        "            cls_token=\"[CLS]\",\n",
        "            mask_token=\"[MASK]\",\n",
        "            **kwargs):\n",
        "        super().__init__(\n",
        "            unk_token=unk_token,\n",
        "            sep_token=sep_token,\n",
        "            pad_token=pad_token,\n",
        "            cls_token=cls_token,\n",
        "            mask_token=mask_token,\n",
        "            **kwargs\n",
        "        )\n",
        "\n",
        "        # Build vocab\n",
        "        self.token2idx = dict()\n",
        "        self.idx2token = []\n",
        "        with open(vocab_txt, 'r', encoding='utf-8') as f:\n",
        "            for idx, token in enumerate(f):\n",
        "                token = token.strip()\n",
        "                self.token2idx[token] = idx\n",
        "                self.idx2token.append(token)\n",
        "\n",
        "        self.max_len_single_sentence = self.max_len - 2  # take into account special tokens\n",
        "        self.max_len_sentences_pair = self.max_len - 3  # take into account special tokens\n",
        "\n",
        "        try:\n",
        "            import sentencepiece as spm\n",
        "        except ImportError:\n",
        "            logger.warning(\"You need to install SentencePiece to use KoBertTokenizer: https://github.com/google/sentencepiece\"\n",
        "                           \"pip install sentencepiece\")\n",
        "\n",
        "        self.do_lower_case = do_lower_case\n",
        "        self.remove_space = remove_space\n",
        "        self.keep_accents = keep_accents\n",
        "        self.vocab_file = vocab_file\n",
        "        self.vocab_txt = vocab_txt\n",
        "\n",
        "        self.sp_model = spm.SentencePieceProcessor()\n",
        "        self.sp_model.Load(vocab_file)\n",
        "\n",
        "    @property\n",
        "    def vocab_size(self):\n",
        "        return len(self.idx2token)\n",
        "\n",
        "    def __getstate__(self):\n",
        "        state = self.__dict__.copy()\n",
        "        state[\"sp_model\"] = None\n",
        "        return state\n",
        "\n",
        "    def __setstate__(self, d):\n",
        "        self.__dict__ = d\n",
        "        try:\n",
        "            import sentencepiece as spm\n",
        "        except ImportError:\n",
        "            logger.warning(\"You need to install SentencePiece to use KoBertTokenizer: https://github.com/google/sentencepiece\"\n",
        "                           \"pip install sentencepiece\")\n",
        "        self.sp_model = spm.SentencePieceProcessor()\n",
        "        self.sp_model.Load(self.vocab_file)\n",
        "\n",
        "    def preprocess_text(self, inputs):\n",
        "        if self.remove_space:\n",
        "            outputs = \" \".join(inputs.strip().split())\n",
        "        else:\n",
        "            outputs = inputs\n",
        "        outputs = outputs.replace(\"``\", '\"').replace(\"''\", '\"')\n",
        "\n",
        "        if not self.keep_accents:\n",
        "            outputs = unicodedata.normalize('NFKD', outputs)\n",
        "            outputs = \"\".join([c for c in outputs if not unicodedata.combining(c)])\n",
        "        if self.do_lower_case:\n",
        "            outputs = outputs.lower()\n",
        "\n",
        "        return outputs\n",
        "\n",
        "    def _tokenize(self, text, return_unicode=True, sample=False):\n",
        "        \"\"\" Tokenize a string. \"\"\"\n",
        "        text = self.preprocess_text(text)\n",
        "\n",
        "        if not sample:\n",
        "            pieces = self.sp_model.EncodeAsPieces(text)\n",
        "        else:\n",
        "            pieces = self.sp_model.SampleEncodeAsPieces(text, 64, 0.1)\n",
        "        new_pieces = []\n",
        "        for piece in pieces:\n",
        "            if len(piece) > 1 and piece[-1] == str(\",\") and piece[-2].isdigit():\n",
        "                cur_pieces = self.sp_model.EncodeAsPieces(piece[:-1].replace(SPIECE_UNDERLINE, \"\"))\n",
        "                if piece[0] != SPIECE_UNDERLINE and cur_pieces[0][0] == SPIECE_UNDERLINE:\n",
        "                    if len(cur_pieces[0]) == 1:\n",
        "                        cur_pieces = cur_pieces[1:]\n",
        "                    else:\n",
        "                        cur_pieces[0] = cur_pieces[0][1:]\n",
        "                cur_pieces.append(piece[-1])\n",
        "                new_pieces.extend(cur_pieces)\n",
        "            else:\n",
        "                new_pieces.append(piece)\n",
        "\n",
        "        return new_pieces\n",
        "\n",
        "    def _convert_token_to_id(self, token):\n",
        "        \"\"\" Converts a token (str/unicode) in an id using the vocab. \"\"\"\n",
        "        return self.token2idx.get(token, self.token2idx[self.unk_token])\n",
        "\n",
        "    def _convert_id_to_token(self, index, return_unicode=True):\n",
        "        \"\"\"Converts an index (integer) in a token (string/unicode) using the vocab.\"\"\"\n",
        "        return self.idx2token[index]\n",
        "\n",
        "    def convert_tokens_to_string(self, tokens):\n",
        "        \"\"\"Converts a sequence of tokens (strings for sub-words) in a single string.\"\"\"\n",
        "        out_string = \"\".join(tokens).replace(SPIECE_UNDERLINE, \" \").strip()\n",
        "        return out_string\n",
        "\n",
        "    def build_inputs_with_special_tokens(self, token_ids_0, token_ids_1=None):\n",
        "        \"\"\"\n",
        "        Build model inputs from a sequence or a pair of sequence for sequence classification tasks\n",
        "        by concatenating and adding special tokens.\n",
        "        A RoBERTa sequence has the following format:\n",
        "            single sequence: [CLS] X [SEP]\n",
        "            pair of sequences: [CLS] A [SEP] B [SEP]\n",
        "        \"\"\"\n",
        "        if token_ids_1 is None:\n",
        "            return [self.cls_token_id] + token_ids_0 + [self.sep_token_id]\n",
        "        cls = [self.cls_token_id]\n",
        "        sep = [self.sep_token_id]\n",
        "        return cls + token_ids_0 + sep + token_ids_1 + sep\n",
        "\n",
        "    def get_special_tokens_mask(self, token_ids_0, token_ids_1=None, already_has_special_tokens=False):\n",
        "        \"\"\"\n",
        "        Retrieves sequence ids from a token list that has no special tokens added. This method is called when adding\n",
        "        special tokens using the tokenizer ``prepare_for_model`` or ``encode_plus`` methods.\n",
        "        Args:\n",
        "            token_ids_0: list of ids (must not contain special tokens)\n",
        "            token_ids_1: Optional list of ids (must not contain special tokens), necessary when fetching sequence ids\n",
        "                for sequence pairs\n",
        "            already_has_special_tokens: (default False) Set to True if the token list is already formated with\n",
        "                special tokens for the model\n",
        "        Returns:\n",
        "            A list of integers in the range [0, 1]: 0 for a special token, 1 for a sequence token.\n",
        "        \"\"\"\n",
        "\n",
        "        if already_has_special_tokens:\n",
        "            if token_ids_1 is not None:\n",
        "                raise ValueError(\n",
        "                    \"You should not supply a second sequence if the provided sequence of \"\n",
        "                    \"ids is already formated with special tokens for the model.\"\n",
        "                )\n",
        "            return list(map(lambda x: 1 if x in [self.sep_token_id, self.cls_token_id] else 0, token_ids_0))\n",
        "\n",
        "        if token_ids_1 is not None:\n",
        "            return [1] + ([0] * len(token_ids_0)) + [1] + ([0] * len(token_ids_1)) + [1]\n",
        "        return [1] + ([0] * len(token_ids_0)) + [1]\n",
        "\n",
        "    def create_token_type_ids_from_sequences(self, token_ids_0, token_ids_1=None):\n",
        "        \"\"\"\n",
        "        Creates a mask from the two sequences passed to be used in a sequence-pair classification task.\n",
        "        A BERT sequence pair mask has the following format:\n",
        "        0 0 0 0 0 0 0 0 0 0 1 1 1 1 1 1 1 1 1 1 1\n",
        "        | first sequence    | second sequence\n",
        "        if token_ids_1 is None, only returns the first portion of the mask (0's).\n",
        "        \"\"\"\n",
        "        sep = [self.sep_token_id]\n",
        "        cls = [self.cls_token_id]\n",
        "        if token_ids_1 is None:\n",
        "            return len(cls + token_ids_0 + sep) * [0]\n",
        "        return len(cls + token_ids_0 + sep) * [0] + len(token_ids_1 + sep) * [1]\n",
        "\n",
        "    def save_vocabulary(self, save_directory):\n",
        "        \"\"\" Save the sentencepiece vocabulary (copy original file) and special tokens file\n",
        "            to a directory.\n",
        "        \"\"\"\n",
        "        if not os.path.isdir(save_directory):\n",
        "            logger.error(\"Vocabulary path ({}) should be a directory\".format(save_directory))\n",
        "            return\n",
        "\n",
        "        # 1. Save sentencepiece model\n",
        "        out_vocab_model = os.path.join(save_directory, VOCAB_FILES_NAMES[\"vocab_file\"])\n",
        "\n",
        "        if os.path.abspath(self.vocab_file) != os.path.abspath(out_vocab_model):\n",
        "            copyfile(self.vocab_file, out_vocab_model)\n",
        "\n",
        "        # 2. Save vocab.txt\n",
        "        index = 0\n",
        "        out_vocab_txt = os.path.join(save_directory, VOCAB_FILES_NAMES[\"vocab_txt\"])\n",
        "        with open(out_vocab_txt, \"w\", encoding=\"utf-8\") as writer:\n",
        "            for token, token_index in sorted(self.token2idx.items(), key=lambda kv: kv[1]):\n",
        "                if index != token_index:\n",
        "                    logger.warning(\n",
        "                        \"Saving vocabulary to {}: vocabulary indices are not consecutive.\"\n",
        "                        \" Please check that the vocabulary is not corrupted!\".format(out_vocab_txt)\n",
        "                    )\n",
        "                    index = token_index\n",
        "                writer.write(token + \"\\n\")\n",
        "                index += 1\n",
        "\n",
        "        return out_vocab_model, out_vocab_txt"
      ],
      "execution_count": null,
      "outputs": []
    },
    {
      "cell_type": "markdown",
      "metadata": {
        "id": "rWK4I6oC44Or"
      },
      "source": [
        "kobert 토크나이저를 임포트"
      ]
    },
    {
      "cell_type": "code",
      "metadata": {
        "id": "g4Xgl9RtsGul",
        "colab": {
          "base_uri": "https://localhost:8080/",
          "height": 149,
          "referenced_widgets": [
            "76e1dcdaf1f04d4cb9671cc236bb8cce",
            "28cf5fd8f2eb4fe09fc3e6bebf4554f1",
            "41752f1265604f89bf04e29b506c3402",
            "633bbd17db75424184f5191f585c09e8",
            "eafac5c83a9742e9bebe0ddc07945c06",
            "d60e822fcf394a98b92cc542c97ac8f5",
            "ae09360b470f46068aaf252271c9af83",
            "172d7a62285b4aa3beae59a55684f723",
            "05f7397ce73b4608af5846c71cf8e7d0",
            "ca507dc6fca542cab2e50cc40f549ec3",
            "e28385f38aa942f6b2367fb331d873cd",
            "55000b0ede3f4f1aa38bfa855a5a8d96",
            "9e8b766882774f1d8a9b28d9d79e46a4",
            "aa949a41b2c5420dbfd00d5e34c4245b",
            "9e2bfee55ff24878b3f4fc3c9f8c9c66",
            "939ec06b8d0342aab4e8f0886edc49c8"
          ]
        },
        "outputId": "5ed228cc-6e20-4fb1-a7dd-332eea1b1e17"
      },
      "source": [
        "tokenizer = KoBertTokenizer.from_pretrained('monologg/kobert')"
      ],
      "execution_count": null,
      "outputs": [
        {
          "output_type": "display_data",
          "data": {
            "application/vnd.jupyter.widget-view+json": {
              "model_id": "76e1dcdaf1f04d4cb9671cc236bb8cce",
              "version_minor": 0,
              "version_major": 2
            },
            "text/plain": [
              "HBox(children=(FloatProgress(value=0.0, description='Downloading', max=371391.0, style=ProgressStyle(descripti…"
            ]
          },
          "metadata": {
            "tags": []
          }
        },
        {
          "output_type": "stream",
          "text": [
            "\n"
          ],
          "name": "stdout"
        },
        {
          "output_type": "display_data",
          "data": {
            "application/vnd.jupyter.widget-view+json": {
              "model_id": "05f7397ce73b4608af5846c71cf8e7d0",
              "version_minor": 0,
              "version_major": 2
            },
            "text/plain": [
              "HBox(children=(FloatProgress(value=0.0, description='Downloading', max=77779.0, style=ProgressStyle(descriptio…"
            ]
          },
          "metadata": {
            "tags": []
          }
        },
        {
          "output_type": "stream",
          "text": [
            "Setting 'max_len_single_sentence' is now deprecated. This value is automatically set up.\n",
            "Setting 'max_len_sentences_pair' is now deprecated. This value is automatically set up.\n"
          ],
          "name": "stderr"
        },
        {
          "output_type": "stream",
          "text": [
            "\n"
          ],
          "name": "stdout"
        }
      ]
    },
    {
      "cell_type": "markdown",
      "metadata": {
        "id": "ii2W5UbyuN2b"
      },
      "source": [
        "tokenizer.encode => 문장을 버트 모델의 인풋 토큰값으로 바꿔줌  \n",
        "tokenizer.tokenize => 문장을 토큰화"
      ]
    },
    {
      "cell_type": "code",
      "metadata": {
        "id": "eybf2-OluWro",
        "colab": {
          "base_uri": "https://localhost:8080/"
        },
        "outputId": "003efcca-28ce-4abf-abb5-d14d7618e7bb"
      },
      "source": [
        "print(tokenizer.encode(\"너무 맛있어서 다시 주문했어요\"))"
      ],
      "execution_count": null,
      "outputs": [
        {
          "output_type": "stream",
          "text": [
            "[2, 1458, 1967, 7141, 6855, 6553, 1574, 4227, 7874, 3]\n"
          ],
          "name": "stdout"
        }
      ]
    },
    {
      "cell_type": "code",
      "metadata": {
        "id": "CshMEDzEcvdw",
        "colab": {
          "base_uri": "https://localhost:8080/"
        },
        "outputId": "c571e3da-617a-42e0-c6d3-9e523b9dfddb"
      },
      "source": [
        "print(tokenizer.tokenize(\"너무 맛있어서 다시 주문했어요\"))"
      ],
      "execution_count": null,
      "outputs": [
        {
          "output_type": "stream",
          "text": [
            "['▁너무', '▁맛', '있', '어', '서', '▁다시', '▁주문', '했어요']\n"
          ],
          "name": "stdout"
        }
      ]
    },
    {
      "cell_type": "code",
      "metadata": {
        "colab": {
          "base_uri": "https://localhost:8080/"
        },
        "id": "T2wECQT9KplB",
        "outputId": "e5b4bc57-7dae-4b56-e8ef-d039ab5f743b"
      },
      "source": [
        "print(tokenizer.encode(\"너무맛있어서다시주문했어요\"))"
      ],
      "execution_count": null,
      "outputs": [
        {
          "output_type": "stream",
          "text": [
            "[2, 1458, 6164, 7141, 6855, 6553, 5782, 6705, 7276, 6234, 7874, 3]\n"
          ],
          "name": "stdout"
        }
      ]
    },
    {
      "cell_type": "markdown",
      "metadata": {
        "id": "5LYpgPArzjiI"
      },
      "source": [
        "인스타그램 문장들을 버트 인풋으로 변환  \n",
        "문장은 토큰 인풋, 세그먼트 인풋, 마스크 인풋으로 변환  \n",
        "huggingface에서의 순서 [토큰 인풋, 마스크 인풋, 세그먼트 인풋]"
      ]
    },
    {
      "cell_type": "code",
      "metadata": {
        "id": "LFFokLO0sj_L",
        "colab": {
          "base_uri": "https://localhost:8080/"
        },
        "outputId": "692efcff-4968-475b-e533-1808671ed3a3"
      },
      "source": [
        "def convert_data(data_df):\n",
        "    global tokenizer\n",
        "    \n",
        "    SEQ_LEN = 64 #SEQ_LEN : 버트에 들어갈 인풋의 길이\n",
        "    \n",
        "    tokens, masks, segments, targets = [], [], [], []\n",
        "    \n",
        "    for i in tqdm(range(len(data_df))):\n",
        "        # token : 문장을 토큰화함\n",
        "        token = tokenizer.encode(data_df[DATA_COLUMN][i], max_length=SEQ_LEN, pad_to_max_length=True)\n",
        "       \n",
        "        # 마스크는 토큰화한 문장에서 패딩이 아닌 부분은 1, 패딩인 부분은 0으로 통일\n",
        "        num_zeros = token.count(0)\n",
        "        mask = [1]*(SEQ_LEN-num_zeros) + [0]*num_zeros\n",
        "        \n",
        "        # 문장의 전후관계를 구분해주는 세그먼트는 문장이 1개밖에 없으므로 모두 0\n",
        "        segment = [0]*SEQ_LEN\n",
        "\n",
        "        # 버트 인풋으로 들어가는 token, mask, segment를 tokens, segments에 각각 저장\n",
        "        tokens.append(token)\n",
        "        masks.append(mask)\n",
        "        segments.append(segment)\n",
        "        \n",
        "        # 정답(긍정 : 1 부정 0)을 targets 변수에 저장해 줌\n",
        "        targets.append(data_df[LABEL_COLUMN][i])\n",
        "\n",
        "    # tokens, masks, segments, 정답 변수 targets를 numpy array로 지정    \n",
        "    tokens = np.array(tokens)\n",
        "    masks = np.array(masks)\n",
        "    segments = np.array(segments)\n",
        "    targets = np.array(targets)\n",
        "\n",
        "    return [tokens, masks, segments], targets\n",
        "\n",
        "# 위에 정의한 convert_data 함수를 불러오는 함수를 정의\n",
        "def load_data(pandas_dataframe):\n",
        "    data_df = pandas_dataframe\n",
        "    data_df[DATA_COLUMN] = data_df[DATA_COLUMN].astype(str)\n",
        "    data_df[LABEL_COLUMN] = data_df[LABEL_COLUMN].astype(int)\n",
        "    data_x, data_y = convert_data(data_df)\n",
        "    return data_x, data_y\n",
        "\n",
        "SEQ_LEN = 64\n",
        "BATCH_SIZE = 32\n",
        "# 긍부정 문장을 포함하고 있는 칼럼\n",
        "DATA_COLUMN = \"text\"\n",
        "# 긍정인지 부정인지를 (1=긍정,0=부정) 포함하고 있는 칼럼\n",
        "LABEL_COLUMN = \"label\"\n",
        "\n",
        "# train 데이터를 버트 인풋에 맞게 변환\n",
        "train_x, train_y = load_data(train)"
      ],
      "execution_count": null,
      "outputs": [
        {
          "output_type": "stream",
          "text": [
            "100%|██████████| 56862/56862 [00:30<00:00, 1856.40it/s]\n"
          ],
          "name": "stderr"
        }
      ]
    },
    {
      "cell_type": "code",
      "metadata": {
        "id": "9ocb17LekZVn",
        "colab": {
          "base_uri": "https://localhost:8080/"
        },
        "outputId": "27b492d0-ff12-4cc8-8b03-b5501c6f9101"
      },
      "source": [
        "# 훈련 성능을 검증한 test 데이터를 버트 인풋에 맞게 변환\n",
        "val_x, val_y = load_data(val)"
      ],
      "execution_count": null,
      "outputs": [
        {
          "output_type": "stream",
          "text": [
            "/usr/local/lib/python3.7/dist-packages/ipykernel_launcher.py:38: SettingWithCopyWarning: \n",
            "A value is trying to be set on a copy of a slice from a DataFrame.\n",
            "Try using .loc[row_indexer,col_indexer] = value instead\n",
            "\n",
            "See the caveats in the documentation: https://pandas.pydata.org/pandas-docs/stable/user_guide/indexing.html#returning-a-view-versus-a-copy\n",
            "/usr/local/lib/python3.7/dist-packages/ipykernel_launcher.py:39: SettingWithCopyWarning: \n",
            "A value is trying to be set on a copy of a slice from a DataFrame.\n",
            "Try using .loc[row_indexer,col_indexer] = value instead\n",
            "\n",
            "See the caveats in the documentation: https://pandas.pydata.org/pandas-docs/stable/user_guide/indexing.html#returning-a-view-versus-a-copy\n",
            "100%|██████████| 12874/12874 [00:07<00:00, 1817.28it/s]\n"
          ],
          "name": "stderr"
        }
      ]
    },
    {
      "cell_type": "markdown",
      "metadata": {
        "id": "45UY1wudwa3Q"
      },
      "source": [
        "## 버트를 활용한 광고분류 모델 만들기"
      ]
    },
    {
      "cell_type": "code",
      "metadata": {
        "id": "W85BlYfo2Wge",
        "colab": {
          "base_uri": "https://localhost:8080/",
          "height": 115,
          "referenced_widgets": [
            "a0f6a686c3da4c4693fa324b34ef1a1c",
            "052a8400bc384c22b4adb0d22b9a1b26",
            "879a0d0717274995b38d8d58b2414f14",
            "5ca6bec0f184469195e9a9019023d706",
            "faed7162e4cb4298b24c6114739f81e1",
            "ecb53429e33345bb85069b350a43cf69",
            "02ac3cd958cf47e48fcd842f28817897",
            "1f0bf129eba14748b36a9ba88979980e",
            "f4fa6a23a30247c79752c80c8e111aa2",
            "a0597d5708d74e60967c721daa709422",
            "c7e0329de7684417a102d54cb9dad30c",
            "f6b97aec9b0541e39f5372be8c2174b6",
            "a0f707a3649a4878b9eceabdcee4cbec",
            "446a456d2b3f4d55972b2e7a9ae6f325",
            "5dfab59a62e44ce39b4f5d6f12baf231",
            "717e7d0d3ae448bc98af6b50a39a7aa7"
          ]
        },
        "outputId": "eb386d21-2271-40cf-f6ac-56ad080c21f4"
      },
      "source": [
        "model = TFBertModel.from_pretrained(\"monologg/kobert\", from_pt=True)\n",
        "# 토큰 인풋, 마스크 인풋, 세그먼트 인풋 정의\n",
        "token_inputs = tf.keras.layers.Input((SEQ_LEN,), dtype=tf.int32, name='input_word_ids')\n",
        "mask_inputs = tf.keras.layers.Input((SEQ_LEN,), dtype=tf.int32, name='input_masks')\n",
        "segment_inputs = tf.keras.layers.Input((SEQ_LEN,), dtype=tf.int32, name='input_segment')\n",
        "# 인풋이 [토큰, 마스크, 세그먼트]인 모델 정의\n",
        "bert_outputs = model([token_inputs, mask_inputs, segment_inputs])"
      ],
      "execution_count": null,
      "outputs": [
        {
          "output_type": "display_data",
          "data": {
            "application/vnd.jupyter.widget-view+json": {
              "model_id": "a0f6a686c3da4c4693fa324b34ef1a1c",
              "version_minor": 0,
              "version_major": 2
            },
            "text/plain": [
              "HBox(children=(FloatProgress(value=0.0, description='Downloading', max=426.0, style=ProgressStyle(description_…"
            ]
          },
          "metadata": {
            "tags": []
          }
        },
        {
          "output_type": "stream",
          "text": [
            "\n"
          ],
          "name": "stdout"
        },
        {
          "output_type": "display_data",
          "data": {
            "application/vnd.jupyter.widget-view+json": {
              "model_id": "f4fa6a23a30247c79752c80c8e111aa2",
              "version_minor": 0,
              "version_major": 2
            },
            "text/plain": [
              "HBox(children=(FloatProgress(value=0.0, description='Downloading', max=368792146.0, style=ProgressStyle(descri…"
            ]
          },
          "metadata": {
            "tags": []
          }
        },
        {
          "output_type": "stream",
          "text": [
            "\n"
          ],
          "name": "stdout"
        }
      ]
    },
    {
      "cell_type": "code",
      "metadata": {
        "id": "6K52Z9my22mJ",
        "colab": {
          "base_uri": "https://localhost:8080/"
        },
        "outputId": "eb1dceaf-7ddd-403e-fc7c-c324907076e9"
      },
      "source": [
        "bert_outputs"
      ],
      "execution_count": null,
      "outputs": [
        {
          "output_type": "execute_result",
          "data": {
            "text/plain": [
              "(<KerasTensor: shape=(None, 64, 768) dtype=float32 (created by layer 'tf_bert_model')>,\n",
              " <KerasTensor: shape=(None, 768) dtype=float32 (created by layer 'tf_bert_model')>)"
            ]
          },
          "metadata": {
            "tags": []
          },
          "execution_count": 24
        }
      ]
    },
    {
      "cell_type": "code",
      "metadata": {
        "id": "mmXsWp-x3mII"
      },
      "source": [
        "bert_outputs = bert_outputs[1]"
      ],
      "execution_count": null,
      "outputs": []
    },
    {
      "cell_type": "code",
      "metadata": {
        "id": "hiH25UmlK-R2"
      },
      "source": [
        "# Rectified Adam 옵티마이저 사용\n",
        "import tensorflow_addons as tfa\n",
        "# 총 batch size * 4 epoch = 2344 * 4\n",
        "opt = tfa.optimizers.RectifiedAdam(lr=5.0e-5, total_steps = 2344*4, warmup_proportion=0.1, min_lr=1e-5, epsilon=1e-08, clipnorm=1.0)"
      ],
      "execution_count": null,
      "outputs": []
    },
    {
      "cell_type": "code",
      "metadata": {
        "id": "CXKy-Jsg3eKA"
      },
      "source": [
        "ads_drop = tf.keras.layers.Dropout(0.5)(bert_outputs)\n",
        "ads_first = tf.keras.layers.Dense(1, activation='sigmoid', kernel_initializer=tf.keras.initializers.TruncatedNormal(stddev=0.02))(ads_drop)\n",
        "ads_model = tf.keras.Model([token_inputs, mask_inputs, segment_inputs], ads_first)\n",
        "ads_model.compile(optimizer=opt, loss=tf.keras.losses.BinaryCrossentropy(), metrics = ['accuracy'])"
      ],
      "execution_count": null,
      "outputs": []
    },
    {
      "cell_type": "code",
      "metadata": {
        "id": "o6dri7obJhGA"
      },
      "source": [
        "checkpoint_path = \"checkpoint/cp-{epoch:04d}.ckpt\"\n",
        "checkpoint_dir = os.path.dirname(checkpoint_path)"
      ],
      "execution_count": null,
      "outputs": []
    },
    {
      "cell_type": "code",
      "metadata": {
        "id": "9M0Bj72D2wUn"
      },
      "source": [
        "cp_callback = tf.keras.callbacks.ModelCheckpoint(checkpoint_path,\n",
        "                                                 save_weights_only=True,\n",
        "                                                 verbose=1)"
      ],
      "execution_count": null,
      "outputs": []
    },
    {
      "cell_type": "code",
      "metadata": {
        "id": "l4Si9oO33i70",
        "colab": {
          "base_uri": "https://localhost:8080/"
        },
        "outputId": "03c287ee-5e5a-4608-8820-1e1d81b79172"
      },
      "source": [
        "ads_model.summary()"
      ],
      "execution_count": null,
      "outputs": [
        {
          "output_type": "stream",
          "text": [
            "Model: \"model\"\n",
            "__________________________________________________________________________________________________\n",
            "Layer (type)                    Output Shape         Param #     Connected to                     \n",
            "==================================================================================================\n",
            "input_word_ids (InputLayer)     [(None, 64)]         0                                            \n",
            "__________________________________________________________________________________________________\n",
            "input_masks (InputLayer)        [(None, 64)]         0                                            \n",
            "__________________________________________________________________________________________________\n",
            "input_segment (InputLayer)      [(None, 64)]         0                                            \n",
            "__________________________________________________________________________________________________\n",
            "tf_bert_model (TFBertModel)     ((None, 64, 768), (N 92186880    input_word_ids[0][0]             \n",
            "                                                                 input_masks[0][0]                \n",
            "                                                                 input_segment[0][0]              \n",
            "__________________________________________________________________________________________________\n",
            "dropout_37 (Dropout)            (None, 768)          0           tf_bert_model[0][1]              \n",
            "__________________________________________________________________________________________________\n",
            "dense (Dense)                   (None, 1)            769         dropout_37[0][0]                 \n",
            "==================================================================================================\n",
            "Total params: 92,187,649\n",
            "Trainable params: 92,187,649\n",
            "Non-trainable params: 0\n",
            "__________________________________________________________________________________________________\n"
          ],
          "name": "stdout"
        }
      ]
    },
    {
      "cell_type": "markdown",
      "metadata": {
        "id": "yI0_9hOAwp1-"
      },
      "source": [
        "## 훈련 및 성능 검증"
      ]
    },
    {
      "cell_type": "markdown",
      "metadata": {
        "id": "TYiBL0TCl21n"
      },
      "source": [
        "모델 학습"
      ]
    },
    {
      "cell_type": "code",
      "metadata": {
        "id": "EXuNkLlUbHN3",
        "colab": {
          "base_uri": "https://localhost:8080/"
        },
        "outputId": "b81df7ca-19ad-4983-b03a-aeb5d40dee68"
      },
      "source": [
        "ads_model.fit(train_x, train_y, epochs=15, shuffle=True, batch_size=64, validation_data=(val_x, val_y), callbacks=[cp_callback])"
      ],
      "execution_count": null,
      "outputs": [
        {
          "output_type": "stream",
          "text": [
            "Epoch 1/15\n",
            "889/889 [==============================] - 900s 955ms/step - loss: 0.2421 - accuracy: 0.8889 - val_loss: 1.0675 - val_accuracy: 0.6890\n",
            "\n",
            "Epoch 00001: saving model to checkpoint/cp-0001.ckpt\n",
            "Epoch 2/15\n",
            "889/889 [==============================] - 845s 951ms/step - loss: 0.1622 - accuracy: 0.9329 - val_loss: 1.1369 - val_accuracy: 0.6927\n",
            "\n",
            "Epoch 00002: saving model to checkpoint/cp-0002.ckpt\n",
            "Epoch 3/15\n",
            "889/889 [==============================] - 846s 952ms/step - loss: 0.1157 - accuracy: 0.9552 - val_loss: 1.3194 - val_accuracy: 0.6809\n",
            "\n",
            "Epoch 00003: saving model to checkpoint/cp-0003.ckpt\n",
            "Epoch 4/15\n",
            "889/889 [==============================] - 845s 950ms/step - loss: 0.0763 - accuracy: 0.9730 - val_loss: 1.7848 - val_accuracy: 0.6784\n",
            "\n",
            "Epoch 00004: saving model to checkpoint/cp-0004.ckpt\n",
            "Epoch 5/15\n",
            "889/889 [==============================] - 846s 951ms/step - loss: 0.0485 - accuracy: 0.9843 - val_loss: 1.7062 - val_accuracy: 0.6815\n",
            "\n",
            "Epoch 00005: saving model to checkpoint/cp-0005.ckpt\n",
            "Epoch 6/15\n",
            "889/889 [==============================] - 846s 951ms/step - loss: 0.0302 - accuracy: 0.9912 - val_loss: 1.9668 - val_accuracy: 0.6786\n",
            "\n",
            "Epoch 00006: saving model to checkpoint/cp-0006.ckpt\n",
            "Epoch 7/15\n",
            "889/889 [==============================] - 845s 951ms/step - loss: 0.0223 - accuracy: 0.9932 - val_loss: 1.9506 - val_accuracy: 0.6798\n",
            "\n",
            "Epoch 00007: saving model to checkpoint/cp-0007.ckpt\n",
            "Epoch 8/15\n",
            "889/889 [==============================] - 845s 950ms/step - loss: 0.0142 - accuracy: 0.9958 - val_loss: 1.9509 - val_accuracy: 0.6773\n",
            "\n",
            "Epoch 00008: saving model to checkpoint/cp-0008.ckpt\n",
            "Epoch 9/15\n",
            "889/889 [==============================] - 846s 952ms/step - loss: 0.0149 - accuracy: 0.9957 - val_loss: 2.0671 - val_accuracy: 0.6815\n",
            "\n",
            "Epoch 00009: saving model to checkpoint/cp-0009.ckpt\n",
            "Epoch 10/15\n",
            "821/889 [==========================>...] - ETA: 1:00 - loss: 0.0171 - accuracy: 0.9953"
          ],
          "name": "stdout"
        }
      ]
    },
    {
      "cell_type": "markdown",
      "metadata": {
        "id": "lelSOTLUl6Kx"
      },
      "source": [
        "모델 저장"
      ]
    },
    {
      "cell_type": "code",
      "metadata": {
        "id": "_NEaVAnaHTEm"
      },
      "source": [
        "# ads_model.save('/content/gdrive/MyDrive/DataScience/model/mymodel')"
      ],
      "execution_count": null,
      "outputs": []
    },
    {
      "cell_type": "code",
      "metadata": {
        "id": "buCND0hw4Elk"
      },
      "source": [
        "# ads_model.save_weights('/content/drive/MyDrive/DataScience/model/saveweights/ads_save.h5')"
      ],
      "execution_count": null,
      "outputs": []
    },
    {
      "cell_type": "code",
      "metadata": {
        "id": "omb0-OFi4K_T"
      },
      "source": [
        "# ads_model.load_weights('/content/drive/MyDrive/DataScience/model/saveweights/ads_save.h5')"
      ],
      "execution_count": null,
      "outputs": []
    },
    {
      "cell_type": "code",
      "metadata": {
        "colab": {
          "base_uri": "https://localhost:8080/"
        },
        "id": "JWeK2A3Zwk0D",
        "outputId": "23c2f10f-6978-464d-a152-3095dfb60036"
      },
      "source": [
        "latest = tf.train.latest_checkpoint(checkpoint_dir)\n",
        "\n",
        "# ads_model.load_weights(latest)\n",
        "\n",
        "ads_model.load_weights('/content/drive/MyDrive/DataScience/data/instagram/checkpoint/cp-0002.ckpt')"
      ],
      "execution_count": null,
      "outputs": [
        {
          "output_type": "execute_result",
          "data": {
            "text/plain": [
              "<tensorflow.python.training.tracking.util.CheckpointLoadStatus at 0x7fc4b595b0d0>"
            ]
          },
          "metadata": {
            "tags": []
          },
          "execution_count": 31
        }
      ]
    },
    {
      "cell_type": "markdown",
      "metadata": {
        "id": "J1Gv3m_34nIX"
      },
      "source": [
        "훈련 모델의 예측 성능을 F1 SCORE로 체크하기 위한 작업"
      ]
    },
    {
      "cell_type": "code",
      "metadata": {
        "id": "Zjv6RMR1jYIe"
      },
      "source": [
        "def predict_convert_data(data_df):\n",
        "    global tokenizer\n",
        "    tokens, masks, segments = [], [], []\n",
        "    \n",
        "    for i in tqdm(range(len(data_df))):\n",
        "\n",
        "        token = tokenizer.encode(data_df[DATA_COLUMN][i], max_length=SEQ_LEN, pad_to_max_length=True)\n",
        "        num_zeros = token.count(0)\n",
        "        mask = [1]*(SEQ_LEN-num_zeros) + [0]*num_zeros\n",
        "        segment = [0]*SEQ_LEN\n",
        "\n",
        "        tokens.append(token)\n",
        "        segments.append(segment)\n",
        "        masks.append(mask)\n",
        "\n",
        "    tokens = np.array(tokens)\n",
        "    masks = np.array(masks)\n",
        "    segments = np.array(segments)\n",
        "    return [tokens, masks, segments]\n",
        "\n",
        "# 위에 정의한 convert_data 함수를 불러오는 함수를 정의\n",
        "def predict_load_data(pandas_dataframe):\n",
        "    data_df = pandas_dataframe\n",
        "    data_df[DATA_COLUMN] = data_df[DATA_COLUMN].astype(str)\n",
        "    data_x = predict_convert_data(data_df)\n",
        "    return data_x"
      ],
      "execution_count": null,
      "outputs": []
    },
    {
      "cell_type": "markdown",
      "metadata": {
        "id": "1nyqBoQD4tz1"
      },
      "source": [
        "test 데이터 예측하기"
      ]
    },
    {
      "cell_type": "code",
      "metadata": {
        "id": "tzlfYX6xlFEk",
        "colab": {
          "base_uri": "https://localhost:8080/"
        },
        "outputId": "b471afa3-3ca8-48a3-aa60-5ffdd073a7b9"
      },
      "source": [
        "test_set = predict_load_data(test)"
      ],
      "execution_count": null,
      "outputs": [
        {
          "output_type": "stream",
          "text": [
            "/usr/local/lib/python3.7/dist-packages/ipykernel_launcher.py:24: SettingWithCopyWarning: \n",
            "A value is trying to be set on a copy of a slice from a DataFrame.\n",
            "Try using .loc[row_indexer,col_indexer] = value instead\n",
            "\n",
            "See the caveats in the documentation: https://pandas.pydata.org/pandas-docs/stable/user_guide/indexing.html#returning-a-view-versus-a-copy\n",
            "100%|██████████| 12874/12874 [00:06<00:00, 1903.89it/s]\n"
          ],
          "name": "stderr"
        }
      ]
    },
    {
      "cell_type": "code",
      "metadata": {
        "id": "kpMD9Ua_7CNX",
        "colab": {
          "base_uri": "https://localhost:8080/"
        },
        "outputId": "c089472d-4469-46b3-ae26-72d68ac3c5c9"
      },
      "source": [
        "test_set"
      ],
      "execution_count": null,
      "outputs": [
        {
          "output_type": "execute_result",
          "data": {
            "text/plain": [
              "[array([[   2, 1209, 7681, ..., 5742, 7946,    3],\n",
              "        [   2,  668, 7214, ..., 5592,  761,    3],\n",
              "        [   2, 4092, 7342, ..., 6588,  882,    3],\n",
              "        ...,\n",
              "        [   2, 4102,  777, ...,    1,    1,    1],\n",
              "        [   2,  517,  375, ..., 3138, 3647,    3],\n",
              "        [   2,  695,  357, ...,  409,  517,    3]]),\n",
              " array([[1, 1, 1, ..., 1, 1, 0],\n",
              "        [1, 1, 1, ..., 1, 1, 1],\n",
              "        [1, 1, 1, ..., 1, 1, 1],\n",
              "        ...,\n",
              "        [1, 1, 1, ..., 1, 1, 1],\n",
              "        [1, 1, 1, ..., 1, 1, 1],\n",
              "        [1, 1, 1, ..., 1, 1, 1]]),\n",
              " array([[0, 0, 0, ..., 0, 0, 0],\n",
              "        [0, 0, 0, ..., 0, 0, 0],\n",
              "        [0, 0, 0, ..., 0, 0, 0],\n",
              "        ...,\n",
              "        [0, 0, 0, ..., 0, 0, 0],\n",
              "        [0, 0, 0, ..., 0, 0, 0],\n",
              "        [0, 0, 0, ..., 0, 0, 0]])]"
            ]
          },
          "metadata": {
            "tags": []
          },
          "execution_count": 34
        }
      ]
    },
    {
      "cell_type": "code",
      "metadata": {
        "id": "hkYBo-dklM8O"
      },
      "source": [
        "preds = ads_model.predict(test_set)"
      ],
      "execution_count": null,
      "outputs": []
    },
    {
      "cell_type": "code",
      "metadata": {
        "id": "rQ_8XP0ylOe2",
        "colab": {
          "base_uri": "https://localhost:8080/"
        },
        "outputId": "f6c4e8dc-b38b-4e1f-8664-0f22a2d1a990"
      },
      "source": [
        "# 부정이면 0, 긍정이면 1 출력\n",
        "preds"
      ],
      "execution_count": null,
      "outputs": [
        {
          "output_type": "execute_result",
          "data": {
            "text/plain": [
              "array([[0.9585381 ],\n",
              "       [0.8169035 ],\n",
              "       [0.985919  ],\n",
              "       ...,\n",
              "       [0.00123075],\n",
              "       [0.971316  ],\n",
              "       [0.9407427 ]], dtype=float32)"
            ]
          },
          "metadata": {
            "tags": []
          },
          "execution_count": 36
        }
      ]
    },
    {
      "cell_type": "code",
      "metadata": {
        "colab": {
          "base_uri": "https://localhost:8080/"
        },
        "id": "3h2DuYu_JwiA",
        "outputId": "d3b7d78f-e61c-4c30-8154-0164b1b472b6"
      },
      "source": [
        "# 최적 threshold 찾기\n",
        "from sklearn.metrics import classification_report\n",
        "for th in np.arange(0.1,0.9,0.1):\n",
        "    print(\"threshold: %.2f\"%th)\n",
        "    y_true = (preds >= th).astype(int)\n",
        "    print(classification_report(test['label'], y_true))"
      ],
      "execution_count": null,
      "outputs": [
        {
          "output_type": "stream",
          "text": [
            "threshold: 0.10\n",
            "              precision    recall  f1-score   support\n",
            "\n",
            "           0       0.79      0.40      0.54      5714\n",
            "           1       0.66      0.92      0.77      7160\n",
            "\n",
            "    accuracy                           0.69     12874\n",
            "   macro avg       0.73      0.66      0.65     12874\n",
            "weighted avg       0.72      0.69      0.66     12874\n",
            "\n",
            "threshold: 0.20\n",
            "              precision    recall  f1-score   support\n",
            "\n",
            "           0       0.79      0.42      0.55      5714\n",
            "           1       0.66      0.91      0.77      7160\n",
            "\n",
            "    accuracy                           0.69     12874\n",
            "   macro avg       0.72      0.66      0.66     12874\n",
            "weighted avg       0.72      0.69      0.67     12874\n",
            "\n",
            "threshold: 0.30\n",
            "              precision    recall  f1-score   support\n",
            "\n",
            "           0       0.78      0.43      0.55      5714\n",
            "           1       0.66      0.90      0.76      7160\n",
            "\n",
            "    accuracy                           0.69     12874\n",
            "   macro avg       0.72      0.67      0.66     12874\n",
            "weighted avg       0.71      0.69      0.67     12874\n",
            "\n",
            "threshold: 0.40\n",
            "              precision    recall  f1-score   support\n",
            "\n",
            "           0       0.77      0.44      0.56      5714\n",
            "           1       0.67      0.89      0.76      7160\n",
            "\n",
            "    accuracy                           0.69     12874\n",
            "   macro avg       0.72      0.67      0.66     12874\n",
            "weighted avg       0.71      0.69      0.67     12874\n",
            "\n",
            "threshold: 0.50\n",
            "              precision    recall  f1-score   support\n",
            "\n",
            "           0       0.76      0.45      0.56      5714\n",
            "           1       0.67      0.89      0.76      7160\n",
            "\n",
            "    accuracy                           0.69     12874\n",
            "   macro avg       0.71      0.67      0.66     12874\n",
            "weighted avg       0.71      0.69      0.67     12874\n",
            "\n",
            "threshold: 0.60\n",
            "              precision    recall  f1-score   support\n",
            "\n",
            "           0       0.74      0.46      0.57      5714\n",
            "           1       0.67      0.87      0.76      7160\n",
            "\n",
            "    accuracy                           0.69     12874\n",
            "   macro avg       0.70      0.67      0.66     12874\n",
            "weighted avg       0.70      0.69      0.67     12874\n",
            "\n",
            "threshold: 0.70\n",
            "              precision    recall  f1-score   support\n",
            "\n",
            "           0       0.72      0.48      0.57      5714\n",
            "           1       0.67      0.85      0.75      7160\n",
            "\n",
            "    accuracy                           0.69     12874\n",
            "   macro avg       0.70      0.66      0.66     12874\n",
            "weighted avg       0.69      0.69      0.67     12874\n",
            "\n",
            "threshold: 0.80\n",
            "              precision    recall  f1-score   support\n",
            "\n",
            "           0       0.70      0.50      0.58      5714\n",
            "           1       0.67      0.83      0.74      7160\n",
            "\n",
            "    accuracy                           0.68     12874\n",
            "   macro avg       0.69      0.66      0.66     12874\n",
            "weighted avg       0.68      0.68      0.67     12874\n",
            "\n"
          ],
          "name": "stdout"
        }
      ]
    },
    {
      "cell_type": "code",
      "metadata": {
        "colab": {
          "base_uri": "https://localhost:8080/"
        },
        "id": "sA01HDwPKJFn",
        "outputId": "c521af57-c81d-4680-860a-9da75cb3a81b"
      },
      "source": [
        "# 최적 threshold 찾기\n",
        "for th in np.arange(0.2,0.3,0.01):\n",
        "    print(\"threshold: %.2f\"%th)\n",
        "    y_true = (preds >= th).astype(int)\n",
        "    print(classification_report(test['label'], y_true))"
      ],
      "execution_count": null,
      "outputs": [
        {
          "output_type": "stream",
          "text": [
            "threshold: 0.20\n",
            "              precision    recall  f1-score   support\n",
            "\n",
            "           0       0.79      0.42      0.55      5714\n",
            "           1       0.66      0.91      0.77      7160\n",
            "\n",
            "    accuracy                           0.69     12874\n",
            "   macro avg       0.72      0.66      0.66     12874\n",
            "weighted avg       0.72      0.69      0.67     12874\n",
            "\n",
            "threshold: 0.21\n",
            "              precision    recall  f1-score   support\n",
            "\n",
            "           0       0.78      0.42      0.55      5714\n",
            "           1       0.66      0.91      0.77      7160\n",
            "\n",
            "    accuracy                           0.69     12874\n",
            "   macro avg       0.72      0.66      0.66     12874\n",
            "weighted avg       0.72      0.69      0.67     12874\n",
            "\n",
            "threshold: 0.22\n",
            "              precision    recall  f1-score   support\n",
            "\n",
            "           0       0.78      0.42      0.55      5714\n",
            "           1       0.66      0.91      0.77      7160\n",
            "\n",
            "    accuracy                           0.69     12874\n",
            "   macro avg       0.72      0.66      0.66     12874\n",
            "weighted avg       0.72      0.69      0.67     12874\n",
            "\n",
            "threshold: 0.23\n",
            "              precision    recall  f1-score   support\n",
            "\n",
            "           0       0.78      0.42      0.55      5714\n",
            "           1       0.66      0.91      0.77      7160\n",
            "\n",
            "    accuracy                           0.69     12874\n",
            "   macro avg       0.72      0.66      0.66     12874\n",
            "weighted avg       0.72      0.69      0.67     12874\n",
            "\n",
            "threshold: 0.24\n",
            "              precision    recall  f1-score   support\n",
            "\n",
            "           0       0.78      0.42      0.55      5714\n",
            "           1       0.66      0.91      0.77      7160\n",
            "\n",
            "    accuracy                           0.69     12874\n",
            "   macro avg       0.72      0.66      0.66     12874\n",
            "weighted avg       0.72      0.69      0.67     12874\n",
            "\n",
            "threshold: 0.25\n",
            "              precision    recall  f1-score   support\n",
            "\n",
            "           0       0.78      0.42      0.55      5714\n",
            "           1       0.66      0.91      0.77      7160\n",
            "\n",
            "    accuracy                           0.69     12874\n",
            "   macro avg       0.72      0.66      0.66     12874\n",
            "weighted avg       0.72      0.69      0.67     12874\n",
            "\n",
            "threshold: 0.26\n",
            "              precision    recall  f1-score   support\n",
            "\n",
            "           0       0.78      0.42      0.55      5714\n",
            "           1       0.66      0.90      0.77      7160\n",
            "\n",
            "    accuracy                           0.69     12874\n",
            "   macro avg       0.72      0.66      0.66     12874\n",
            "weighted avg       0.72      0.69      0.67     12874\n",
            "\n",
            "threshold: 0.27\n",
            "              precision    recall  f1-score   support\n",
            "\n",
            "           0       0.78      0.42      0.55      5714\n",
            "           1       0.66      0.90      0.77      7160\n",
            "\n",
            "    accuracy                           0.69     12874\n",
            "   macro avg       0.72      0.66      0.66     12874\n",
            "weighted avg       0.71      0.69      0.67     12874\n",
            "\n",
            "threshold: 0.28\n",
            "              precision    recall  f1-score   support\n",
            "\n",
            "           0       0.78      0.43      0.55      5714\n",
            "           1       0.66      0.90      0.76      7160\n",
            "\n",
            "    accuracy                           0.69     12874\n",
            "   macro avg       0.72      0.66      0.66     12874\n",
            "weighted avg       0.71      0.69      0.67     12874\n",
            "\n",
            "threshold: 0.29\n",
            "              precision    recall  f1-score   support\n",
            "\n",
            "           0       0.78      0.43      0.55      5714\n",
            "           1       0.66      0.90      0.76      7160\n",
            "\n",
            "    accuracy                           0.69     12874\n",
            "   macro avg       0.72      0.66      0.66     12874\n",
            "weighted avg       0.71      0.69      0.67     12874\n",
            "\n"
          ],
          "name": "stdout"
        }
      ]
    },
    {
      "cell_type": "markdown",
      "metadata": {
        "id": "rAJxrViQ4woJ"
      },
      "source": [
        "우리가 훈련한 모델을 F1 SCORE를 바탕으로 성능 측정  \n",
        "F1 SCORE는 precision과 recall을 가중평균하여 계산합니다  \n",
        "recall은 (모델이 TRUE라고 판정한 것의 숫자)/(전체 TRUE의 숫자)  \n",
        "precision은 (진짜 TRUE) / (모델이 TRUE라고 판정한 것의 숫자)"
      ]
    },
    {
      "cell_type": "code",
      "metadata": {
        "id": "03mZ0D7urOl9"
      },
      "source": [
        "import logging\n",
        "tf.get_logger().setLevel(logging.ERROR)"
      ],
      "execution_count": null,
      "outputs": []
    },
    {
      "cell_type": "markdown",
      "metadata": {
        "id": "6gVoWj_Mwwhq"
      },
      "source": [
        "# 실제 데이터 적용"
      ]
    },
    {
      "cell_type": "code",
      "metadata": {
        "id": "VGNnQs0Tlbiv"
      },
      "source": [
        "def sentence_convert_data(data):\n",
        "    global tokenizer\n",
        "    tokens, masks, segments = [], [], []\n",
        "    token = tokenizer.encode(data, max_length=SEQ_LEN, pad_to_max_length=True)\n",
        "    \n",
        "    num_zeros = token.count(0) \n",
        "    mask = [1]*(SEQ_LEN-num_zeros) + [0]*num_zeros \n",
        "    segment = [0]*SEQ_LEN\n",
        "\n",
        "    tokens.append(token)\n",
        "    segments.append(segment)\n",
        "    masks.append(mask)\n",
        "\n",
        "    tokens = np.array(tokens)\n",
        "    masks = np.array(masks)\n",
        "    segments = np.array(segments)\n",
        "    return [tokens, masks, segments]\n",
        "\n",
        "def review_evaluation_predict(sentence):\n",
        "    data_x = sentence_convert_data(sentence)\n",
        "    predict = ads_model.predict(data_x)\n",
        "    predict_value = np.ravel(predict)\n",
        "    predict_answer = np.round(predict_value,0).item()\n",
        "    \n",
        "    if predict_answer == 0:\n",
        "      return \"(부정 확률 : %.2f) 광고가 아닙니다.\" % (1-predict_value)\n",
        "    elif predict_answer == 1:\n",
        "      return \"(긍정 확률 : %.2f) 광고입니다.\" % predict_value"
      ],
      "execution_count": null,
      "outputs": []
    },
    {
      "cell_type": "code",
      "metadata": {
        "id": "goaRkOc6l8mL",
        "colab": {
          "base_uri": "https://localhost:8080/",
          "height": 35
        },
        "outputId": "0f072078-628e-4553-fff1-544c1d44b39a"
      },
      "source": [
        "review_evaluation_predict(\"두번 다시 안 살꺼에요\")"
      ],
      "execution_count": null,
      "outputs": [
        {
          "output_type": "execute_result",
          "data": {
            "application/vnd.google.colaboratory.intrinsic+json": {
              "type": "string"
            },
            "text/plain": [
              "'(부정 확률 : 1.00) 광고가 아닙니다.'"
            ]
          },
          "metadata": {
            "tags": []
          },
          "execution_count": 40
        }
      ]
    },
    {
      "cell_type": "code",
      "metadata": {
        "id": "NRpq1b-Zo3Oa",
        "colab": {
          "base_uri": "https://localhost:8080/",
          "height": 35
        },
        "outputId": "c71a8a05-28b1-419e-800c-0bc4bb578637"
      },
      "source": [
        "review_evaluation_predict(\"배송이 좀 느리긴 했어도 품질 자체는 믿을만해요\")"
      ],
      "execution_count": null,
      "outputs": [
        {
          "output_type": "execute_result",
          "data": {
            "application/vnd.google.colaboratory.intrinsic+json": {
              "type": "string"
            },
            "text/plain": [
              "'(부정 확률 : 1.00) 광고가 아닙니다.'"
            ]
          },
          "metadata": {
            "tags": []
          },
          "execution_count": 41
        }
      ]
    },
    {
      "cell_type": "code",
      "metadata": {
        "id": "gX6aA3NPuVuT",
        "colab": {
          "base_uri": "https://localhost:8080/",
          "height": 35
        },
        "outputId": "6ff86e76-d485-45b2-ce5f-df6438f7de95"
      },
      "source": [
        "review_evaluation_predict(\"디자인이 매우 세련되었으나 쉽게 망가지네요. 내구도가 엉망이에요\")"
      ],
      "execution_count": null,
      "outputs": [
        {
          "output_type": "execute_result",
          "data": {
            "application/vnd.google.colaboratory.intrinsic+json": {
              "type": "string"
            },
            "text/plain": [
              "'(부정 확률 : 1.00) 광고가 아닙니다.'"
            ]
          },
          "metadata": {
            "tags": []
          },
          "execution_count": 42
        }
      ]
    },
    {
      "cell_type": "markdown",
      "metadata": {
        "id": "kTTONngefUnf"
      },
      "source": [
        "### 에어팟 리뷰데이터 분류"
      ]
    },
    {
      "cell_type": "code",
      "metadata": {
        "id": "MP8GTElefdNy",
        "colab": {
          "base_uri": "https://localhost:8080/"
        },
        "outputId": "159e7914-5b78-48ca-cdd2-e673fdf422b3"
      },
      "source": [
        "test['evaluation'] = test['text'].apply(review_evaluation_predict)"
      ],
      "execution_count": null,
      "outputs": [
        {
          "output_type": "stream",
          "text": [
            "/usr/local/lib/python3.7/dist-packages/ipykernel_launcher.py:1: SettingWithCopyWarning: \n",
            "A value is trying to be set on a copy of a slice from a DataFrame.\n",
            "Try using .loc[row_indexer,col_indexer] = value instead\n",
            "\n",
            "See the caveats in the documentation: https://pandas.pydata.org/pandas-docs/stable/user_guide/indexing.html#returning-a-view-versus-a-copy\n",
            "  \"\"\"Entry point for launching an IPython kernel.\n"
          ],
          "name": "stderr"
        }
      ]
    },
    {
      "cell_type": "code",
      "metadata": {
        "colab": {
          "base_uri": "https://localhost:8080/",
          "height": 419
        },
        "id": "kcvyOqRQkji_",
        "outputId": "98d22d8c-ec57-4dac-c913-1b68096d5ff7"
      },
      "source": [
        "test"
      ],
      "execution_count": null,
      "outputs": [
        {
          "output_type": "execute_result",
          "data": {
            "text/html": [
              "<div>\n",
              "<style scoped>\n",
              "    .dataframe tbody tr th:only-of-type {\n",
              "        vertical-align: middle;\n",
              "    }\n",
              "\n",
              "    .dataframe tbody tr th {\n",
              "        vertical-align: top;\n",
              "    }\n",
              "\n",
              "    .dataframe thead th {\n",
              "        text-align: right;\n",
              "    }\n",
              "</style>\n",
              "<table border=\"1\" class=\"dataframe\">\n",
              "  <thead>\n",
              "    <tr style=\"text-align: right;\">\n",
              "      <th></th>\n",
              "      <th>text</th>\n",
              "      <th>label</th>\n",
              "      <th>evaluation</th>\n",
              "    </tr>\n",
              "  </thead>\n",
              "  <tbody>\n",
              "    <tr>\n",
              "      <th>0</th>\n",
              "      <td>그리팅바이탈식단 맛도좋고 영양도 좋고 건강에는 더욱더 좋고 가정주부에겐 너무나 편한...</td>\n",
              "      <td>1</td>\n",
              "      <td>(긍정 확률 : 0.72) 광고입니다.</td>\n",
              "    </tr>\n",
              "    <tr>\n",
              "      <th>1</th>\n",
              "      <td>LG전자초프리미엄샵오픈 기다리고 기다리던 롯데백화점 중동점LG 전자 초프리미엄샵 ...</td>\n",
              "      <td>1</td>\n",
              "      <td>(긍정 확률 : 1.00) 광고입니다.</td>\n",
              "    </tr>\n",
              "    <tr>\n",
              "      <th>2</th>\n",
              "      <td>정직한 판매 믿고 사는 코스메틱 뷰티몰 화장품 건강기능식품 100 본사 상품유통기한...</td>\n",
              "      <td>1</td>\n",
              "      <td>(긍정 확률 : 1.00) 광고입니다.</td>\n",
              "    </tr>\n",
              "    <tr>\n",
              "      <th>3</th>\n",
              "      <td>평소 윤조에센스 쓰는데 5세대가 나왔다길래 체험단 신청했다가 덜컥 당첨되었다 큰 게...</td>\n",
              "      <td>0</td>\n",
              "      <td>(부정 확률 : 0.87) 광고가 아닙니다.</td>\n",
              "    </tr>\n",
              "    <tr>\n",
              "      <th>4</th>\n",
              "      <td>클스마스 잘 보내고 있나요 전 어제 쫌 무리했나봐요 아침에 라면 하나먹고 멍 때리고...</td>\n",
              "      <td>0</td>\n",
              "      <td>(부정 확률 : 0.92) 광고가 아닙니다.</td>\n",
              "    </tr>\n",
              "    <tr>\n",
              "      <th>...</th>\n",
              "      <td>...</td>\n",
              "      <td>...</td>\n",
              "      <td>...</td>\n",
              "    </tr>\n",
              "    <tr>\n",
              "      <th>12869</th>\n",
              "      <td>내몸이 천냥이면 눈은 구백냥 제2의 눈 선글라스 트루아이 트루아이 의사 선생님도 인...</td>\n",
              "      <td>1</td>\n",
              "      <td>(긍정 확률 : 0.60) 광고입니다.</td>\n",
              "    </tr>\n",
              "    <tr>\n",
              "      <th>12870</th>\n",
              "      <td>예뻐지자 프라엘</td>\n",
              "      <td>0</td>\n",
              "      <td>(부정 확률 : 1.00) 광고가 아닙니다.</td>\n",
              "    </tr>\n",
              "    <tr>\n",
              "      <th>12871</th>\n",
              "      <td>정말 간만에 프라엘 결혼후 관리 다시시작</td>\n",
              "      <td>0</td>\n",
              "      <td>(부정 확률 : 1.00) 광고가 아닙니다.</td>\n",
              "    </tr>\n",
              "    <tr>\n",
              "      <th>12872</th>\n",
              "      <td>artflora 후기영상 자이언트카네이션 선물포장 메이크업 선생님께 스승의날 선물...</td>\n",
              "      <td>1</td>\n",
              "      <td>(긍정 확률 : 0.85) 광고입니다.</td>\n",
              "    </tr>\n",
              "    <tr>\n",
              "      <th>12873</th>\n",
              "      <td>UV rays are reflected off snow and ice so you...</td>\n",
              "      <td>0</td>\n",
              "      <td>(긍정 확률 : 1.00) 광고입니다.</td>\n",
              "    </tr>\n",
              "  </tbody>\n",
              "</table>\n",
              "<p>12874 rows × 3 columns</p>\n",
              "</div>"
            ],
            "text/plain": [
              "                                                    text  ...                evaluation\n",
              "0      그리팅바이탈식단 맛도좋고 영양도 좋고 건강에는 더욱더 좋고 가정주부에겐 너무나 편한...  ...     (긍정 확률 : 0.72) 광고입니다.\n",
              "1       LG전자초프리미엄샵오픈 기다리고 기다리던 롯데백화점 중동점LG 전자 초프리미엄샵 ...  ...     (긍정 확률 : 1.00) 광고입니다.\n",
              "2      정직한 판매 믿고 사는 코스메틱 뷰티몰 화장품 건강기능식품 100 본사 상품유통기한...  ...     (긍정 확률 : 1.00) 광고입니다.\n",
              "3      평소 윤조에센스 쓰는데 5세대가 나왔다길래 체험단 신청했다가 덜컥 당첨되었다 큰 게...  ...  (부정 확률 : 0.87) 광고가 아닙니다.\n",
              "4      클스마스 잘 보내고 있나요 전 어제 쫌 무리했나봐요 아침에 라면 하나먹고 멍 때리고...  ...  (부정 확률 : 0.92) 광고가 아닙니다.\n",
              "...                                                  ...  ...                       ...\n",
              "12869  내몸이 천냥이면 눈은 구백냥 제2의 눈 선글라스 트루아이 트루아이 의사 선생님도 인...  ...     (긍정 확률 : 0.60) 광고입니다.\n",
              "12870                                           예뻐지자 프라엘  ...  (부정 확률 : 1.00) 광고가 아닙니다.\n",
              "12871                             정말 간만에 프라엘 결혼후 관리 다시시작  ...  (부정 확률 : 1.00) 광고가 아닙니다.\n",
              "12872   artflora 후기영상 자이언트카네이션 선물포장 메이크업 선생님께 스승의날 선물...  ...     (긍정 확률 : 0.85) 광고입니다.\n",
              "12873   UV rays are reflected off snow and ice so you...  ...     (긍정 확률 : 1.00) 광고입니다.\n",
              "\n",
              "[12874 rows x 3 columns]"
            ]
          },
          "metadata": {
            "tags": []
          },
          "execution_count": 44
        }
      ]
    },
    {
      "cell_type": "code",
      "metadata": {
        "id": "gE8xwxVwwjfE"
      },
      "source": [
        "# test.to_csv('ads_output.csv', encoding='utf-8-sig', mode='w')"
      ],
      "execution_count": null,
      "outputs": []
    }
  ]
}