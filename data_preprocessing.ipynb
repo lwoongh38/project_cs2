{
  "nbformat": 4,
  "nbformat_minor": 0,
  "metadata": {
    "colab": {
      "name": "data_preprocessing.ipynb",
      "provenance": [],
      "collapsed_sections": []
    },
    "kernelspec": {
      "name": "python3",
      "display_name": "Python 3"
    },
    "language_info": {
      "name": "python"
    }
  },
  "cells": [
    {
      "cell_type": "markdown",
      "metadata": {
        "id": "4lyxExUZPklJ"
      },
      "source": [
        "## 인스타그램 포스트 데이터 크롤링"
      ]
    },
    {
      "cell_type": "code",
      "metadata": {
        "colab": {
          "base_uri": "https://localhost:8080/"
        },
        "id": "M9vczcP6bLaI",
        "outputId": "1ae8b7b0-e9e2-4597-acc1-4a5397b1de90"
      },
      "source": [
        "from google.colab import drive\n",
        "drive.mount('/content/drive')"
      ],
      "execution_count": null,
      "outputs": [
        {
          "output_type": "stream",
          "text": [
            "Drive already mounted at /content/drive; to attempt to forcibly remount, call drive.mount(\"/content/drive\", force_remount=True).\n"
          ],
          "name": "stdout"
        }
      ]
    },
    {
      "cell_type": "code",
      "metadata": {
        "colab": {
          "base_uri": "https://localhost:8080/"
        },
        "id": "Ug146LdTbMVr",
        "outputId": "a40ca898-ce88-4481-9120-ec058c1c2a9c"
      },
      "source": [
        "!pip3 install instaloader"
      ],
      "execution_count": null,
      "outputs": [
        {
          "output_type": "stream",
          "text": [
            "Collecting instaloader\n",
            "\u001b[?25l  Downloading https://files.pythonhosted.org/packages/35/4b/dcf7c70de72aff4b4c3ce6edcebc5a40125446aecf6c982e76ae66fe8538/instaloader-4.7.1.tar.gz (49kB)\n",
            "\r\u001b[K     |██████▋                         | 10kB 15.5MB/s eta 0:00:01\r\u001b[K     |█████████████▏                  | 20kB 13.1MB/s eta 0:00:01\r\u001b[K     |███████████████████▊            | 30kB 8.9MB/s eta 0:00:01\r\u001b[K     |██████████████████████████▎     | 40kB 7.9MB/s eta 0:00:01\r\u001b[K     |████████████████████████████████| 51kB 2.4MB/s \n",
            "\u001b[?25hRequirement already satisfied: requests>=2.4 in /usr/local/lib/python3.7/dist-packages (from instaloader) (2.23.0)\n",
            "Requirement already satisfied: chardet<4,>=3.0.2 in /usr/local/lib/python3.7/dist-packages (from requests>=2.4->instaloader) (3.0.4)\n",
            "Requirement already satisfied: urllib3!=1.25.0,!=1.25.1,<1.26,>=1.21.1 in /usr/local/lib/python3.7/dist-packages (from requests>=2.4->instaloader) (1.24.3)\n",
            "Requirement already satisfied: idna<3,>=2.5 in /usr/local/lib/python3.7/dist-packages (from requests>=2.4->instaloader) (2.10)\n",
            "Requirement already satisfied: certifi>=2017.4.17 in /usr/local/lib/python3.7/dist-packages (from requests>=2.4->instaloader) (2020.12.5)\n",
            "Building wheels for collected packages: instaloader\n",
            "  Building wheel for instaloader (setup.py) ... \u001b[?25l\u001b[?25hdone\n",
            "  Created wheel for instaloader: filename=instaloader-4.7.1-cp37-none-any.whl size=53347 sha256=53b12fdc547703440e9754accc6bbfc00a396ad5bb834279e30269eefe6e5d5a\n",
            "  Stored in directory: /root/.cache/pip/wheels/52/58/b1/3b6e77f1ba6db08f757800e8bbb9ac12d465fa3378270b1bb2\n",
            "Successfully built instaloader\n",
            "Installing collected packages: instaloader\n",
            "Successfully installed instaloader-4.7.1\n"
          ],
          "name": "stdout"
        }
      ]
    },
    {
      "cell_type": "code",
      "metadata": {
        "colab": {
          "base_uri": "https://localhost:8080/"
        },
        "id": "6Ao_xcU1bQ0G",
        "outputId": "a98ee754-c574-483a-f14d-c74fcac97dba"
      },
      "source": [
        "%cd /content/drive/MyDrive/project2/"
      ],
      "execution_count": null,
      "outputs": [
        {
          "output_type": "stream",
          "text": [
            "/content/drive/MyDrive/project2\n"
          ],
          "name": "stdout"
        }
      ]
    },
    {
      "cell_type": "code",
      "metadata": {
        "id": "3WD4amPwSfEi"
      },
      "source": [
        "import instaloader\n",
        "import pandas as pd\n",
        "import time\n",
        "from datetime import datetime\n",
        "from itertools import dropwhile, takewhile\n",
        "L = instaloader.Instaloader()\n",
        "L.login(\"인스타그램id 입력\",\"비밀번호\")\n",
        "# 인스타 로더 옵션. 불필요한 데이터들을 저장하는 것을 방지합니다.\n",
        "L.download_pictures=False\n",
        "L.download_comments=False\n",
        "L.download_videos=False\n",
        "L.download_locations=False\n",
        "L.compress_json=False\n",
        "text_list=['문의','방판','협찬','홍보','광고']\n",
        "\n",
        "for key in text_list:\n",
        "  count=0\n",
        "  posts = instaloader.Hashtag.from_name(L.context,key).get_posts()\n",
        "  SINCE = datetime(2021, 1, 1)\n",
        "  UNTIL = datetime(2021, 3, 31)\n",
        "  for post in posts:\n",
        "    postdate=post.date                                                                                                                                                                                                                                                                                                                                                                                                                                                                                                                                                                                                                                                                                                                                                                                                                                                                                                                                                                                                                                                                                                                                                                                                                                                                                                                                                                                                                                                                                                                                                                                                                                                                                                                                                                                                                                                                                                                                                                                                                                                                                                                                                                                                                                                                                                                                                                                                                                                                                                                                                                                                                                                                                                                                                                                                                                                                                                                                                                                                                                                                                                                                                                                                                                                                                                                                                                                                                                                                                                                                                                                                                                                                                                                                                                                                                                                                                                                                                                                                                                                                                                                                                                                                                                                                                                                                                                                                                                                                                                                                                                                                                                                                                                                                                                                                                                                                                                                                                                                                                                                                                                                                                                                                                                                                                                                                                                                                                                                                                                                                                                                                                                                                                                                                                                                                                                                                                                                                                                                                                                                                                                                                                                                                                                                                                                                                                                                                                                                                                                                                                                                                                                                                                                                                                                                                                                                                                                                                                                                                                                                                                                                                                                                                                                                                                                                                                                                                                                                                                                                                                                                                                                                                                                                                                                                                        \n",
        "    if postdate > UNTIL:\n",
        "      continue\n",
        "    elif postdate <SINCE:\n",
        "      continue\n",
        "    else:\n",
        "      L.download_post(post, key)\n",
        "      count=count+1\n",
        "      print(count)\n",
        "      if count== 5000 :\n",
        "        break"
      ],
      "execution_count": null,
      "outputs": []
    },
    {
      "cell_type": "code",
      "metadata": {
        "id": "B7cU-TyZbIvo"
      },
      "source": [
        "import instaloader\n",
        "import pandas as pd\n",
        "import time\n",
        "from datetime import datetime\n",
        "from itertools import dropwhile, takewhile\n",
        "L = instaloader.Instaloader()\n",
        "L.login(\"인스타그램id 입력\",\"비밀번호\")\n",
        "# 인스타 로더 옵션. 불필요한 데이터들을 저장하는 것을 방지합니다.\n",
        "L.download_pictures=False\n",
        "L.download_comments=False\n",
        "L.download_videos=False\n",
        "L.download_locations=False\n",
        "L.compress_json=False\n",
        "text_list=['광고아님','협찬아님','후기','내돈내산','협찬환영','찐후기']\n",
        "\n",
        "for key in text_list:\n",
        "  count=0\n",
        "  posts = instaloader.Hashtag.from_name(L.context,key).get_posts()\n",
        "  SINCE = datetime(2021, 1, 1)\n",
        "  UNTIL = datetime(2021, 3, 31)\n",
        "  for post in posts:\n",
        "    postdate=post.date                                                                                                                                                                                                                                                                                                                                                                                                                                                                                                                                                                                                                                                                                                                                                                                                                                                                                                                                                                                                                                                                                                                                                                                                                                                                                                                                                                                                                                                                                                                                                                                                                                                                                                                                                                                                                                                                                                                                                                                                                                                                                                                                                                                                                                                                                                                                                                                                                                                                                                                                                                                                                                                                                                                                                                                                                                                                                                                                                                                                                                                                                                                                                                                                                                                                                                                                                                                                                                                                                                                                                                                                                                                                                                                                                                                                                                                                                                                                                                                                                                                                                                                                                                                                                                                                                                                                                                                                                                                                                                                                                                                                                                                                                                                                                                                                                                                                                                                                                                                                                                                                                                                                                                                                                                                                                                                                                                                                                                                                                                                                                                                                                                                                                                                                                                                                                                                                                                                                                                                                                                                                                                                                                                                                                                                                                                                                                                                                                                                                                                                                                                                                                                                                                                                                                                                                                                                                                                                                                                                                                                                                                                                                                                                                                                                                                                                                                                                                                                                                                                                                                                                                                                                                                                                                                                                                        \n",
        "    if postdate > UNTIL:\n",
        "      continue\n",
        "    elif postdate <SINCE:\n",
        "      continue\n",
        "    else:\n",
        "      L.download_post(post, key)\n",
        "      count=count+1\n",
        "      print(count)\n",
        "      if count== 5000 :\n",
        "        break"
      ],
      "execution_count": null,
      "outputs": []
    },
    {
      "cell_type": "code",
      "metadata": {
        "id": "dQaHi47-SK1L"
      },
      "source": [
        "%cd /content/drive/MyDrive/project2/광고\n",
        "!rm -rf *_location.txt\n",
        "!rm -rf *.json\n",
        "%cd /content/drive/MyDrive/project2/문의\n",
        "!rm -rf *_location.txt\n",
        "!rm -rf *.json\n",
        "%cd /content/drive/MyDrive/project2/방판\n",
        "!rm -rf *_location.txt\n",
        "!rm -rf *.json\n",
        "%cd /content/drive/MyDrive/project2/협찬\n",
        "!rm -rf *_location.txt\n",
        "!rm -rf *.json\n",
        "%cd /content/drive/MyDrive/project2/홍보\n",
        "!rm -rf *_location.txt\n",
        "!rm -rf *.json"
      ],
      "execution_count": null,
      "outputs": []
    },
    {
      "cell_type": "code",
      "metadata": {
        "id": "5sjO0frJS5R3"
      },
      "source": [
        "%cd /content/drive/MyDrive/project2/광고아님\n",
        "!rm -rf *_location.txt\n",
        "!rm -rf *.json\n",
        "%cd /content/drive/MyDrive/project2/협찬아님\n",
        "!rm -rf *_location.txt\n",
        "!rm -rf *.json\n",
        "%cd /content/drive/MyDrive/project2/후기\n",
        "!rm -rf *_location.txt\n",
        "!rm -rf *.json\n",
        "%cd /content/drive/MyDrive/project2/내돈내산\n",
        "!rm -rf *_location.txt\n",
        "!rm -rf *.json\n",
        "%cd /content/drive/MyDrive/project2/협찬환영\n",
        "!rm -rf *_location.txt\n",
        "!rm -rf *.json\n",
        "%cd /content/drive/MyDrive/project2/찐후기\n",
        "!rm -rf *_location.txt\n",
        "!rm -rf *.json"
      ],
      "execution_count": null,
      "outputs": []
    },
    {
      "cell_type": "markdown",
      "metadata": {
        "id": "MmWjznVXQlKy"
      },
      "source": [
        "## 데이터 "
      ]
    },
    {
      "cell_type": "markdown",
      "metadata": {
        "id": "7EZm55ooRpir"
      },
      "source": [
        "###데이터 라벨링을 위한 필터링 단어들"
      ]
    },
    {
      "cell_type": "code",
      "metadata": {
        "id": "1E4S8AAbFyFi"
      },
      "source": [
        "stop_word_list=[\n",
        "                '#인스타그램광고',\n",
        "                '#인스타그램홍보문의',\n",
        "                '#광고',\n",
        "                '#협찬',\n",
        "                '문의',\n",
        "                '카톡',\n",
        "                'DM',\n",
        "                '디엠',\n",
        "                '방판',\n",
        "                '카카오톡',\n",
        "                '문의환영',\n",
        "                '제품문의',\n",
        "                '무자본',\n",
        "                '카운셀러',\n",
        "                '주문 감사',\n",
        "                '주문해',\n",
        "                '단체예약',\n",
        "                '클릭',\n",
        "                '링크',\n",
        "                '행사',\n",
        "                '공구',\n",
        "                '공동구매',\n",
        "                '부업',\n",
        "                '고객',\n",
        "                '오픈기념',\n",
        "                '공지',\n",
        "                '제품제공',\n",
        "                '협찬문의',\n",
        "                '#대외활동',\n",
        "                '#방문판매',\n",
        "                '문의는',\n",
        "                '원장',\n",
        "                '#모든문의'\n",
        "]"
      ],
      "execution_count": null,
      "outputs": []
    },
    {
      "cell_type": "markdown",
      "metadata": {
        "id": "p1_WBd65TuPf"
      },
      "source": [
        "### 데이터 정제 및 CSV 파일 생성"
      ]
    },
    {
      "cell_type": "code",
      "metadata": {
        "colab": {
          "base_uri": "https://localhost:8080/"
        },
        "id": "NioEXwRShOfM",
        "outputId": "81df9118-db20-44cd-db00-34bc7cf47269"
      },
      "source": [
        "import unicodedata\n",
        "import re\n",
        "import glob\n",
        "import pandas as pd\n",
        "keywords=[\"광고\",\"문의\",\"방판\",\"협찬\",\"홍보\"]\n",
        "for key in keywords:\n",
        "  path = \"\"\"/content/drive/My Drive/project2/{}/*.txt\"\"\".format(key)\n",
        "  text_list=[]\n",
        "  print(path)\n",
        "  files=glob.glob(path)\n",
        "  for file in files:\n",
        "      f=open(file, 'r')\n",
        "      text=\"\"\n",
        "      for fr in f.readlines():\n",
        "        fr=unicodedata.normalize('NFC', fr) # 혹시 아이폰인 경우, 한글 유니코드를 윈도우 버전으로 맞춰주는 역할을 합니다.\n",
        "        text=text+\" \"+re.sub('[^A-Za-z0-9ㄱ-ㅎㅏ-ㅣ가-힣 #.?!@]','', fr)  #한글, 영어, 숫자, 그리고 구분을 위한 특수문자를 제외한 모든 단어들을 제거합니다.\n",
        "      text_list.append(text)\n",
        "      f.close() \n",
        "  df=pd.DataFrame({'text':text_list,'label':len(text_list)*[1]})\n",
        "  df.to_csv(key+'.csv',sep=',',encoding='utf-8-sig')"
      ],
      "execution_count": null,
      "outputs": [
        {
          "output_type": "stream",
          "text": [
            "/content/drive/My Drive/project2/광고/*.txt\n",
            "/content/drive/My Drive/project2/문의/*.txt\n",
            "/content/drive/My Drive/project2/방판/*.txt\n",
            "/content/drive/My Drive/project2/협찬/*.txt\n",
            "/content/drive/My Drive/project2/홍보/*.txt\n"
          ],
          "name": "stdout"
        }
      ]
    },
    {
      "cell_type": "code",
      "metadata": {
        "colab": {
          "base_uri": "https://localhost:8080/"
        },
        "id": "JPN0l10tP5KI",
        "outputId": "92d6a0a7-16de-4247-f82c-191c3df567d8"
      },
      "source": [
        "text_list=['내돈내산','찐후기','협찬환영','후기','광고아님']\n",
        "for key in text_list:\n",
        "  path = \"\"\"/content/drive/My Drive/project2/{}/*.txt\"\"\".format(key)\n",
        "  text_list=[]\n",
        "  print(path)\n",
        "  files=glob.glob(path)\n",
        "  for file in files:\n",
        "      f=open(file, 'r')\n",
        "      text=\"\"\n",
        "      for fr in f.readlines():\n",
        "        fr=unicodedata.normalize('NFC', fr)\n",
        "        text=text+\" \"+re.sub('[^A-Za-z0-9ㄱ-ㅎㅏ-ㅣ가-힣 #.?!@]','', fr) \n",
        "      text_list.append(text)\n",
        "      f.close()  \n",
        "  df=pd.DataFrame({'text':text_list,'label':len(text_list)*[0]})\n",
        "  df.to_csv(key+'.csv',sep=',',encoding='utf-8-sig')"
      ],
      "execution_count": null,
      "outputs": [
        {
          "output_type": "stream",
          "text": [
            "/content/drive/My Drive/project2/내돈내산/*.txt\n",
            "/content/drive/My Drive/project2/찐후기/*.txt\n",
            "/content/drive/My Drive/project2/협찬환영/*.txt\n",
            "/content/drive/My Drive/project2/후기/*.txt\n",
            "/content/drive/My Drive/project2/광고아님/*.txt\n"
          ],
          "name": "stdout"
        }
      ]
    },
    {
      "cell_type": "code",
      "metadata": {
        "colab": {
          "base_uri": "https://localhost:8080/"
        },
        "id": "I2sDMOByOT7o",
        "outputId": "7afbfbaf-1f8a-4bf7-d492-23500b6ed9c3"
      },
      "source": [
        "keywords=['2019','2020','2021']\n",
        "text_list=[]\n",
        "for key in keywords:\n",
        "  path = \"\"\"/content/drive/My Drive/project2/협찬아님/{}/*.txt\"\"\".format(key)\n",
        "  print(path)\n",
        "  files=glob.glob(path)\n",
        "  for file in files:\n",
        "      f=open(file, 'r')\n",
        "      text=\"\"\n",
        "      for fr in f.readlines():\n",
        "        fr=unicodedata.normalize('NFC', fr)\n",
        "        text=text+\" \"+re.sub('[^A-Za-z0-9ㄱ-ㅎㅏ-ㅣ가-힣 #.?!@]','', fr)  \n",
        "      text_list.append(text)\n",
        "      f.close() \n",
        "df=pd.DataFrame({'text':text_list,'label':len(text_list)*[0]})\n",
        "df.to_csv('협찬아님.csv',sep=',',encoding='utf-8-sig')"
      ],
      "execution_count": null,
      "outputs": [
        {
          "output_type": "stream",
          "text": [
            "/content/drive/My Drive/project2/협찬아님/2019/*.txt\n",
            "/content/drive/My Drive/project2/협찬아님/2020/*.txt\n",
            "/content/drive/My Drive/project2/협찬아님/2021/*.txt\n"
          ],
          "name": "stdout"
        }
      ]
    },
    {
      "cell_type": "markdown",
      "metadata": {
        "id": "x3Gna0XvV7gn"
      },
      "source": [
        "#### label_0 data 생성"
      ]
    },
    {
      "cell_type": "code",
      "metadata": {
        "colab": {
          "base_uri": "https://localhost:8080/"
        },
        "id": "e0i4atvJsNvN",
        "outputId": "fa9f895a-c953-4851-8a36-2e03931d49c7"
      },
      "source": [
        "text_list=['내돈내산','찐후기','협찬아님','협찬환영','후기']\n",
        "df=pd.read_csv('광고아님.csv',encoding='utf-8-sig')\n",
        "df.drop(columns=['Unnamed: 0'],inplace=True)\n",
        "\n",
        "print(len(df))\n",
        "for txt in text_list:\n",
        "  df_s=pd.read_csv(txt+'.csv',encoding='utf-8-sig')\n",
        "  df_s.drop(columns=['Unnamed: 0'],inplace=True)\n",
        "  print(len(df_s))\n",
        "  df = pd.concat([df,df_s], ignore_index=True)\n",
        "df.to_csv('label_0.csv',sep=',',encoding='utf-8-sig')"
      ],
      "execution_count": null,
      "outputs": [
        {
          "output_type": "stream",
          "text": [
            "4898\n",
            "5396\n",
            "4996\n",
            "12740\n",
            "4800\n",
            "5458\n"
          ],
          "name": "stdout"
        }
      ]
    },
    {
      "cell_type": "code",
      "metadata": {
        "colab": {
          "base_uri": "https://localhost:8080/",
          "height": 402
        },
        "id": "E9iJPHR73eM0",
        "outputId": "7bd30a76-dada-409d-edf9-348d1c729bd9"
      },
      "source": [
        "df"
      ],
      "execution_count": null,
      "outputs": [
        {
          "output_type": "execute_result",
          "data": {
            "text/html": [
              "<div>\n",
              "<style scoped>\n",
              "    .dataframe tbody tr th:only-of-type {\n",
              "        vertical-align: middle;\n",
              "    }\n",
              "\n",
              "    .dataframe tbody tr th {\n",
              "        vertical-align: top;\n",
              "    }\n",
              "\n",
              "    .dataframe thead th {\n",
              "        text-align: right;\n",
              "    }\n",
              "</style>\n",
              "<table border=\"1\" class=\"dataframe\">\n",
              "  <thead>\n",
              "    <tr style=\"text-align: right;\">\n",
              "      <th></th>\n",
              "      <th>text</th>\n",
              "      <th>label</th>\n",
              "    </tr>\n",
              "  </thead>\n",
              "  <tbody>\n",
              "    <tr>\n",
              "      <th>0</th>\n",
              "      <td>편안해보이는 영상의 원본은 집안을 울리는 공사소리 . 얼마전 삐그덕대던 보일러가 ...</td>\n",
              "      <td>0</td>\n",
              "    </tr>\n",
              "    <tr>\n",
              "      <th>1</th>\n",
              "      <td>#광고아님  #제품협찬 이지만 #노출의무 없음  #찐사용 욕실 3총사 요즘 씻고 ...</td>\n",
              "      <td>0</td>\n",
              "    </tr>\n",
              "    <tr>\n",
              "      <th>2</th>\n",
              "      <td>다들 날씨도 좋은데 파출소포차 하세요 무야호  @dantbar1987</td>\n",
              "      <td>0</td>\n",
              "    </tr>\n",
              "    <tr>\n",
              "      <th>3</th>\n",
              "      <td>사진맛집.브런치맛집 아날로그 포레스트 @analog.forest  인천사시는분들 ...</td>\n",
              "      <td>0</td>\n",
              "    </tr>\n",
              "    <tr>\n",
              "      <th>4</th>\n",
              "      <td>몇개월전 이미 아이언은 바꿨지만 이제 올리네 아버지채 받아서 쓰다가 얼마전 태일러...</td>\n",
              "      <td>0</td>\n",
              "    </tr>\n",
              "    <tr>\n",
              "      <th>...</th>\n",
              "      <td>...</td>\n",
              "      <td>...</td>\n",
              "    </tr>\n",
              "    <tr>\n",
              "      <th>38283</th>\n",
              "      <td>reviewsamy   #주말에는 #특식 짝꿍께서 좋은거 먹어야 된다고 주문해주신...</td>\n",
              "      <td>0</td>\n",
              "    </tr>\n",
              "    <tr>\n",
              "      <th>38284</th>\n",
              "      <td>후기컷 감사해요</td>\n",
              "      <td>0</td>\n",
              "    </tr>\n",
              "    <tr>\n",
              "      <th>38285</th>\n",
              "      <td>축가시켜주신 수지대리님 결혼축하드려여  인스타친구는 아니지만 ㅠㅜ  . . 보아결...</td>\n",
              "      <td>0</td>\n",
              "    </tr>\n",
              "    <tr>\n",
              "      <th>38286</th>\n",
              "      <td>아주 편한 슬랙스. #어반슬랙스 #숏버전  ㅋㅋㅋㅋㅋㅋㅋㅋㅋㅋㅋㅋㅋㅋ #부산어반언...</td>\n",
              "      <td>0</td>\n",
              "    </tr>\n",
              "    <tr>\n",
              "      <th>38287</th>\n",
              "      <td>Wild Flower  들꽃 야생화 향 리뷰 . 저도 봄내음을 느끼고 싶어서 칙칙...</td>\n",
              "      <td>0</td>\n",
              "    </tr>\n",
              "  </tbody>\n",
              "</table>\n",
              "<p>38288 rows × 2 columns</p>\n",
              "</div>"
            ],
            "text/plain": [
              "                                                    text  label\n",
              "0       편안해보이는 영상의 원본은 집안을 울리는 공사소리 . 얼마전 삐그덕대던 보일러가 ...      0\n",
              "1       #광고아님  #제품협찬 이지만 #노출의무 없음  #찐사용 욕실 3총사 요즘 씻고 ...      0\n",
              "2                 다들 날씨도 좋은데 파출소포차 하세요 무야호  @dantbar1987      0\n",
              "3       사진맛집.브런치맛집 아날로그 포레스트 @analog.forest  인천사시는분들 ...      0\n",
              "4       몇개월전 이미 아이언은 바꿨지만 이제 올리네 아버지채 받아서 쓰다가 얼마전 태일러...      0\n",
              "...                                                  ...    ...\n",
              "38283   reviewsamy   #주말에는 #특식 짝꿍께서 좋은거 먹어야 된다고 주문해주신...      0\n",
              "38284                                           후기컷 감사해요      0\n",
              "38285   축가시켜주신 수지대리님 결혼축하드려여  인스타친구는 아니지만 ㅠㅜ  . . 보아결...      0\n",
              "38286   아주 편한 슬랙스. #어반슬랙스 #숏버전  ㅋㅋㅋㅋㅋㅋㅋㅋㅋㅋㅋㅋㅋㅋ #부산어반언...      0\n",
              "38287   Wild Flower  들꽃 야생화 향 리뷰 . 저도 봄내음을 느끼고 싶어서 칙칙...      0\n",
              "\n",
              "[38288 rows x 2 columns]"
            ]
          },
          "metadata": {
            "tags": []
          },
          "execution_count": 438
        }
      ]
    },
    {
      "cell_type": "code",
      "metadata": {
        "colab": {
          "base_uri": "https://localhost:8080/",
          "height": 402
        },
        "id": "PpRSBegA2VGN",
        "outputId": "cdafad56-84df-4575-cee3-cd2605a8e010"
      },
      "source": [
        "for i,stl in enumerate(stop_word_list):\n",
        "  df=df[~df['text'].str.contains(stl)]\n",
        "df"
      ],
      "execution_count": null,
      "outputs": [
        {
          "output_type": "execute_result",
          "data": {
            "text/html": [
              "<div>\n",
              "<style scoped>\n",
              "    .dataframe tbody tr th:only-of-type {\n",
              "        vertical-align: middle;\n",
              "    }\n",
              "\n",
              "    .dataframe tbody tr th {\n",
              "        vertical-align: top;\n",
              "    }\n",
              "\n",
              "    .dataframe thead th {\n",
              "        text-align: right;\n",
              "    }\n",
              "</style>\n",
              "<table border=\"1\" class=\"dataframe\">\n",
              "  <thead>\n",
              "    <tr style=\"text-align: right;\">\n",
              "      <th></th>\n",
              "      <th>text</th>\n",
              "      <th>label</th>\n",
              "    </tr>\n",
              "  </thead>\n",
              "  <tbody>\n",
              "    <tr>\n",
              "      <th>2</th>\n",
              "      <td>다들 날씨도 좋은데 파출소포차 하세요 무야호  @dantbar1987</td>\n",
              "      <td>0</td>\n",
              "    </tr>\n",
              "    <tr>\n",
              "      <th>20</th>\n",
              "      <td>#장기투숙고로나씨   스파오프렌즈!!!!!  난 카카오라인프렌즈만 있는줄 알았다....</td>\n",
              "      <td>0</td>\n",
              "    </tr>\n",
              "    <tr>\n",
              "      <th>23</th>\n",
              "      <td>포기는 배추 셀때만 쓰는거지. . . 노력해도 난 안돼 라고 하는건 아직 성과라는...</td>\n",
              "      <td>0</td>\n",
              "    </tr>\n",
              "    <tr>\n",
              "      <th>24</th>\n",
              "      <td>까꿍이의 벤츠인력거 Kakoongs Mercedes</td>\n",
              "      <td>0</td>\n",
              "    </tr>\n",
              "    <tr>\n",
              "      <th>25</th>\n",
              "      <td>고구마통모짜핫도그 짱  이천오백원  #명랑핫도그 #고구마통모짜핫도그</td>\n",
              "      <td>0</td>\n",
              "    </tr>\n",
              "    <tr>\n",
              "      <th>...</th>\n",
              "      <td>...</td>\n",
              "      <td>...</td>\n",
              "    </tr>\n",
              "    <tr>\n",
              "      <th>38279</th>\n",
              "      <td>이사 선물로 구매하신 원숭이꼬리선인장</td>\n",
              "      <td>0</td>\n",
              "    </tr>\n",
              "    <tr>\n",
              "      <th>38281</th>\n",
              "      <td>운동 할 때 평상 시에 레깅스 입는 거 좋아하는 사람  대박 레깅스 찾았다요!!!...</td>\n",
              "      <td>0</td>\n",
              "    </tr>\n",
              "    <tr>\n",
              "      <th>38284</th>\n",
              "      <td>후기컷 감사해요</td>\n",
              "      <td>0</td>\n",
              "    </tr>\n",
              "    <tr>\n",
              "      <th>38285</th>\n",
              "      <td>축가시켜주신 수지대리님 결혼축하드려여  인스타친구는 아니지만 ㅠㅜ  . . 보아결...</td>\n",
              "      <td>0</td>\n",
              "    </tr>\n",
              "    <tr>\n",
              "      <th>38286</th>\n",
              "      <td>아주 편한 슬랙스. #어반슬랙스 #숏버전  ㅋㅋㅋㅋㅋㅋㅋㅋㅋㅋㅋㅋㅋㅋ #부산어반언...</td>\n",
              "      <td>0</td>\n",
              "    </tr>\n",
              "  </tbody>\n",
              "</table>\n",
              "<p>15646 rows × 2 columns</p>\n",
              "</div>"
            ],
            "text/plain": [
              "                                                    text  label\n",
              "2                 다들 날씨도 좋은데 파출소포차 하세요 무야호  @dantbar1987      0\n",
              "20      #장기투숙고로나씨   스파오프렌즈!!!!!  난 카카오라인프렌즈만 있는줄 알았다....      0\n",
              "23      포기는 배추 셀때만 쓰는거지. . . 노력해도 난 안돼 라고 하는건 아직 성과라는...      0\n",
              "24                         까꿍이의 벤츠인력거 Kakoongs Mercedes       0\n",
              "25                 고구마통모짜핫도그 짱  이천오백원  #명랑핫도그 #고구마통모짜핫도그      0\n",
              "...                                                  ...    ...\n",
              "38279                               이사 선물로 구매하신 원숭이꼬리선인장      0\n",
              "38281   운동 할 때 평상 시에 레깅스 입는 거 좋아하는 사람  대박 레깅스 찾았다요!!!...      0\n",
              "38284                                           후기컷 감사해요      0\n",
              "38285   축가시켜주신 수지대리님 결혼축하드려여  인스타친구는 아니지만 ㅠㅜ  . . 보아결...      0\n",
              "38286   아주 편한 슬랙스. #어반슬랙스 #숏버전  ㅋㅋㅋㅋㅋㅋㅋㅋㅋㅋㅋㅋㅋㅋ #부산어반언...      0\n",
              "\n",
              "[15646 rows x 2 columns]"
            ]
          },
          "metadata": {
            "tags": []
          },
          "execution_count": 435
        }
      ]
    },
    {
      "cell_type": "markdown",
      "metadata": {
        "id": "zq5XAmmxVztO"
      },
      "source": [
        "#### label_1 data 생성"
      ]
    },
    {
      "cell_type": "code",
      "metadata": {
        "colab": {
          "base_uri": "https://localhost:8080/"
        },
        "id": "WK1nNAzDPPA7",
        "outputId": "33c81d03-fc6a-477d-d7b9-0b9d70d036b4"
      },
      "source": [
        "text_list=['광고','문의','홍보','방판']\n",
        "df=pd.read_csv('협찬.csv',encoding='utf-8-sig')\n",
        "df.drop(columns=['Unnamed: 0'],inplace=True)\n",
        "\n",
        "print(len(df))\n",
        "for txt in text_list:\n",
        "  df_s=pd.read_csv(txt+'.csv',encoding='utf-8-sig')\n",
        "  df_s.drop(columns=['Unnamed: 0'],inplace=True)\n",
        "  print(len(df_s))\n",
        "  df = pd.concat([df,df_s], ignore_index=True)\n",
        "df.to_csv('label_1.csv',sep=',',encoding='utf-8-sig')"
      ],
      "execution_count": null,
      "outputs": [
        {
          "output_type": "stream",
          "text": [
            "3831\n",
            "4886\n",
            "4885\n",
            "4228\n",
            "744\n"
          ],
          "name": "stdout"
        }
      ]
    },
    {
      "cell_type": "markdown",
      "metadata": {
        "id": "u-Uug56UQxvQ"
      },
      "source": [
        "##데이터 분류 및 마지막 정제"
      ]
    },
    {
      "cell_type": "code",
      "metadata": {
        "id": "roBX5QTxQz5k"
      },
      "source": [
        "import pandas as pd\n",
        "df_label0=pd.read_csv('label_0.csv',encoding='utf-8-sig')\n",
        "df_label0.drop(columns=['Unnamed: 0'],inplace=True)\n",
        "df_label1=pd.read_csv('label_1.csv',encoding='utf-8-sig')\n",
        "df_label1.drop(columns=['Unnamed: 0'],inplace=True)"
      ],
      "execution_count": null,
      "outputs": []
    },
    {
      "cell_type": "markdown",
      "metadata": {
        "id": "5xqCYS8uVsUt"
      },
      "source": [
        "#### label_0, label_1 데이터 모으기"
      ]
    },
    {
      "cell_type": "code",
      "metadata": {
        "colab": {
          "base_uri": "https://localhost:8080/",
          "height": 510
        },
        "id": "uK7NQVY4nwAQ",
        "outputId": "f57ef0d9-491e-47e3-928c-c3f3870200c6"
      },
      "source": [
        "df_all=pd.concat([df_label0,df_label1]).reset_index()\n",
        "df_all['label']=0\n",
        "df_all.dropna(inplace=True)\n",
        "df_all.reset_index(inplace=True)\n",
        "for i,stl in enumerate(stop_word_list):# 필터링 단어들에 걸리면 label 1로 변경\n",
        "  df_all['label'][df_all['text'].str.contains(stl)]=1\n",
        "df_all.drop(columns=['index','level_0'],inplace=True)\n",
        "df_all['text']=df_all['text'].apply(lambda x: x.replace(\"#\",' ').replace(\".\",' ').replace(\"?\",' ').replace(\"!\",' ').replace(\"@\",' '))\n",
        "df_all['text']=df_all['text'].apply(lambda x: re.sub(' +',' ',x.replace(\"\\n\",\" \")))  \n",
        "df_all"
      ],
      "execution_count": null,
      "outputs": [
        {
          "output_type": "stream",
          "text": [
            "/usr/local/lib/python3.7/dist-packages/ipykernel_launcher.py:6: SettingWithCopyWarning: \n",
            "A value is trying to be set on a copy of a slice from a DataFrame\n",
            "\n",
            "See the caveats in the documentation: https://pandas.pydata.org/pandas-docs/stable/user_guide/indexing.html#returning-a-view-versus-a-copy\n",
            "  \n"
          ],
          "name": "stderr"
        },
        {
          "output_type": "execute_result",
          "data": {
            "text/html": [
              "<div>\n",
              "<style scoped>\n",
              "    .dataframe tbody tr th:only-of-type {\n",
              "        vertical-align: middle;\n",
              "    }\n",
              "\n",
              "    .dataframe tbody tr th {\n",
              "        vertical-align: top;\n",
              "    }\n",
              "\n",
              "    .dataframe thead th {\n",
              "        text-align: right;\n",
              "    }\n",
              "</style>\n",
              "<table border=\"1\" class=\"dataframe\">\n",
              "  <thead>\n",
              "    <tr style=\"text-align: right;\">\n",
              "      <th></th>\n",
              "      <th>text</th>\n",
              "      <th>label</th>\n",
              "    </tr>\n",
              "  </thead>\n",
              "  <tbody>\n",
              "    <tr>\n",
              "      <th>0</th>\n",
              "      <td>편안해보이는 영상의 원본은 집안을 울리는 공사소리 얼마전 삐그덕대던 보일러가 드디...</td>\n",
              "      <td>1</td>\n",
              "    </tr>\n",
              "    <tr>\n",
              "      <th>1</th>\n",
              "      <td>광고아님 제품협찬 이지만 노출의무 없음 찐사용 욕실 3총사 요즘 씻고 건조해서 욕...</td>\n",
              "      <td>1</td>\n",
              "    </tr>\n",
              "    <tr>\n",
              "      <th>2</th>\n",
              "      <td>다들 날씨도 좋은데 파출소포차 하세요 무야호 dantbar1987</td>\n",
              "      <td>0</td>\n",
              "    </tr>\n",
              "    <tr>\n",
              "      <th>3</th>\n",
              "      <td>사진맛집 브런치맛집 아날로그 포레스트 analog forest 인천사시는분들 꼭가...</td>\n",
              "      <td>1</td>\n",
              "    </tr>\n",
              "    <tr>\n",
              "      <th>4</th>\n",
              "      <td>몇개월전 이미 아이언은 바꿨지만 이제 올리네 아버지채 받아서 쓰다가 얼마전 태일러...</td>\n",
              "      <td>1</td>\n",
              "    </tr>\n",
              "    <tr>\n",
              "      <th>...</th>\n",
              "      <td>...</td>\n",
              "      <td>...</td>\n",
              "    </tr>\n",
              "    <tr>\n",
              "      <th>56857</th>\n",
              "      <td>윤조에센스 120ml 사전예약주문 1년에 한번 나와요 설화수 윤조에센스 윤조 윤조...</td>\n",
              "      <td>1</td>\n",
              "    </tr>\n",
              "    <tr>\n",
              "      <th>56858</th>\n",
              "      <td>NEW 자음생앰플 인삼에서 찾은 빠르고 강력한 고기능 안티에이징 성분 귀하게 얻은...</td>\n",
              "      <td>1</td>\n",
              "    </tr>\n",
              "    <tr>\n",
              "      <th>56859</th>\n",
              "      <td>콜라겐 전 마셔요 송혜교가 선택한 마시는 프리미엄 콜라겐 슈퍼콜라겐 에센스를 공개...</td>\n",
              "      <td>1</td>\n",
              "    </tr>\n",
              "    <tr>\n",
              "      <th>56860</th>\n",
              "      <td>블로그로 문의주신 고객님 주말지내고 바로 원주로 달려간 날 R사 화장품 사용으로 ...</td>\n",
              "      <td>1</td>\n",
              "    </tr>\n",
              "    <tr>\n",
              "      <th>56861</th>\n",
              "      <td>윤조에센스 NO 1 에센스 120ml 대용량 한정상품 설화수 윤조에센스 윤조대용량...</td>\n",
              "      <td>1</td>\n",
              "    </tr>\n",
              "  </tbody>\n",
              "</table>\n",
              "<p>56862 rows × 2 columns</p>\n",
              "</div>"
            ],
            "text/plain": [
              "                                                    text  label\n",
              "0       편안해보이는 영상의 원본은 집안을 울리는 공사소리 얼마전 삐그덕대던 보일러가 드디...      1\n",
              "1       광고아님 제품협찬 이지만 노출의무 없음 찐사용 욕실 3총사 요즘 씻고 건조해서 욕...      1\n",
              "2                   다들 날씨도 좋은데 파출소포차 하세요 무야호 dantbar1987      0\n",
              "3       사진맛집 브런치맛집 아날로그 포레스트 analog forest 인천사시는분들 꼭가...      1\n",
              "4       몇개월전 이미 아이언은 바꿨지만 이제 올리네 아버지채 받아서 쓰다가 얼마전 태일러...      1\n",
              "...                                                  ...    ...\n",
              "56857   윤조에센스 120ml 사전예약주문 1년에 한번 나와요 설화수 윤조에센스 윤조 윤조...      1\n",
              "56858   NEW 자음생앰플 인삼에서 찾은 빠르고 강력한 고기능 안티에이징 성분 귀하게 얻은...      1\n",
              "56859   콜라겐 전 마셔요 송혜교가 선택한 마시는 프리미엄 콜라겐 슈퍼콜라겐 에센스를 공개...      1\n",
              "56860   블로그로 문의주신 고객님 주말지내고 바로 원주로 달려간 날 R사 화장품 사용으로 ...      1\n",
              "56861   윤조에센스 NO 1 에센스 120ml 대용량 한정상품 설화수 윤조에센스 윤조대용량...      1\n",
              "\n",
              "[56862 rows x 2 columns]"
            ]
          },
          "metadata": {
            "tags": []
          },
          "execution_count": 439
        }
      ]
    },
    {
      "cell_type": "code",
      "metadata": {
        "colab": {
          "base_uri": "https://localhost:8080/"
        },
        "id": "ehjlekIHdryf",
        "outputId": "21c77a52-d400-4f75-ada6-ed9189b21893"
      },
      "source": [
        "df_all['label'].value_counts(normalize=False)"
      ],
      "execution_count": null,
      "outputs": [
        {
          "output_type": "execute_result",
          "data": {
            "text/plain": [
              "1    33964\n",
              "0    22898\n",
              "Name: label, dtype: int64"
            ]
          },
          "metadata": {
            "tags": []
          },
          "execution_count": 440
        }
      ]
    },
    {
      "cell_type": "code",
      "metadata": {
        "id": "r3lG6QVkUdFU"
      },
      "source": [
        "df_all.to_csv('train_final.csv',sep=',',encoding='utf-8-sig')"
      ],
      "execution_count": null,
      "outputs": []
    },
    {
      "cell_type": "markdown",
      "metadata": {
        "id": "sw9LwO1SVhe5"
      },
      "source": [
        "####설화수 데이터 클리닝"
      ]
    },
    {
      "cell_type": "code",
      "metadata": {
        "colab": {
          "base_uri": "https://localhost:8080/",
          "height": 402
        },
        "id": "fkKgZWb153ZZ",
        "outputId": "b5bfacfb-132f-420d-c258-6f6ebe3e0366"
      },
      "source": [
        "result=pd.read_csv('설화수_total.csv',sep=',',encoding='utf-8-sig')\n",
        "result=result.drop(['Unnamed: 0'],axis=1)\n",
        "result['text']=result['text'].apply(lambda x:' '.join(x.strip('[\"\"').strip('\"\"]').strip(\"['\").strip(\"\\\\n']\").split(\"\\\\n', '\")).replace(\"\\\\n\",\"\") )\n",
        "result['text']=result['text'].apply(lambda x: unicodedata.normalize('NFC',x ))\n",
        "result['text']=result['text'].apply(lambda x: re.sub('[^A-Za-z0-9ㄱ-ㅣ가-힣 #.?!@]','',x))\n",
        "result['text']=result['text'].apply(lambda x: re.sub('[ㄱ-ㅣ]',' ',x))\n",
        "result['text']=result['text'].apply(lambda x: x.replace(\"u200a\",\"\"))\n",
        "result['text']=result['text'].apply(lambda x: x.replace(\"u200b\",\"\"))\n",
        "result['text']=result['text'].apply(lambda x: x.replace(\"u200c\",\"\"))\n",
        "result['text']=result['text'].apply(lambda x: x.replace(\"u200d\",\"\"))\n",
        "result['text']=result['text'].apply(lambda x: x.replace(\"u200e\",\"\"))\n",
        "result['text']=result['text'].apply(lambda x: x.replace(\"u200f\",\"\"))\n",
        "result['text']=result['text'].apply(lambda x: x.replace(\"#\",' ').replace(\".\",' ').replace(\"?\",' ').replace(\"!\",' ').replace(\"@\",' '))\n",
        "result['text']=result['text'].apply(lambda x: re.sub(' +',' ',x.replace(\"\\n\",\" \")))\n",
        "result"
      ],
      "execution_count": null,
      "outputs": [
        {
          "output_type": "execute_result",
          "data": {
            "text/html": [
              "<div>\n",
              "<style scoped>\n",
              "    .dataframe tbody tr th:only-of-type {\n",
              "        vertical-align: middle;\n",
              "    }\n",
              "\n",
              "    .dataframe tbody tr th {\n",
              "        vertical-align: top;\n",
              "    }\n",
              "\n",
              "    .dataframe thead th {\n",
              "        text-align: right;\n",
              "    }\n",
              "</style>\n",
              "<table border=\"1\" class=\"dataframe\">\n",
              "  <thead>\n",
              "    <tr style=\"text-align: right;\">\n",
              "      <th></th>\n",
              "      <th>text</th>\n",
              "      <th>label</th>\n",
              "    </tr>\n",
              "  </thead>\n",
              "  <tbody>\n",
              "    <tr>\n",
              "      <th>0</th>\n",
              "      <td>2015 오래전 News 알고보니 사실 명품화장품 명품의류 샤넬 디올 설화수 랑콤...</td>\n",
              "      <td>0</td>\n",
              "    </tr>\n",
              "    <tr>\n",
              "      <th>1</th>\n",
              "      <td>23 설화수sulwhasoo의 브랜드 스토리 시공적 초월을 적용한 CONCEPT ...</td>\n",
              "      <td>1</td>\n",
              "    </tr>\n",
              "    <tr>\n",
              "      <th>2</th>\n",
              "      <td>AD How I apply my Sulwhasoo First Care Activa...</td>\n",
              "      <td>1</td>\n",
              "    </tr>\n",
              "    <tr>\n",
              "      <th>3</th>\n",
              "      <td>Repost yukibomb One of my holy grails in Kore...</td>\n",
              "      <td>1</td>\n",
              "    </tr>\n",
              "    <tr>\n",
              "      <th>4</th>\n",
              "      <td>Sulwhasoo Concentrated Ginseng Renewing Serum...</td>\n",
              "      <td>1</td>\n",
              "    </tr>\n",
              "    <tr>\n",
              "      <th>...</th>\n",
              "      <td>...</td>\n",
              "      <td>...</td>\n",
              "    </tr>\n",
              "    <tr>\n",
              "      <th>17401</th>\n",
              "      <td>kyo1122 코로나 빨리 사라져서 여행 가고 싶다 이런 공항kyo 스타일 좋아 ...</td>\n",
              "      <td>0</td>\n",
              "    </tr>\n",
              "    <tr>\n",
              "      <th>17402</th>\n",
              "      <td>수분을 가득 머금은 거품이 피부 노폐물을 깔끔히 없애고 피부의 촉촉함은 유지시켜주...</td>\n",
              "      <td>0</td>\n",
              "    </tr>\n",
              "    <tr>\n",
              "      <th>17403</th>\n",
              "      <td>kyo1122 좋아하는 모연 장면 낮술 좋네 였던가 기억이 가물 credit to...</td>\n",
              "      <td>0</td>\n",
              "    </tr>\n",
              "    <tr>\n",
              "      <th>17404</th>\n",
              "      <td>kyo1122 귀여운 표정의 혜교님 보니 기분이 좋아질려고 합니다 credit t...</td>\n",
              "      <td>0</td>\n",
              "    </tr>\n",
              "    <tr>\n",
              "      <th>17405</th>\n",
              "      <td>kyo1122 예전 부터 혜교님은 손 동작도 품위 있고 예쁘다는 생각을 했는데 어...</td>\n",
              "      <td>0</td>\n",
              "    </tr>\n",
              "  </tbody>\n",
              "</table>\n",
              "<p>17406 rows × 2 columns</p>\n",
              "</div>"
            ],
            "text/plain": [
              "                                                    text  label\n",
              "0       2015 오래전 News 알고보니 사실 명품화장품 명품의류 샤넬 디올 설화수 랑콤...      0\n",
              "1       23 설화수sulwhasoo의 브랜드 스토리 시공적 초월을 적용한 CONCEPT ...      1\n",
              "2       AD How I apply my Sulwhasoo First Care Activa...      1\n",
              "3       Repost yukibomb One of my holy grails in Kore...      1\n",
              "4       Sulwhasoo Concentrated Ginseng Renewing Serum...      1\n",
              "...                                                  ...    ...\n",
              "17401   kyo1122 코로나 빨리 사라져서 여행 가고 싶다 이런 공항kyo 스타일 좋아 ...      0\n",
              "17402   수분을 가득 머금은 거품이 피부 노폐물을 깔끔히 없애고 피부의 촉촉함은 유지시켜주...      0\n",
              "17403   kyo1122 좋아하는 모연 장면 낮술 좋네 였던가 기억이 가물 credit to...      0\n",
              "17404   kyo1122 귀여운 표정의 혜교님 보니 기분이 좋아질려고 합니다 credit t...      0\n",
              "17405   kyo1122 예전 부터 혜교님은 손 동작도 품위 있고 예쁘다는 생각을 했는데 어...      0\n",
              "\n",
              "[17406 rows x 2 columns]"
            ]
          },
          "metadata": {
            "tags": []
          },
          "execution_count": 488
        }
      ]
    },
    {
      "cell_type": "code",
      "metadata": {
        "id": "DVFgBjHM_K1F"
      },
      "source": [
        "result.to_csv('설화수_final.csv',sep=',',encoding='utf-8-sig')"
      ],
      "execution_count": null,
      "outputs": []
    },
    {
      "cell_type": "code",
      "metadata": {
        "id": "OCq9F92ydLOF"
      },
      "source": [
        ""
      ],
      "execution_count": null,
      "outputs": []
    },
    {
      "cell_type": "code",
      "metadata": {
        "id": "N4YqmIoxdLLa"
      },
      "source": [
        ""
      ],
      "execution_count": null,
      "outputs": []
    },
    {
      "cell_type": "code",
      "metadata": {
        "id": "gH7HUck6dLI2"
      },
      "source": [
        ""
      ],
      "execution_count": null,
      "outputs": []
    },
    {
      "cell_type": "code",
      "metadata": {
        "id": "iDxEeRVedLFX"
      },
      "source": [
        ""
      ],
      "execution_count": null,
      "outputs": []
    },
    {
      "cell_type": "code",
      "metadata": {
        "colab": {
          "base_uri": "https://localhost:8080/"
        },
        "id": "Jyo7soDvFnKp",
        "outputId": "1d4ee63e-fb5d-4d1e-946b-48b6062e1723"
      },
      "source": [
        "# 특정컬럼에서 키워드로 검색하여 레이블 입력하기\n",
        "import warnings\n",
        "warnings.filterwarnings(action='ignore')\n",
        "keyword=\"혜택\"\n",
        "for i in result[result['text'].str.contains(keyword)].index.values.astype(int):\n",
        "  if (result['label'].iloc[i]==1):continue\n",
        "  print(result['text'].iloc[i])\n",
        "  result['label'].iloc[i]=int(input())import warnings\n",
        "warnings.filterwarnings(action='ignore')\n",
        "keyword=\"혜택\"\n",
        "for i in result[result['text'].str.contains(keyword)].index.values.astype(int):\n",
        "  if (result['label'].iloc[i]==1):continue\n",
        "  print(result['text'].iloc[i])\n",
        "  result['label'].iloc[i]=int(input())"
      ],
      "execution_count": null,
      "outputs": [
        {
          "output_type": "stream",
          "text": [
            "['#인사동면세점 에 #핸드메이드작가들의 제품이자 작품들의 공간 \\n', '#실버쥬얼공예#원석공예#천연비누#골드원석공예 로 6명의 작가들이 모였습니당~~~\\n', '작품디피하는이도있고 #수다수다한 이도있고\\n', '#입점업체들힘내세요\\n', '#그랜드성형외과에서 서비스 받고있는 이도 있고 \\n', '#저는 #몰찍 #도촬 ㅋㅋㅋ \\n', '#좋은기회를 제공해준 주최측 감사합니다.\\n', '면세점 방문고객께는 여러가지행사 혜택도 준비되어있어요~\\n', '다양한입점업체들의 각종행사도 마련되어있습니다 화장품도 막 1+1 #헤라 #설화수 #막퍼주는행사고만\\n', '#외국인만 와야하는줄\\n', '#한국사람 더더더 환영해요~^^#어디까지나 내생각 #영어 일어 중국어 공부 더더더 해야겐네 \\n', '#알라하앤도로시\\n', '#by. yena\\n', '#망상스튜디오\\n', '#트윈쥬얼리\\n']\n",
            "1\n",
            "['12월달 🎄\\n', '우수서포터즈 특별혜택으로\\n', '엄마와 함께 ⚜설화수 플래그십스토어⚜를 다녀왔다!\\n', '나보다 50대인 엄마가 설화수와 더 맞다고 생각해서 촬영할 겸 \\n', '나 대신\\n', '#인텐스진생저니 를 받은 엄마! 확실히 검증된 브랜드에서 마사지를 받으니 피부에 광이 난다고 ㅋㅋㅋ😆 \\n', '얼굴에 팩을 올려놓을 때도 직원분께서 쉴틈없이 이곳저곳 마사지해주신다고 한다!\\n', '\\n', '스파명 : 🥇인텐스 진생 저니🥇\\n', '90분 / 25만원\\n', '럭셔리 집중 안티에이징\\n', '등 피부 트리트먼트, 페이셜 트리트먼트\\n', '자음생에샌스, 자음생라인, 옥 어플리케이터 사용\\n', '\\n', '홍삼의 생명력과 핵심 테크닉의 시너지로 피부 에너지를 전달\\n', '피부 자생혁을 높여 피부 노화의 징후를 다스림\\n', '\\n', '순서\\n', '족욕-(발을 홍삼수에 담금)>등관리->얼굴관리(마사지,팩,두피관리)\\n', '\\n', '위치\\n', '서울 강남구 도산대로 45길 18\\n', '\\n', '지하 1층 #설화수스파\\n', '1층 부티크,헤리티지 룸\\n', '2층 부티크, 기프트 서비스\\n', '3층 컬쳐 라운지\\n', '4층 밸런스 스파\\n', '5층 루프탑\\n', '\\n', '#설화수플래스십스토어 #설화수 #고급에스테틱 #마사지 \\n', '#추천웰니스관광지 #서울여행 \\n', '#웰니스관광서포터즈 #한국웰니스 #한국관광공사 #KTO #한국웰니스관광 #뷰티 #스파 #koreanspa #travelinseoul\\n', '#WellnessTourismSupporters #WellnessKorea #WellnessTourismKorea \\n', '#sulhwasoo\\n', '#선팔맞팔\\n', '#선팔하면맞팔 #좋아요\\n', '#포토그래퍼\\n']\n",
            "0\n",
            "['3타임 연속 방송😆\\n', '헤라 설화수 프리메라 친절한 직원분들\\n', '덕분에 즐겁게 방송했습니다🙌\\n', '연말까지 20%할인 역대급 혜택 진행되니\\n', '소스라이브에서 구매하세용🎅🏻\\n']\n",
            "1\n",
            "['[혜교언니처럼 꿀피부 되고싶어용]\\n', '⠀\\n', '혜교언니의 꿀피부 ⭐️설화수 네이버 라이브⭐️보면서\\n', '꿀피부도 챙기시고 혜택도 만땅 챙겨가세요🙆🏻\\u200d♀️\\n', '⠀\\n', '방송 중 어마어마한 혜택들이 여러분을 기다리고 있으니 알람 맞춰놓고 기다려츄세요❤️\\n', '⠀\\n', '🕰방송일자 : 3/4(목), 오후 6시🕕\\n', '📺방송링크는 프로필URL을 클릭해주세요!\\n', '⠀\\n', '⠀\\n', '#설화수#자음생#진설#상백선크림#진짜이가격?#내피부꿀피부#롯데백화점미아점#네이버라이브방송#잊지말고만나요\\n']\n",
            "1\n",
            "['the Green 회원을 위해 준비한\\n', '환절기 피부 고민 해결 삼총사 등장😊\\n', '마스크 속 고통받는 피부를 구해줘💚✨\\n', '_\\n', '▶혜택\\n', '록시땅, 키엘, 설화수 플래그쉽 스토어에서 the Green 바우처 사용 시 브랜드별 각 1만 M포인트 적립 (최대 3만M포인트)\\n', '_\\n', '▶대상점\\n', '① #록시땅\\n', '- 록시땅 압구정점, 여의도IFC몰점, 코엑스점, 스타필드 하남점\\n', '② #키엘\\n', '- 스타필드 고양점 부티크, 스타필드 코엑스몰 부티크, 잠실 롯데월드몰 부티크, 현대 시티몰 가든파이브점 부티크\\n', '③ #설화수 플래그쉽 스토어\\n', '- 설화수 스파, 설화수 부띠끄, 설화수 밸런스 스파\\n', '_\\n', '▶기간\\n', '2020. 05. 01(금) ~ 05. 31(일)\\n', '_\\n', '▶대상 카드\\n', 'the Green\\n', '_\\n', '▶유의사항\\n', '- 바우처는 총 결제금액 10만원 이상 시에 한해 사용 가능하며, 초과금액은 the Green으로 결제 필수\\n', '- M포인트는 프로모션 기간 내 각 브랜드별 1회에 한해 적립되며, 3개 브랜드 모두 바우처 사용 시 최대 3만 M포인트 적립\\n', '- M포인트는 2020년 6월 말경 일괄 적립 예정이며, 적립 시점에 승인 및 바우처 사용 취소 시 혜택 제외\\n', '- 보유 M포인트로 the Green 바우처 교환 후 사용 가능(10만 M포인트=the Green 바우처 10만원권)\\n', '- 교환 방법 : 현대카드 앱 > 로그인 > 혜택 > the Green > 바우처 교환 신청\\n', \"- 대상 매장에 한해 혜택 제공되며, 자세한 매장 정보는 '현대카드 홈페이지 > 나만의 혜택 > Premium 혜택 > the Green > 바우처' 에서 확인 가능\\n\", '- 상기 혜택은 당사 및 제휴사 사정에 의해 변경 또는 중단 가능하며, 자세한 내용은 현대카드 홈페이지 참고\\n', '_\\n', '유의사항 및 자세한 내용은 아래 링크를 통해 확인(bit.ly/5월_더그린혜택)\\n', '_\\n', '#theGreen #바우처 \\n', '#M포인트_막퍼주는_더그린\\n', '#현대카드혜택 #현카혜택\\n', '#현대카드리브 #Hyundaicardlive\\n', '#현대카드 #Hyundaicard\\n']\n",
            "1\n",
            "['⠀\\n', '나만 알고 싶은 뷰티 스토어💛\\n', '화장품 명가 설화수 플래그십 스토어에서\\n', '씨티카드와 함께 다양한 할인 혜택을 누려보자구요!🙂\\n', '⠀\\n', '💙혜택 1💙\\n', '💄설화수 부띠끄 화장품 5% 할인\\n', '🛀설화수 스파 서비스 10% 할인\\n', '⠀\\n', '💙혜택 2💙\\n', '10만원 이상 결제 시\\n', '💄설화수 부띠끄 화장품 2-24개월 무이자 할부\\n', '🛀설화수 스파 서비스 2-3개월 무이자 할부\\n', '⠀\\n', '※ 모든 혜택 및 서비스는 사전 유선 예약 후 진행 가능\\n', '※ 사전 예약 후 방문 시 씨티카드 제시 후 동반 1인까지 동일 혜택 적용\\n', '⠀\\n', '📌기간: 2020년 8월 20일(목) ~ 2020년 12월 31일(목)\\n', '📌대상: 씨티카드(기업카드, 체크카드, 체크+신용카드 제외)\\n', '* 프로모션 관련 자세한 사항은 씨티카드 홈페이지 > 이벤트 페이지를 통해 확인 바랍니다.\\n', '* 카드 신청 전 상품설명서 및 약관의 내용을 반드시 확인하시기 바랍니다.\\n', '* 연체이자율(약정이율+최대 연 3%)은 정상이자율(회원별, 이용상품별)에 따라 차등 적용되며, 법정 최고금리(최대 24%이내)를 초과하지 않습니다.\\n', '- 약정이율이 없는 상품의 경우, 일시불은 거래 발생 시점의 2개월 유이자할부 정상이자율, 무이자할부는 거래 발생 시점의 동일 할부 계약기간의 유이자할부 정상이자율이 적용됩니다.\\n', '* 신용카드 남용은 가계경제에 위협이 됩니다.\\n', '* 여신금융상품 이용 시 귀하의 신용등급 또는 개인신용평점이 하락할 수 있습니다.\\n', '⠀\\n', '* 심의필 2009-04-659 (2020.09.02 ~ 2020.12.31)\\n']\n",
            "1\n",
            "['⠀\\n', '면세점 기준 한 세트 가격에 두 세트를 구입했네?\\n', '⠀\\n', '아마도 최고 혜택이 아닐까?\\n', '⠀\\n', '#면세점 #면세점쇼핑 #불효자는웁니다 #불효자스타그램 #설화수 #설화수세트\\n']\n",
            "0\n",
            "['ㅤㅤ\\n', '내 마음을 홀리데이~ ❤\\n', '\\n', '코덕 마음도 설레게 할\\n', '2020 홀리데이 에디션\\n']\n",
            "0\n",
            "['ㆍ\\n', '남편의선물\\n', '#설화수\\n', '역시 센스쟁이\\n', '내피부위해잘쓸께💕\\n', 'ㆍ\\n', 'ㆍ\\n', 'ㆍ\\n', '#설화수자음 #설화수탄력크림\\n', '#뷰티 #뷰티스타그램 #뷰티스타 #beauty #뷰티블로거 #화장품 #화장품추천 #화장품스타그램 #화장품스타 #follow #화장품덕후 #좋아요 #daily\\n']\n",
            "0\n",
            "['간만에 찐벗과 란딩~~⛳🏌️\\u200d♀️\\n', '땀나는 여름 란딩에 헤라 파우더 짱짱짱...👍👍\\n', '내 피부는 네게 맡기마~~~!!!!!\\n', '우째 입술도 좀 뻘겋게 바를까나??\\n', '.\\n', '.\\n', '.\\n', '#센테리움cc  #또 가고 싶다 #그 파5홀 #다시 도전 #골프 #⛳ #golf #골프스타그램 #🌶친구  #아모레퍼시픽  #헤라 #설화수 #헤라 에어리블러 프라이밍 파우더 #헤라 블랙파운데이션&브러쉬 #전문가가 된 기분 #한번만 바르면 끝 #땀 얼룩제로 #신기방기 #일상 #좋아요 #👍\\n']\n",
            "0\n",
            "['나어디게~~~?\\n', '#설화수 #스파 #구경 .. #일상 #뒷모습 #뒷태 #소통 #맞팔 #셀스타그램 #셀카 #데일리 #밥먹자 #은아 #막창 #털자 #daily #selca #selstagram #good #me #food\\n']\n",
            "0\n",
            "['데일리로 너무 좋은 설화수 립 세럼 스틱 어텀레드⭐️\\n', '.\\n', '아모레의 컬러어떰(텀) 시리즈는 이미 핫한지 오래되었지만... 아직도 제 취향 저격이네요💋 설화수는 기초를 잘 한다고 생각했는데 요거 너어무 좋아요!!!\\n', '.\\n', '으깬장미 시리즈 중 손에 꼽게 색상이 맘에 들기도 하고 요 립 세럼 스틱 이름에서 느껴지는 것처럼 세럼 바른듯 촉촉해요💍 근데 발색도 투명하지만 잘 올라오구 요런 로지빛 컬러 좋아하시는 분들께는 데일리 립으로 꼭 권해드리고 싶어요🐾\\n', '.\\n', '#설화수 #립세럼스틱 #어텀레드\\n']\n",
            "0\n",
            "['드라마 #남자친구 속 #송혜교 의 완벽한 미모 보셨나요? 특히 극 중 차수현 메이크업은 호텔 대표의 도도하면서도 이제 막 연애를 시작하는 사랑스러운 매력을 잘 표현해 김진혁과의 로맨스만큼 관심 집중인데요. 어제 방송에는 극 중 차수현이 김진혁에게 선물 받은 립스틱을 바르며 사랑에 빠진 듯한 미소를 지어 시청자들의 설렘 지수를 상승시켰죠. 이날 송혜교의 장미빛 입술은 바로 #설화수 #립세럼스틱 이라는 사실! 엘르 팔로워들도 립세럼스틱 4호를 바르고, 로맨틱한 겨울을 맞이해보세요! @sulwhasoo.official #ELLEzoomin\\n', '-\\n', '💄설화수 립세럼스틱 4호 로즈레드: 화사한 로즈 컬러로 입술을 촉촉하고 볼륨 있게!\\n']\n",
            "1\n",
            "['메이크뷰는 국내 및 수입 화장품😊💄, 건강기능식품, 생활용품👔👕 등 다양한 상품을 한자리에서 만나실수 있는 공간이에요>< 다양한 행사도 진행중이랍니다!\\n', '.\\n', '#메이크뷰 #헤라 #아이오페 #설화수 #이니스프리 #종합쇼핑몰\\n']\n",
            "1\n",
            "['사랑하는 울엄마 생신축하드려요❤\\n', '더 자주 모시고 와야되겠다!\\n', '.\\n', '.\\n', '.\\n', '@outbackkorea #아웃백 #아웃백스테이크하우스 #어머니생신 부족한 #용돈 과 @yeny__s2 #며느리 의 굿초이스 #설화수\\n']\n",
            "0\n",
            "['서울문화재단, Sulwhasoo 그리고 아트서울기부투게더 의 후원으로 \\n', '싱글앨범 프로젝트  #두번째화요일나봄 의 첫음원 -\\n', '<<<<<<< <그리다>>>>>>>> 가 세상에 나왔어요\\n', '👏👏👏👏👏👏👏👏👏👏👏\\n', '-\\n', ' 매달 두번째 화요일 마다 #NABoM 의 새로운 음원을\\n', '각종 음원사이트에서 만나 보실수 있습니다 😆\\n', '-\\n', '❤❤❤❤ 나봄 그리다 많이 들어주세요 ❤❤❤❤\\n', '-\\n', '작곡,작사-  김소연 \\n', '편곡 - 김소연, 박서영, 김민정 \\n', '노래- 김소연 \\n', '가야금 - 김소연 \\n', '피아노- 박서영\\n', '첼로 - 김민정 \\n', '녹음 - starry sound\\n', 'Mixing, Mastering - 남승원 \\n', '표지디자인 - 박서영 -\\n', '-\\n', '\\n', '#서울문화재단 #설화수 #아트서울기부투게더 \\n', '#감성밴드나봄 #국악창작 #노래하는가야금 #가야금_김소연 #박서영 #나봄그리다 #싱글앨범프로잭트 #겨울에듣기좋은노래\\n', '#두번째화요일나봄 #NABoM #crossoverband #gayageum\\n']\n",
            "1\n",
            "['설화문화전 rooftop FriiH 배정완 황상연 조진옥 <은빛 강 건너편에는 너가 있다 하던데> #설화수 #설화문화전 #견우직녀\\n']\n",
            "0\n",
            "['설화수 매거진에 은혜직물의 파우치 규방이 나왔어요 :) #은혜직물#설화수#매거진#11월#규방#파우치#😆\\n']\n",
            "1\n",
            "['수원..\\n', '아모레..효원..반대로 원효대사가 생각나는 새로운 상호ㅋㅋㅋㅋㅋㅋ\\n', '푸드케어..당뇨식 뷰티식 면역식단 체험~맛보기..\\n', '오랜만에..모닝 출근.. 새로운 제품 도입...푸드케어로 인해 고고~\\n', '우와..오랜만에 모닝출근으로 인해..일찍 일어나서 설쳤더니 당 떨어짐...너무 빨리 간 탓에 삼실 1층 커피숍으로~~~ㅋㅋㅋ\\n', '커피 기다림서 셀카짓ㅋㅋㅋㅋㅋ\\n', '생길거예요 좋은일~이...\\n', '강사님이 준 티티 원솔판촉(?)임?ㅋㅋㅋㅋㅋㅋ아..노폐물제거 디톡스와 체지방분해 슬림..마시는 앰플..다이어트제품도 팝니다~일단 제가 하나씩 맛보겠습니당~ㅋ효과가 크다하니 일단 맛보기용으로 맛 보고..ㅋㅋㅋ아모레 통합..수많은 화장품 건강식제품..들...\\n', '너무 많다많아~~~\\n', '긍데 지지 코로나로 몸 사리는중~~~~🤣😂\\n', '그래도 주문 받음 나가는 난..컨설님ㅋㅋㅋㅋ\\n', '\\n', '#아모레#설화수#헤라#프리메라#아이오페#리리코스\\n', '#수원#병점#오산#동탄#평택#전국점\\n']\n",
            "0\n",
            "['아 아름답다. 전통스러운데 현대적이기도 하고.\\n', '한옥집에 대한 로망이 다시 살아났던 순간!\\n', '한약방에 온 것 같은 착각을 일으키는 수백 가지 한약재들도 멋지고. #설화수플래그십스토어 #네리앤후 #도산공원 #설화수\\n']\n",
            "0\n",
            "['아모레퍼시픽#설화수#헤라#\\n', '리리코스#프리메라#\\n', '추석선물 세트# 선물세트 포장가능합니다\\n']\n",
            "1\n",
            "['아모레퍼시픽의 설화수부터 아이오페까지\\n', '럭셔리 #트래블키트\\n', '⠀\\n', '인기상품으로만 쏙쏙 골라담은\\n', '호화로운 알짜배기구성이에요.\\n', '⠀\\n', '하나하나 보기만해도 아실거에요~\\n', '기초+선케어+클렌징까지\\n', '피부관리 처음부터 끝까지 책임져드려용!\\n', '⠀\\n', '어디갈때 요 키트하나만 쏙~ 챙기니\\n', '이것저것 담을필요없이 간편하네요^^\\n', '⠀\\n', '게다가! ★보자기파우치★까지 세트로\\n', '⠀\\n', '⠀\\n', '쫙~ 펼쳐서 한번에 쏙쏙!\\n', '담아서 들고 다니기 완죤편해요!!\\n', '⠀\\n', '고급진 브랜드키트구성!\\n', '만원도안되는 최/저/가 혜택~!!\\n', '⠀\\n', '유통기한 내년 3월까지~\\n', '올여름에 몇번만 써도 남는 장사에요^^\\n', '⠀\\n', '⠀\\n', '⠀\\n', '#아모레퍼시픽 #설화수 #아이오페\\n', '#맘스특가 #주부아이템 #주부템공유 #주부용품\\n', '#주부추천템 #주부필수템 #최저가⠀\\n', '⠀\\n', '⠀\\n', '아모레퍼시픽 6종키트+파우치 =>> 프로필(mfcare2) 누르시면 구매링크 있어요~~ 😉😉\\n']\n",
            "1\n",
            "['아빠가 가뚜 보쌈해간다~ #😺 Dad trying to kidnap Gato\\n', '#보쌈 #종이백 #설화수 #paperbag #sulhwasoo #cutestcat #fofinha\\n', '\\n', '#가뚜 #고양이 #냥스타그램 #묘스타그램 #펫스타그램 #반려묘 #코숏 #카오스 #입양하세요 #cat #catsofinstagram #petsofinstagram #instacats #koreanshorthair #dontbuyadopt #gata #instagatos #gatogram #instachat\\n']\n",
            "0\n",
            "['안티에이징 화장품 하면 생각나는 설화수 윤조에센스 ✨\\n', '10초에 1개씩 판매되는 안티에이징 명가 설화수 에서5세대 윤조에센스가 출시 되었어요 !  10병 이상 구매 고객이 40만명이나 된다는데 촉촉하지만, 끈적이지 않는 사용감에 아침-저녁으로 발라주는데요.\\n', '건강하게 빛나는 피부로 가꾸어주는 지라 빠르게 공병 후기 들려드릴 것 같아요:)\\n', '자세한 후기는 블로그에서 확인하세요 ~\\n']\n",
            "1\n",
            "['양여사 선물..🙈\\n', '.\\n', '.\\n', '#면세찬스#딱$150#면세한도150불#설화수#피부미인되세용#양여사님💕\\n']\n",
            "0\n",
            "['어매니티가 설화수네~킁킁! 냄새 좋아! \\n', '사진찍게 비켜달라 했더니 자꾸 벽으로 숨는 듀 ㅋㅋㅋ \\n', '그럼 안보이나?! 타조같기는 ㅋㅋㅋ\\n', '#듀쿠 #호캉스 #이게쉬는거지 #딩굴딩굴 .\\n', '.\\n', '.\\n', '.\\n', '#듀쿠여행 #그레이스리 #호텔 #호캉스💕 #커플 #어매니티 #설화수 #룸컨디션 #👍 #커플여행 #주말아가지마 #일상 #daily #couple #travel #hotel #gracery #seoul #cozy #enjoy #enjoylife #selfie\\n']\n",
            "0\n",
            "['엄마가 이젠 제발 피부관리 좀 하라며 선물로 받은 팩을 꺼냈다🧖\\u200d♀️\\n', '#하루의마무으리 #마스크팩 #설화수 #자음생마스크 #효과는내일아침에\\n']\n",
            "0\n",
            "['예비시어머님께서 보라색을 좋아하신다고 망설임 없이 보라 자개함으로 고르셨어요^^\\n', '복주머니 색상, 귀이개 색상, 보자기 색상 하나하나 상의하시며 고르는 모습 보기 좋았어요💕\\n', '.\\n', '• 보라 애교 예단 자개함\\n', '• 자개 손거울\\n', '• 진청/다홍 복주머니\\n', '• 파랑 양단 보자기/곤색노리개\\n', '.\\n', '.\\n', '.\\n', '#군산더함 #더함예단 #결혼준비 #결혼준비시작 #결혼준비중 #결혼 #결혼스타그램 #예단 #예단난 #예단선물 #예단편지 #애교예단 #현금예단 #자개함 #시어머니 #시어머니선물 #장모님 #장모님선물 #설화수 #원데이클래스 #인삼꽃주 #군산 #군산여행 #군산맛집 #보자기포장 #보자기 #예단포장 #부업 #맛집 #일상\\n']\n",
            "1\n",
            "['요즘같이 건조한 내피부에\\n', '인삼캡슐이 톡톡터지는\\n', '#진생에센스  발림성도 산뜻해요\\n', '내피부에  인삼영양을 양보하세요~^^ #보습세럼#고보습에센스 #진세니스피어#인삼캡슐에센스 #엄마피부관리 #부모님선물#크리스마스선물추천 #아모레#설화수#헤라#뷰티스타그램💋 #뷰티풀데이\\n']\n",
            "1\n",
            "['인천공항 1터미널 시연 테스트\\n', '당산나무 (pivotal tree)\\n', '#당산나무 #신목 #트리 #코엑스 #coex #코엑스아티움 #incheonairport #전광판 #wow #설화수 #Pivotaltree #유재헌 #youjamstudio #youjam #장수호 #visualkei #추봉길 #livelab #mediaart #realtime #anamorphic #아모레퍼시픽 #서울문화재단 #unreal #disguise #xr #metaverse #YoujamStudio_xr_LiveLab #엠비규어스댄스컴퍼니 #ambiguousdancecompany\\n']\n",
            "0\n",
            "['인터넷 보다가 걍 매장으로 달려가 사버림 #실란 #실란콤팩트 #설화수 #홀리데이한정판 실용성이 무슨 상관이죠? 이렇게나 예쁜데? ㅋㅋㅋㅋㅋㅋㅋㅋㅋㅋㅋㅌㅌ\\n']\n",
            "0\n",
            "['인테리어 넘 맘에 드는 것~~~😆😆😆\\n', '오랜만에 효녀되기 ㅋㅋㅋㅋㅋ .\\n', '\\n', '스파명 : 🥇인텐스 진생 저니🥇\\n', '90분 / 25만원\\n', '럭셔리 집중 안티에이징\\n', '등 피부 트리트먼트, 페이셜 트리트먼트\\n', '자음생에샌스, 자음생라인, 옥 어플리케이터 사용\\n', '\\n', '홍삼의 생명력과 핵심 테크닉의 시너지로 피부 에너지를 전달\\n', '피부 자생혁을 높여 피부 노화의 징후를 다스림\\n', '\\n', '순서\\n', '족욕-(발을 홍삼수에 담금)>등관리->얼굴관리(마사지,팩,두피관리)\\n', '\\n', '위치\\n', '서울 강남구 도산대로 45길 18\\n', '\\n', '지하 1층 #설화수스파\\n', '1층 부티크,헤리티지 룸\\n', '2층 부티크, 기프트 서비스\\n', '3층 컬쳐 라운지\\n', '4층 밸런스 스파\\n', '5층 루프탑\\n', '\\n', '#설화수플래스십스토어 #설화수 #고급에스테틱 #마사지 \\n', '#추천웰니스관광지 #서울여행 \\n', '#웰니스관광서포터즈 #한국웰니스 #한국관광공사 #KTO #한국웰니스관광 #뷰티 #스파 #koreanspa #travelinseoul\\n', '#WellnessTourismSupporters #WellnessKorea #WellnessTourismKorea \\n', '#sulhwasoo\\n', '#선팔맞팔\\n', '#선팔하면맞팔 #좋아요\\n', '#포토그래퍼\\n']\n",
            "0\n",
            "['일과 스트레스 때문에 지친피부에 물광을 찾아주기!! ㅎㅎ 친구가 추천한 #설화수 #수율크림 으로 요즘 열심히 관리하고 있는데 #피부진정 도 도와주고 #수분공급 과 #수분보호 도 되니깐 넘나 좋은것! 순해서 그런지 민감한 제 피부에도 잘 맞아요.^^ 1박 정도의 짧은 여행에도 꼭 챙겨갈 정도로 맘에 드네요! 올 여름 물광 넘치는 꿀피부로 다시 태어나게 해줘~! ㅎㅎㅎ\\n', '.\\n', '.\\n', '#수분순환 #수분크림 #여름휴가 #여행준비 #sulwhasoo #여름수분크림 #뷰티 #beauty #cosmetic #뷰티스타그램 #뷰스타그램 #블링유에 #blingyue\\n']\n",
            "0\n",
            "['일년에 한두번씩 오는 절친 희정이 소포\\n', '이번엔 서프라이즈~~~~누가벨을누르나 했더니 ㅠ.ㅠ고마워 김희정  사랑해 김희정 ㅠ.ㅠ\\n', '#헛개나무 #내사랑 자갈치#곱창돌김#여긴없는 오징어땀뽕#약과#찰쵸코파이#초코썸#설화수#달바트러플세럼#마스크팩#오븐에구운먹태#비빔밥용해초셀러드#수제강정#단계별떡볶이소스#곤드레된장블럭#나태주시집#꽃을보듯너를본다#내친구앤셜리달력\\n']\n",
            "0\n",
            "['일주일동안 주인으로 인해 고생한(?) 얼굴에 잠시 호사를 ㅎㅎ\\n', '크림이 발라져있는 마스크팩은 처음 접해봐서 신기🤔🤔\\n', '피부가 조금 나아지기를~~~\\n', '.\\n', '#자음생마스크 #설화수 #안티에이징크리미시트마스크 #빛나는피부만들기\\n']\n",
            "0\n",
            "['일하다가 이렇게 중간에 잠시 쉬어가는 타임. 영감받기 딱 좋은 공간과 서비스. #sulwhasoo #flagshipstore #vipclass #설화수 #미미스타 with @panache_jewellery_cha @laciel.co.kr\\n']\n",
            "0\n",
            "['입맛 없을땐 역시 #순대국밥\\n']\n",
            "0\n",
            "['피부가 복합성에 예민성에 알러지피부라 파데하나 잘못쓰거나 강하다싶으면 바로 트러블 올라오고..특히나  썬제품 같이 포함된 쿠션은 바르고나면 눈이매워서 \\n', '눈물이 줄줄줄...파데쿠션정리...립스틱정리..\\n', '새로운녀석들 정리하고 오래된 녀석들은 사요나라...정리병...다시시작됨...😭😭😭\\n', '.\\n', '.\\n', ' #설화수 #윤조에센스 #회장님크림 #참존 #오일에센스 #라오메뜨골드캐비어 #앰플 #헤라 #랑콤 #오휘 #맥 #후 #MAC #조성아 #파운데이션 #뷰티#뷰티그램#줌마그램#줌마일상 #육아맘#소통해요#팔로우#인친해요#인스타그램#화장품#선팔#맞팔선팔환영 #인싸템\\n']\n",
            "0\n",
            "['항상 아들 딸 챙겨주시느라 고생하시는 부모님께 감사하는 마음으로 남편과 몰래몰래 준비한 서프라이즈 선물🎉❣ 역시 가방이 엄마랑 너무 찰떡이다🤭 \\n', '#구찌 #gucci #주미백 #구찌가방 #생로랑지갑 #구찌지갑  #부모님선물 #설화수 #일상 #소통 #서프라이즈 #럽스타그램\\n']\n",
            "0\n",
            "['행복합니다♡\\n', '너무 많아 피드 도배 하게 될까 한번에 올리는 점 양해 부탁드립니다\\n', '\\n', '@girinbt 팩을 이제 받아보게 되었지만 너무너무 잘 쓰겠습니다♡♡\\n', '@its_bellabeauty\\n', '설화수 샘플 너무 좋아요♡♡\\n', '@lalavla.official \\n', '요즘 뾰루지 많이 났는데 여기저기 붙어야겠어요!!♡\\n', '@makeprem\\n', '필링젤이랑 많은 샘플들 너무 감사합니다♡\\n', '@cosmopolitancosmetic.kr \\n', '한번에 쓱쓱 섀도우+반짝반짝 너무 이뻐요 ㅠㅠ♡\\n', '@isntree_official \\n', '모공 청소 하기 좋은 클레이 마스크♡\\n', '@fugi_bu\\n', '보거님 ㅠㅠ라네즈 크림스킨을 이제 받아봤어요 ㅠㅠㅠㅠ 열심히 잘 쓸게요 ㅠㅠ♡♡\\n', '@brownlabofficial\\n', '@jnnn2\\n', '진짜 간편한 필링패드♡♡ 쟈니님이 연말결산템으로도 뽑으신 !!필링패드.... 써보니 왜 좋은지 알거같아요...♡♡행복\\n', ' @jjjeeennnnaaa777  들고와줘서 ㅠㅠ너무 고마워♡♡♡♡♡♡♡♡♡♡♡♡\\n']\n",
            "0\n",
            "['회사에서 와이프들에게 주는 새해선물❤️\\n', '아, 좋으네 😎\\n', '.\\n', '.\\n', '#선물#화장품#설화수#십장생#진설크림#기분좋아#감사합니다#미리받는#생일선물#같은#느낌적인느낌#유후\\n']\n",
            "0\n",
            "['🎞📽\\n', '@kyo1122\\n', '‘그들이 사는 세상’ 타이완 프로모션🇹🇼\\n', '.\\n', '.\\n', '.\\n', '.\\n', '#주준영\\n', '#그들이사는세상\\n', '#WorldsWithin\\n', '.\\n', '.\\n', '.\\n', '.\\n', '📷credit to owner >old pic\\n', '.\\n', '#송혜교 #宋慧喬 #宋慧乔 #宋慧敎\\n', '#SongHyeKyo #HyeKyoSong\\n', '#Songhyegyo #songhuiqiao\\n', '#hyekyo #StandByYouKyo\\n', '#kyo1122 #hyekyo #ซงฮเยคโย\\n', '#koreanactress #kdrama \\n', '@suecommabonnie #슈콤마보니\\n', '@sulwhasoo.official #설화수\\n', '@chaumetofficial #쇼메\\n', '@makeon.kr #메이크온\\n']\n",
            "0\n",
            "['🎞📽\\n', '@kyo1122\\n', '페티쉬 FETISH 2008 스릴러\\n', '제 13회 부산 국제 영화제 갈라프레젠테이션 참석\\n', '.\\n', '.\\n', '.\\n', '.\\n', '.\\n', '.\\n', '📸 credit to owner\\n', '.\\n', '#송혜교 #宋慧喬 #宋慧乔\\n', '#SongHyeKyo #HyeKyoSong\\n', '#Songhyegyo #songhuiqiao\\n', '#hyekyo #StandByYouKyo\\n', '#kyo1122 #hyekyo #ซงฮเยคโย\\n', '#koreanactress #kdrama #kmovie\\n', '@suecommabonnie #슈콤마보니\\n', '@sulwhasoo.official #설화수\\n', '@chaumetofficial #쇼메\\n', '@makeon.kr #메이크온\\n']\n",
            "0\n",
            "['🎞📽\\n', 'Repost @kyo1122😊\\n', '.\\n', '.\\n', '.\\n', '.\\n', '#descendantsofthesun #kbsdrama\\n', '#태양의후예 #太陽的後裔 #강모연\\n', '.\\n', '.\\n', '.\\n', '.\\n', '📷 credit to owner\\n', '.\\n', '#송혜교 #宋慧喬 #宋慧乔\\n', '#SongHyeKyo #HyeKyoSong\\n', '#Songhyegyo #songhuiqiao\\n', '#hyekyo #StandByYouKyo\\n', '#kyo1122 #hyekyo #ซงฮเยคโย\\n', '#koreanactress #kdrama\\n', '@suecommabonnie #슈콤마보니\\n', '@sulwhasoo.official #설화수\\n', '@chaumetofficial #쇼메\\n', '@makeon.kr #메이크온\\n']\n",
            "0\n",
            "['💙\\n', '@kyo1122\\n', '파랑주의보(My Girl And I)\\n', '일본 프로모션\\n', '\\n', '#배수은 \\n', '#김수호 \\n', '#차태현\\n', '#전윤수 감독\\n', '#파랑주의보 2005\\n', '#MyGirlAndI\\n', '.\\n', '.\\n', '.\\n', '.\\n', '.\\n', '.\\n', '📷credit to owner\\n', '.\\n', '#송혜교 #宋慧喬 #宋慧乔 #宋慧敎\\n', '#SongHyeKyo #HyeKyoSong\\n', '#Songhyegyo #songhuiqiao\\n', '#hyekyo #StandByYouKyo\\n', '#kyo1122 #hyekyo #ซงฮเยคโย\\n', '#koreanactress #kdrama #kmovie\\n', '@suecommabonnie #슈콤마보니\\n', '@sulwhasoo.official #설화수\\n', '@chaumetofficial #쇼메\\n', '@makeon.kr #메이크온\\n']\n",
            "0\n",
            "['💟슈퍼콜라겐\\n', '흡수가 빠른 저분자 피쉬콜라겐\\n', '펩타이드 3000mg 함유\\n', '유산균 녹차 발효 추출분말 함유\\n', '언제 어디서나 간편하게 즐기실수 있는게\\n', '특징입니둥-!\\n', 'ㅤ\\n', '매일매일 촉촉한 생활을 원하시는분\\n', '쌀쌀한 날씨속 부쩍 건조함을 느끼시는분\\n', '중요한 약속을 앞두고 생기있게 관히하고 싶으신분\\n', '부족해진 콜라겐을 간편하고 맛있게 섭취하고자\\n', '하시는분~~ \\n', 'ㅤ\\n', '위사진은 제남친이 저희이모에게\\n', '선물해준것입니다\\n', '2월은 한달치만 구매해도 5앰플을 더드려요💓\\n']\n",
            "1\n",
            "['💡\\n', '여기 #설화수\\n', '#조명빨 👍🏻\\n', '#자연채광 ☀️\\n', '#완전무보정 #아이폰6\\n', '신상코트샘플마무리\\n', '기다리며.. #인스타그램 😐ㅋ\\n']\n",
            "0\n",
            "['💣💥 Ребята, мои дорогие💣💥\\n', '✌Скоро я стану официальным представителем компании #AmorePacific (#아모레퍼시픽 ) 🤵\\u200d♀️-холдинга, управляющего брендами косметики южнокорейского производства, компания выпускает продукты под собственным брендом, и это, несомненно - самые передовые разработки.💯\\n', '🛍 В числе этих брендов находятся известные уже всему миру #AmorePacific (#아모레퍼시픽 ,#Hera (#헤라 ) #Sulwhasoo (#설화수 )#Primera (#프리메라 ) #Iope (#아이오페 )❗❗❗и многие другие ‼️\\n', '💫Так что, мои дорогие, сейчас начнется все самое интересное) 🙈 Все самое лучшее для вас ❤ так как многие меня просили рассказать о корейской уходовой косметике🧴\\n', 'По мере изучения теории🧐буду по возможности показывать вам продукты Компании🤳\\n', '🤷\\u200d♀️🤷\\u200d♂️Поделитесь со мной в комментариях есть ли у вас опыт в использовании корейской косметики, понравилось вам или нет, что бы вы хотели попробовать💬\\n', 'И кто со мной➕➕➕, кому интересна эта тема жмите❤❤❤ \\n', 'Всех обняла\\U0001fac2\\n']\n",
            "1\n",
            "['💦 Sulwhasoo 💦\\n', '\\n', '💦 kit Sérum, Lotion et Émulsion\\n', '\\n', \"- First Care Activating Sérum, ce sérum s'applique avant la lotion tonique contrairement à un sérum classique.\\n\", \"- Essential Lotion Tonique, s'applique après le sérum.\\n\", '- Essential Émulsion Équilibrante qui vient en dernière.\\n', \"• Le sérum est vraiment agréable à utiliser, on sent tout de suite l'hydratation. La lotion et l'émulsion laisse une hydratation durable.\\n\", '\\n', '💦 Masque énergisant révélateur lumière\\n', '\\n', \"• Il s'absorbe facilement par la peau, donne un teint plus lumineux et une peau plus lisse et toute douce.\\n\", '\\n', '💦 Huile essentielle régénérante\\n', '\\n', \"• C'est une huile que j'utilise uniquement le soir car elle est assez grasse et un peu lourde pour moi. Je la mélange avec l'émultion ou ma crème hydratante.\\n\", '\\n', '💦 Baume essentiel\\n', '\\n', \"• Ce baume peut être utilisé de plusieurs façons : soin des cheveux, soins des zones sèches de la peau et en baume à lèvres, utilisation pour laquelle j'ai opté et je l'utilise tous les soirs.\\n\", '\\n', \"● J'ai vraiment été conquise par ces produits. Ils ont sauvés ma peau déshydratée, pour laquelle je ne savais plus quoi faire 👌\\n\", \"Grâce à ces produits j'ai enfin réussi à faire partir mes squames de déshydratation 👏\\n\", '.\\n', '.\\n', '.\\n', '.\\n', '#Kbeauty #Skincare #Sulwhasoo #설화수 #Masque #Mask #설안팩 #huile #oil #자음생진본유 #BaumeEssentiel #EssentialBalm #에센셜밤 #KoreanProducts #KoreanBeautyProducts #KbeautyAddict #KbeautyLover\\n']\n",
            "1\n",
            "['💦\\n', '@kyo1122\\n', 'MAY 2020\\n', 'ELLE SINGAPORE\\n', '.\\n', '.\\n', '.\\n', '.\\n', '#Repost @ellesingapore\\n', '.\\n', '.\\n', '.\\n', '.\\n', '.\\n', '📷 credit to owner\\n', '\\n', '#송혜교 #宋慧喬 #宋慧乔\\n', '#SongHyeKyo #HyeKyoSong\\n', '#Songhyegyo #songhuiqiao\\n', '#hyekyo #StandByYouKyo\\n', '#kyo1122 #hyekyo #ซงฮเยคโย\\n', '#koreanactress #kdrama\\n', '@suecommabonnie #슈콤마보니\\n', '@sulwhasoo.official #설화수\\n', '@chaumetofficial #쇼메\\n', '@makeon.kr #메이크온\\n']\n",
            "0\n",
            "['💦💧\\n', '@kyo1122\\n', '우리 오영이처럼 물 많이 드세요~\\n', '건강하고 아름다워집니다😁\\n', '.\\n', '.\\n', '.\\n', '#오영\\n', '#그겨울바람이분다\\n', '#ThatWinterTheWindBlows\\n', '.\\n', '.\\n', '.\\n', '.\\n', '.\\n', 'Cr. Owner\\n', '.\\n', '#송혜교 #宋慧喬 #宋慧乔\\n', '#SongHyeKyo #HyeKyoSong\\n', '#Songhyegyo #songhuiqiao\\n', '#hyekyo #StandByYouKyo\\n', '#kyo1122 #hyekyo #ซงฮเยคโย\\n', '#koreanactress #kdrama\\n', '@suecommabonnie #슈콤마보니\\n', '@sulwhasoo.official #설화수\\n', '@chaumetofficial #쇼메\\n', '@makeon.kr #메이크온\\n']\n",
            "0\n",
            "['💧\\n', '오늘도 더운 하루네요\\n', '혜교님과 여러분 모두 건강 유의하세요💦\\n', '.\\n', '.\\n', '.\\n', '@kyo1122\\n', '.\\n', '.\\n', '.\\n', '.\\n', '.\\n', '.\\n', '📷 credit to owner\\n', '\\n', '#송혜교 #宋慧喬 #宋慧乔\\n', '#SongHyeKyo #HyeKyoSong\\n', '#Songhyegyo #songhuiqiao\\n', '#hyekyo #StandByYouKyo\\n', '#kyo1122 #hyekyo #ซงฮเยคโย\\n', '#koreanactress #kdrama\\n', '@suecommabonnie #슈콤마보니\\n', '@sulwhasoo.official #설화수\\n', '@chaumetofficial #쇼메\\n', '@makeon.kr #메이크온\\n']\n",
            "0\n",
            "['💫181220\\n', '기본 .\\n', '.\\n', '#설화수 #자음수 #자음유액\\n']\n",
            "0\n",
            "['💫\\n', '@kyo1122\\n', '🍪☕️\\n', '\\n', '아름다운 잔상이 오래 남는 사람\\n', '그래서 잊혀지지 않고, 볼수록 계속 보고 싶은 SHK\\n', '\\n', '@sulwhasoo.oftficial #sulwhasoo\\n', '#설화수 #자음생에센스 #자음생크림\\n', '.\\n', '.\\n', '.\\n', '@sulwhasoo.hongkong\\n', 'weibo sulwhasoo\\n', '📷 credit to owner \\n', '\\n', '#송혜교 #宋慧喬 #宋慧乔 \\n', '#SongHyeKyo #HyeKyoSong\\n', '#Songhyegyo #songhuiqiao\\n', '#hyekyo #ซงฮเยคโย #hallyu\\n', '#koreanactress #kdrama\\n', '#AutumnInMyHeart\\n', '#fullhouse #WorldsWithIn\\n', '#ThatWinterTheWindBlows\\n', '#descendantsofthesun\\n', '#encounter\\n']\n",
            "0\n",
            "['💫숨 쉬듯 편안한 사용감과 완벽한 커버력💫\\n', 'ᆞ\\n', 'ᆞ\\n', 'ᆞ\\n', '\\U0001f90e설화수 퍼펙팅 파운데이션\\U0001f90e추천\\n', 'ᆞ\\n', 'ᆞ\\n', 'ᆞ\\n', '#설화수#설화수퍼펙팅파운데이션 #퍼펙팅파운데이션 #완결파데#파운데이션추천 #파운데이션 #커버력좋은파운데이션 #밀착력좋은파운데이션 #퍼펙팅한피부표현#퍼펙팅한지속#퍼펙팅한편안함\\n', '#고커버#고지속#세미매트파운데이션\\n']\n",
            "0\n",
            "['📍Sulwhasoo Flagship Store | 설화수 🇰🇷\\n', '🖋️El otro día les contaba en stories (también hay un vídeo en mi IGTV) sobre la maravillosa experiencia que viví en la flagship store de Sulwhasoo... No , no me auspician ni nada por el estilo por si acaso jajaja... Ojalá lo hicieran jaja😅\\n', '.\\n', '🖋️ Y quería contarles que me inspiró para escribir un post sobre eso...\\n', '.\\n', '🖋️ Ya elegí y arreglé fotos, así que espero estar subiendo el post este fin de semana\\n', '.\\n', '👉 Igual déjenme aquí sus dudas para resolverlas cuando escriba el post! .\\n', 'Saludos 🙋\\n', '.\\n', '.\\n', '.\\n', '.\\n', '.\\n', '.\\n', '.\\n', '#설화수 #sulwhasoo #livebeautifully #createexplore #visit_asia #corea #InstaKorea #koreatour #discoversouthkorea #funtastickorea #koreagram #photogsinkorea #koreablog #koreanculture  #koreabyme #hellokorea #chilenasviajeras #seoulsecret #seoul_korea #seoulsnap #iseoulu #SeoulLife #seoulblogger #globalseoulmate #visitseoul #gsm2020\\u2060 \\u2060\\n', '\\u2060\\n']\n",
            "0\n",
            "['📍\\n', '지난 주말 가족사진 찍으러 가는 길에\\n', '발견한 설화수 플래그십스토어\\n', '-\\n', '#설화문화전2016 보고팠으나\\n', '아쉽게~ 다음기회에~\\n', '-\\n', '#도산공원 #설화수 #팝업스토어 #설화문화전 #견우직녀 \\n', '#은행나무 #단풍 #일상 #데일리\\n']\n",
            "0\n",
            "['📽🎞\\n', '@kyo1122♥️\\n', '영화 시사회 kyo🥤🍿\\n', '.\\n', '.\\n', '.\\n', '. .\\n', '.\\n', '📷 credit to owner old pic\\n', '\\n', '#송혜교 #宋慧喬 #宋慧乔 #宋慧敎\\n', '#SongHyeKyo #HyeKyoSong\\n', '#Songhyegyo #songhuiqiao\\n', '#hyekyo #StandByYouKyo\\n', '#kyo1122 #hyekyo #ซงฮเยคโย\\n', '#koreanactress #kdrama\\n', '@makeon.kr #메이크온\\n', '@chaumetofficial #쇼메\\n', '@sulwhasoo.official #설화수\\n', '@suecommabonnie #슈콤마보니\\n']\n",
            "0\n",
            "['🕊🍑🌈🌺\\n', '@kyo1122\\n', 'MARCH. 2017. W KOREA \\n', 'kyo 저 표정보고 심쿵했던 기억이...\\n', '저 느낌으로 차기작...아니다... 그냥 오기만 해주세요😆🙏🏻\\n', '.\\n', '.\\n', '#유아인 #둘다케미가누구와도멋져\\n', '#멋진동생 #의리의리\\n', '.\\n', '.\\n', '.\\n', 'Cr. Owner\\n', '.\\n', '#송혜교 #宋慧喬 #宋慧敎\\n', '#SongHyeKyo #HyeKyoSong\\n', '#songhuiqiao #StandByYouKyo\\n', '@suecommabonnie #슈콤마보니\\n', '@sulwhasoo.official #설화수\\n', '@chaumetofficial #쇼메\\n', '@makeon.kr #메이크온\\n']\n",
            "0\n",
            "['🕊🐼\\n', '@kyo1122\\n', '판다가 kyo 보는 것 좀 봐~ 역시 아기들이나 강아지 냥이 판다도 미모를 알아보는구나😂😆\\n', '두번째 사진 넘 좋아😍\\n', '.\\n', '송혜교가 아시아 지역에서 갖고 있는 인기와 건강하고 긍정적인 이미지를 인정해 청두 판다기지는 최초로 ‘아시아 판다 친선대사’로 임명했다.\\n', '.\\n', '쓰촨성 청두 방문에서 현재 1900마리 정도만 남아 멸종위기에 있는 판다에 대한 자세한 정보를 듣고 생후 8~9개월 된 판다를 직접 품에 안은채 먹이를 주는 체험을 했다.\\n', '.\\n', '야외 농원으로 들어가 더 많은 판다를 만나 먹이를 주며 시간을 보냈는데 오랫동안 판다를 돌봐오던 관계자들은 “예민한 성격이어서 사람과 좀처럼 접촉하지 않는 판다가 송혜교에게 친근하게 다가가는 것을 보니 판다들도 미인은 알아 보는 것 같다”며 신기해했다.\\n', '.\\n', '청두 판다기지 측은 “지난해 쓰촨성 지진으로 판다들의 또 다른 서식지였던 와룡기지가 파괴돼 현재 복구 기금을 모금하고 있는데 송혜교가 친선대사를 맡아 중국뿐만 아니라 아시아 다른 나라의 도움도 얻을 수 있을 것으로 희망한다”고 밝혔다. 2009.\\n', '.\\n', '.\\n', '.\\n', '.\\n', '#송혜교 #宋慧喬 #宋慧敎 #ซงฮเยคโย\\n', '#SongHyeKyo #HyeKyoSong\\n', '#songhuiqiao #koreanactress \\n', '#kdrama #가을동화 #올인 #풀하우스 \\n', '#그들이사는세상 #그겨울바람이분다\\n', '#태양의후예 #남자친구 #황진이\\n', '#두근두근내인생 #오늘 \\n', '#차기작소취🙏🏻 #UAA\\n', '@sulwhasoo.official #설화수\\n', '@suecommabonnie #슈콤마보니\\n', '@chaumetofficial #쇼메\\n', '@makeon.kr #메이크온\\n']\n",
            "0\n",
            "['😘🤩\\n', '@kyo1122\\n', '서너번 실물 영접하신 해피걸교님 엄청 부럽습니다🤭\\n', 'kyo 연예인의 연예인~\\n', '#이정진 님 뭘 아시네요👍🏻\\n', '.\\n', '.\\n', '#Repost @happygirlkyo(@repost_via_instant) 교♡사랑💖💖💖forever  #송혜교  #Songhyekyo  #Songhuiqiao  #혜교는  그런걸  논하면 안되는 사람\\n', ' #등급외\\n', ' #넘사벽\\n', ' #감히  왜?! #누가안좋아하겠스요\\n', ' #외모까방권  가진  지구인\\n', ' #실물영접  두세번  서너번\\n', ' #내는  봤스\\n', '.\\n', '.\\n', '.\\n', '.\\n', '.\\n', '.\\n', '#송혜교 #宋慧喬 #宋慧敎\\n', '#SongHyeKyo #HyeKyoSong\\n', '#songhuiqiao #StandByYouKyo\\n', '@suecommabonnie #슈콤마보니\\n', '@sulwhasoo.official #설화수\\n', '@chaumetofficial #쇼메\\n', '@makeon.kr #메이크온\\n']\n",
            "0\n",
            "['😙\\n', '@kyo1122🍀\\n', '귀여워 귀여워~🎵\\n', '너무나 귀여워~🎶\\n', '.\\n', '.\\n', '.\\n', '‘그들이 사는 세상’ 제작발표회\\n', '#그들이사는세상\\n', '#WorldsWithIn\\n', '#주준영 \\n', '.\\n', '.\\n', '.\\n', '#차기작어서오기\\n', '#다작으로오기\\n', '.\\n', '.\\n', '.\\n', '📷credit to owner \\n', '\\n', '#송혜교 #宋慧喬 #宋慧乔 \\n', '#SongHyeKyo #HyeKyoSong\\n', '#Songhyegyo #songhuiqiao\\n', '#ซงฮเยคโย #ソンヘギョ #kdrama\\n', '#kmovie #wellmadedrama\\n', '#koreanactress\\n', '@chaumetofficial #쇼메\\n', '@sulwhasoo.official #설화수\\n', '@suecommabonnie #슈콤마보니\\n', '@makeon.kr #메이크온\\n', '#🐈🐕🐬🐘💚\\n']\n",
            "0\n"
          ],
          "name": "stdout"
        }
      ]
    },
    {
      "cell_type": "code",
      "metadata": {
        "colab": {
          "base_uri": "https://localhost:8080/",
          "height": 390
        },
        "id": "dMLMlzmOrTKZ",
        "outputId": "51a50118-422e-4b42-e866-165d95fd6652"
      },
      "source": [
        "keyword=\"클릭!\"\n",
        "result[result['text'].str.contains(keyword)]"
      ],
      "execution_count": null,
      "outputs": [
        {
          "output_type": "execute_result",
          "data": {
            "text/html": [
              "<div>\n",
              "<style scoped>\n",
              "    .dataframe tbody tr th:only-of-type {\n",
              "        vertical-align: middle;\n",
              "    }\n",
              "\n",
              "    .dataframe tbody tr th {\n",
              "        vertical-align: top;\n",
              "    }\n",
              "\n",
              "    .dataframe thead th {\n",
              "        text-align: right;\n",
              "    }\n",
              "</style>\n",
              "<table border=\"1\" class=\"dataframe\">\n",
              "  <thead>\n",
              "    <tr style=\"text-align: right;\">\n",
              "      <th></th>\n",
              "      <th>text</th>\n",
              "      <th>label</th>\n",
              "    </tr>\n",
              "  </thead>\n",
              "  <tbody>\n",
              "    <tr>\n",
              "      <th>2176</th>\n",
              "      <td>['#리그램 @regramkr from @tmon.beauty\\n', '\\n', '...</td>\n",
              "      <td>1</td>\n",
              "    </tr>\n",
              "    <tr>\n",
              "      <th>2535</th>\n",
              "      <td>['#비앙코 #대리석 #대리석컵 #클리어런스세일 들어갑니다!!!✨✨✨\\n', 'A ...</td>\n",
              "      <td>1</td>\n",
              "    </tr>\n",
              "    <tr>\n",
              "      <th>4948</th>\n",
              "      <td>['#티몬뷰티페어 소문내기 #이벤트 🗣\\n', '매일 2개 상품 한정수량!! 파격할...</td>\n",
              "      <td>1</td>\n",
              "    </tr>\n",
              "    <tr>\n",
              "      <th>4949</th>\n",
              "      <td>['#티몬뷰티페어 👸🏼\\n', '#메디힐 #마스크팩 #최저가 470원부터~💃💃\\n'...</td>\n",
              "      <td>1</td>\n",
              "    </tr>\n",
              "    <tr>\n",
              "      <th>5982</th>\n",
              "      <td>['.\\n', '\\n', '회원가입은 귀찮고\\n', '제품구입만 원하시는\\n', '...</td>\n",
              "      <td>1</td>\n",
              "    </tr>\n",
              "    <tr>\n",
              "      <th>8513</th>\n",
              "      <td>['\\u200b\\n', '\\n', ' ❢\\n', '\\n', '\\u200b\\n', '...</td>\n",
              "      <td>1</td>\n",
              "    </tr>\n",
              "    <tr>\n",
              "      <th>11419</th>\n",
              "      <td>['대낮부터 보름달이 떳나 해서 보니까 내 광대였지 뭐람★~(◠‿◕✿)\\n', 'U...</td>\n",
              "      <td>1</td>\n",
              "    </tr>\n",
              "    <tr>\n",
              "      <th>13050</th>\n",
              "      <td>['세월의 흐름에 어쩔수 없이 나이들어 가는 내 피부😭\\n', '내 젊음을 되돌릴 ...</td>\n",
              "      <td>0</td>\n",
              "    </tr>\n",
              "    <tr>\n",
              "      <th>13328</th>\n",
              "      <td>['아름다움에 정해진 시기가 있을까요?💎\\n', '한국 대표 럭셔리 뷰티 브랜드 #...</td>\n",
              "      <td>1</td>\n",
              "    </tr>\n",
              "    <tr>\n",
              "      <th>14402</th>\n",
              "      <td>['요즘 들어 내가 가장 사랑하는 최애템😍\\n', '#아이러브유스세럼크림 !! \\n...</td>\n",
              "      <td>1</td>\n",
              "    </tr>\n",
              "    <tr>\n",
              "      <th>17293</th>\n",
              "      <td>['🙏🏻✨\\n', '👉🏻 @sulwhasoo.culture 로 클릭! \\n', '_...</td>\n",
              "      <td>0</td>\n",
              "    </tr>\n",
              "  </tbody>\n",
              "</table>\n",
              "</div>"
            ],
            "text/plain": [
              "                                                    text  label\n",
              "2176   ['#리그램 @regramkr from @tmon.beauty\\n', '\\n', '...      1\n",
              "2535   ['#비앙코 #대리석 #대리석컵 #클리어런스세일 들어갑니다!!!✨✨✨\\n', 'A ...      1\n",
              "4948   ['#티몬뷰티페어 소문내기 #이벤트 🗣\\n', '매일 2개 상품 한정수량!! 파격할...      1\n",
              "4949   ['#티몬뷰티페어 👸🏼\\n', '#메디힐 #마스크팩 #최저가 470원부터~💃💃\\n'...      1\n",
              "5982   ['.\\n', '\\n', '회원가입은 귀찮고\\n', '제품구입만 원하시는\\n', '...      1\n",
              "8513   ['\\u200b\\n', '\\n', ' ❢\\n', '\\n', '\\u200b\\n', '...      1\n",
              "11419  ['대낮부터 보름달이 떳나 해서 보니까 내 광대였지 뭐람★~(◠‿◕✿)\\n', 'U...      1\n",
              "13050  ['세월의 흐름에 어쩔수 없이 나이들어 가는 내 피부😭\\n', '내 젊음을 되돌릴 ...      0\n",
              "13328  ['아름다움에 정해진 시기가 있을까요?💎\\n', '한국 대표 럭셔리 뷰티 브랜드 #...      1\n",
              "14402  ['요즘 들어 내가 가장 사랑하는 최애템😍\\n', '#아이러브유스세럼크림 !! \\n...      1\n",
              "17293  ['🙏🏻✨\\n', '👉🏻 @sulwhasoo.culture 로 클릭! \\n', '_...      0"
            ]
          },
          "metadata": {
            "tags": []
          },
          "execution_count": 364
        }
      ]
    },
    {
      "cell_type": "code",
      "metadata": {
        "colab": {
          "base_uri": "https://localhost:8080/",
          "height": 390
        },
        "id": "yfHg4IqhRxvm",
        "outputId": "8924dd9a-6a56-47ef-dc21-fbb84721046a"
      },
      "source": [
        "# 특정 컬럼에서 문자열 검색하여 레이블 변경\n",
        "result['label'][result['text'].str.contains(keyword)]=1\n",
        "result[result['text'].str.contains(keyword)]"
      ],
      "execution_count": null,
      "outputs": [
        {
          "output_type": "execute_result",
          "data": {
            "text/html": [
              "<div>\n",
              "<style scoped>\n",
              "    .dataframe tbody tr th:only-of-type {\n",
              "        vertical-align: middle;\n",
              "    }\n",
              "\n",
              "    .dataframe tbody tr th {\n",
              "        vertical-align: top;\n",
              "    }\n",
              "\n",
              "    .dataframe thead th {\n",
              "        text-align: right;\n",
              "    }\n",
              "</style>\n",
              "<table border=\"1\" class=\"dataframe\">\n",
              "  <thead>\n",
              "    <tr style=\"text-align: right;\">\n",
              "      <th></th>\n",
              "      <th>text</th>\n",
              "      <th>label</th>\n",
              "    </tr>\n",
              "  </thead>\n",
              "  <tbody>\n",
              "    <tr>\n",
              "      <th>2176</th>\n",
              "      <td>['#리그램 @regramkr from @tmon.beauty\\n', '\\n', '...</td>\n",
              "      <td>1</td>\n",
              "    </tr>\n",
              "    <tr>\n",
              "      <th>2535</th>\n",
              "      <td>['#비앙코 #대리석 #대리석컵 #클리어런스세일 들어갑니다!!!✨✨✨\\n', 'A ...</td>\n",
              "      <td>1</td>\n",
              "    </tr>\n",
              "    <tr>\n",
              "      <th>4948</th>\n",
              "      <td>['#티몬뷰티페어 소문내기 #이벤트 🗣\\n', '매일 2개 상품 한정수량!! 파격할...</td>\n",
              "      <td>1</td>\n",
              "    </tr>\n",
              "    <tr>\n",
              "      <th>4949</th>\n",
              "      <td>['#티몬뷰티페어 👸🏼\\n', '#메디힐 #마스크팩 #최저가 470원부터~💃💃\\n'...</td>\n",
              "      <td>1</td>\n",
              "    </tr>\n",
              "    <tr>\n",
              "      <th>5982</th>\n",
              "      <td>['.\\n', '\\n', '회원가입은 귀찮고\\n', '제품구입만 원하시는\\n', '...</td>\n",
              "      <td>1</td>\n",
              "    </tr>\n",
              "    <tr>\n",
              "      <th>8513</th>\n",
              "      <td>['\\u200b\\n', '\\n', ' ❢\\n', '\\n', '\\u200b\\n', '...</td>\n",
              "      <td>1</td>\n",
              "    </tr>\n",
              "    <tr>\n",
              "      <th>11419</th>\n",
              "      <td>['대낮부터 보름달이 떳나 해서 보니까 내 광대였지 뭐람★~(◠‿◕✿)\\n', 'U...</td>\n",
              "      <td>1</td>\n",
              "    </tr>\n",
              "    <tr>\n",
              "      <th>13050</th>\n",
              "      <td>['세월의 흐름에 어쩔수 없이 나이들어 가는 내 피부😭\\n', '내 젊음을 되돌릴 ...</td>\n",
              "      <td>1</td>\n",
              "    </tr>\n",
              "    <tr>\n",
              "      <th>13328</th>\n",
              "      <td>['아름다움에 정해진 시기가 있을까요?💎\\n', '한국 대표 럭셔리 뷰티 브랜드 #...</td>\n",
              "      <td>1</td>\n",
              "    </tr>\n",
              "    <tr>\n",
              "      <th>14402</th>\n",
              "      <td>['요즘 들어 내가 가장 사랑하는 최애템😍\\n', '#아이러브유스세럼크림 !! \\n...</td>\n",
              "      <td>1</td>\n",
              "    </tr>\n",
              "    <tr>\n",
              "      <th>17293</th>\n",
              "      <td>['🙏🏻✨\\n', '👉🏻 @sulwhasoo.culture 로 클릭! \\n', '_...</td>\n",
              "      <td>1</td>\n",
              "    </tr>\n",
              "  </tbody>\n",
              "</table>\n",
              "</div>"
            ],
            "text/plain": [
              "                                                    text  label\n",
              "2176   ['#리그램 @regramkr from @tmon.beauty\\n', '\\n', '...      1\n",
              "2535   ['#비앙코 #대리석 #대리석컵 #클리어런스세일 들어갑니다!!!✨✨✨\\n', 'A ...      1\n",
              "4948   ['#티몬뷰티페어 소문내기 #이벤트 🗣\\n', '매일 2개 상품 한정수량!! 파격할...      1\n",
              "4949   ['#티몬뷰티페어 👸🏼\\n', '#메디힐 #마스크팩 #최저가 470원부터~💃💃\\n'...      1\n",
              "5982   ['.\\n', '\\n', '회원가입은 귀찮고\\n', '제품구입만 원하시는\\n', '...      1\n",
              "8513   ['\\u200b\\n', '\\n', ' ❢\\n', '\\n', '\\u200b\\n', '...      1\n",
              "11419  ['대낮부터 보름달이 떳나 해서 보니까 내 광대였지 뭐람★~(◠‿◕✿)\\n', 'U...      1\n",
              "13050  ['세월의 흐름에 어쩔수 없이 나이들어 가는 내 피부😭\\n', '내 젊음을 되돌릴 ...      1\n",
              "13328  ['아름다움에 정해진 시기가 있을까요?💎\\n', '한국 대표 럭셔리 뷰티 브랜드 #...      1\n",
              "14402  ['요즘 들어 내가 가장 사랑하는 최애템😍\\n', '#아이러브유스세럼크림 !! \\n...      1\n",
              "17293  ['🙏🏻✨\\n', '👉🏻 @sulwhasoo.culture 로 클릭! \\n', '_...      1"
            ]
          },
          "metadata": {
            "tags": []
          },
          "execution_count": 365
        }
      ]
    },
    {
      "cell_type": "code",
      "metadata": {
        "id": "vUiYDryUd0La"
      },
      "source": [
        ""
      ],
      "execution_count": null,
      "outputs": []
    }
  ]
}